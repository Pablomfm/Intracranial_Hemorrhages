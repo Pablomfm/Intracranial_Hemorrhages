{
 "cells": [
  {
   "cell_type": "markdown",
   "id": "fd063a34",
   "metadata": {},
   "source": [
    "## <center> INTRACRANIAL HEMORRHAGES DATABASE - RANDOM SURVIVAL FOREST, GRADIENT BOOSTED MODELS & ACCELERATED FAILURE TIME MODEL</center>"
   ]
  },
  {
   "cell_type": "markdown",
   "id": "fccf9032",
   "metadata": {},
   "source": [
    "This Notebook explores models based on **Random Survival Forest** and **Gradient Boosted** techniques, including a parametric approach for survival function estimation, the well-known **Accelerated Failure Time** approach.\n",
    "\n",
    "\n",
    "**1. Load dataset**\n",
    "\n",
    "**2. Random Survival Forests**\n",
    "\n",
    "- **Training**\n",
    "    - Depth of Survival trees.\n",
    "    - Number of base learners.\n",
    "    - Find the optimal hyperparameters.\n",
    "    \n",
    "- **Testing**\n",
    "    - Permutation-based feature importance.\n",
    "    - Bootstrapping confidence intervals.\n",
    "    \n",
    "- **Predicting**\n",
    "\n",
    "\n",
    "**3. Gradient Boosted Model**\n",
    "\n",
    "- **Training**\n",
    "    - **Survival trees**\n",
    "        - Study the optimal number of base learners.\n",
    "        - Find the optimal hyperparameters.\n",
    "    - **Component-wise least squares**\n",
    "        - Study the optimal number of base learners.\n",
    "        - Find the optimal hyperparameters.\n",
    "        \n",
    "- **Testing**\n",
    "    - Feature importance.\n",
    "        - GB tree.\n",
    "        - GB least squares.\n",
    "    - Bootstrapping confidence intervals.\n",
    "\n",
    "    \n",
    "- **Predicting**\n",
    "\n",
    "\n",
    "**4. Accelerated Failure Time Model**\n",
    "\n",
    "- **Training**\n",
    "    - Study the optimal number of base learners.\n",
    "    - Find the optimal hyperparameters.\n",
    "        \n",
    "- **Testing**\n",
    "    - Feature importance.\n",
    "    - Bootstrapping confidence intervals.\n",
    "    \n",
    "- **Predicting**"
   ]
  },
  {
   "cell_type": "markdown",
   "id": "12cbde79",
   "metadata": {},
   "source": [
    "### Import libraries"
   ]
  },
  {
   "cell_type": "code",
   "execution_count": 1,
   "id": "d297ec2e",
   "metadata": {},
   "outputs": [],
   "source": [
    "import numpy as np\n",
    "import pandas as pd\n",
    "from sksurv.util import Surv\n",
    "from sklearn.model_selection import train_test_split, KFold, GridSearchCV\n",
    "from sklearn.inspection import permutation_importance\n",
    "from sksurv.ensemble import RandomSurvivalForest, GradientBoostingSurvivalAnalysis, ComponentwiseGradientBoostingSurvivalAnalysis\n",
    "import matplotlib.pyplot as plt\n",
    "import seaborn as sns\n",
    "from tqdm.notebook import tqdm\n",
    "import random\n",
    "from time import time"
   ]
  },
  {
   "cell_type": "markdown",
   "id": "590b79dc",
   "metadata": {},
   "source": [
    "### 1. Load dataset"
   ]
  },
  {
   "cell_type": "code",
   "execution_count": 2,
   "id": "394e9f63",
   "metadata": {},
   "outputs": [
    {
     "data": {
      "text/html": [
       "<div>\n",
       "<style scoped>\n",
       "    .dataframe tbody tr th:only-of-type {\n",
       "        vertical-align: middle;\n",
       "    }\n",
       "\n",
       "    .dataframe tbody tr th {\n",
       "        vertical-align: top;\n",
       "    }\n",
       "\n",
       "    .dataframe thead th {\n",
       "        text-align: right;\n",
       "    }\n",
       "</style>\n",
       "<table border=\"1\" class=\"dataframe\">\n",
       "  <thead>\n",
       "    <tr style=\"text-align: right;\">\n",
       "      <th></th>\n",
       "      <th>patient</th>\n",
       "      <th>sex</th>\n",
       "      <th>hospital</th>\n",
       "      <th>follow_up</th>\n",
       "      <th>final_outcome</th>\n",
       "      <th>nfamily_medhist</th>\n",
       "      <th>tobacco</th>\n",
       "      <th>n_tobacco</th>\n",
       "      <th>drugs</th>\n",
       "      <th>alcohol</th>\n",
       "      <th>...</th>\n",
       "      <th>rdw</th>\n",
       "      <th>mchc</th>\n",
       "      <th>mpv</th>\n",
       "      <th>mch</th>\n",
       "      <th>inr</th>\n",
       "      <th>fibrinogen</th>\n",
       "      <th>maxfibrinogen</th>\n",
       "      <th>time_between_CT_bloodanalysis</th>\n",
       "      <th>age</th>\n",
       "      <th>survival_days</th>\n",
       "    </tr>\n",
       "  </thead>\n",
       "  <tbody>\n",
       "    <tr>\n",
       "      <th>0</th>\n",
       "      <td>1</td>\n",
       "      <td>1</td>\n",
       "      <td>1.0</td>\n",
       "      <td>2.0</td>\n",
       "      <td>2.0</td>\n",
       "      <td>17</td>\n",
       "      <td>2.0</td>\n",
       "      <td>NaN</td>\n",
       "      <td>0</td>\n",
       "      <td>0</td>\n",
       "      <td>...</td>\n",
       "      <td>17.0</td>\n",
       "      <td>33.0</td>\n",
       "      <td>9.0</td>\n",
       "      <td>28.1</td>\n",
       "      <td>4.21</td>\n",
       "      <td>344.0</td>\n",
       "      <td>618.0</td>\n",
       "      <td>0</td>\n",
       "      <td>74</td>\n",
       "      <td>4</td>\n",
       "    </tr>\n",
       "    <tr>\n",
       "      <th>1</th>\n",
       "      <td>2</td>\n",
       "      <td>2</td>\n",
       "      <td>2.0</td>\n",
       "      <td>0.0</td>\n",
       "      <td>1.0</td>\n",
       "      <td>4</td>\n",
       "      <td>0.0</td>\n",
       "      <td>0.0</td>\n",
       "      <td>0</td>\n",
       "      <td>0</td>\n",
       "      <td>...</td>\n",
       "      <td>14.7</td>\n",
       "      <td>32.5</td>\n",
       "      <td>10.7</td>\n",
       "      <td>29.8</td>\n",
       "      <td>NaN</td>\n",
       "      <td>NaN</td>\n",
       "      <td>1081.0</td>\n",
       "      <td>0</td>\n",
       "      <td>81</td>\n",
       "      <td>2128</td>\n",
       "    </tr>\n",
       "    <tr>\n",
       "      <th>2</th>\n",
       "      <td>3</td>\n",
       "      <td>2</td>\n",
       "      <td>1.0</td>\n",
       "      <td>0.0</td>\n",
       "      <td>0.0</td>\n",
       "      <td>8</td>\n",
       "      <td>0.0</td>\n",
       "      <td>0.0</td>\n",
       "      <td>0</td>\n",
       "      <td>0</td>\n",
       "      <td>...</td>\n",
       "      <td>14.0</td>\n",
       "      <td>33.1</td>\n",
       "      <td>8.7</td>\n",
       "      <td>30.1</td>\n",
       "      <td>3.16</td>\n",
       "      <td>298.0</td>\n",
       "      <td>470.0</td>\n",
       "      <td>0</td>\n",
       "      <td>78</td>\n",
       "      <td>2388</td>\n",
       "    </tr>\n",
       "    <tr>\n",
       "      <th>3</th>\n",
       "      <td>4</td>\n",
       "      <td>2</td>\n",
       "      <td>1.0</td>\n",
       "      <td>2.0</td>\n",
       "      <td>2.0</td>\n",
       "      <td>8</td>\n",
       "      <td>0.0</td>\n",
       "      <td>0.0</td>\n",
       "      <td>0</td>\n",
       "      <td>0</td>\n",
       "      <td>...</td>\n",
       "      <td>15.8</td>\n",
       "      <td>34.1</td>\n",
       "      <td>7.6</td>\n",
       "      <td>19.3</td>\n",
       "      <td>1.09</td>\n",
       "      <td>344.0</td>\n",
       "      <td>344.0</td>\n",
       "      <td>0</td>\n",
       "      <td>79</td>\n",
       "      <td>7</td>\n",
       "    </tr>\n",
       "  </tbody>\n",
       "</table>\n",
       "<p>4 rows × 142 columns</p>\n",
       "</div>"
      ],
      "text/plain": [
       "   patient sex hospital follow_up final_outcome  nfamily_medhist tobacco   \n",
       "0        1   1      1.0       2.0           2.0               17     2.0  \\\n",
       "1        2   2      2.0       0.0           1.0                4     0.0   \n",
       "2        3   2      1.0       0.0           0.0                8     0.0   \n",
       "3        4   2      1.0       2.0           2.0                8     0.0   \n",
       "\n",
       "   n_tobacco drugs alcohol  ...   rdw  mchc   mpv   mch   inr fibrinogen   \n",
       "0        NaN     0       0  ...  17.0  33.0   9.0  28.1  4.21      344.0  \\\n",
       "1        0.0     0       0  ...  14.7  32.5  10.7  29.8   NaN        NaN   \n",
       "2        0.0     0       0  ...  14.0  33.1   8.7  30.1  3.16      298.0   \n",
       "3        0.0     0       0  ...  15.8  34.1   7.6  19.3  1.09      344.0   \n",
       "\n",
       "  maxfibrinogen time_between_CT_bloodanalysis age survival_days  \n",
       "0         618.0                             0  74             4  \n",
       "1        1081.0                             0  81          2128  \n",
       "2         470.0                             0  78          2388  \n",
       "3         344.0                             0  79             7  \n",
       "\n",
       "[4 rows x 142 columns]"
      ]
     },
     "execution_count": 2,
     "metadata": {},
     "output_type": "execute_result"
    }
   ],
   "source": [
    "df= pd.read_hdf('Databases/ICH_database.hdf5')\n",
    "df_metadata= pd.read_csv('Databases/ICH_database_metadata.csv')\n",
    "df.head(4)"
   ]
  },
  {
   "cell_type": "markdown",
   "id": "fdf740be",
   "metadata": {},
   "source": [
    "#### 1.1. Select predictors"
   ]
  },
  {
   "cell_type": "code",
   "execution_count": 3,
   "id": "78c6048b",
   "metadata": {},
   "outputs": [],
   "source": [
    "# Selection of some predictors to have enought sample after removing NaNs\n",
    "predictors= ['sex','nfamily_medhist', 'ht', 'dmellitus', 'dyslipidemia', 'structural_heart_disease',\n",
    "             'neurological_diseases',\n",
    "             'antihypertensives', 'antidiabetics', 'hypolipidemics', 'anticoagulants', 'antiplatelets',\n",
    "             'aspirin', 'cumarinics',\n",
    "             'headache', 'emesis', 'visual_disturbances', 'seizures',\n",
    "             'neurol_signs', 'anisocoria', 'altered_consciousness',\n",
    "             'ruplimb_mimpairment', 'luplimb_mimpairment', 'rlwlimb_mimpairment', 'llwlimb_mimpairment',\n",
    "             'balance_impairment', 'tgcs', 'onset_h',\n",
    "             'primary_ich',\n",
    "             'glucose', 'urea', 'creatinine', 'potasium', 'prothrombin_activity', 'hematocrit', 'maxfibrinogen',\n",
    "             'age']"
   ]
  },
  {
   "cell_type": "code",
   "execution_count": 4,
   "id": "9e6c6d7a",
   "metadata": {},
   "outputs": [],
   "source": [
    "df_X= df[predictors]\n",
    "df_X_nonan= df_X.dropna(axis=0)"
   ]
  },
  {
   "cell_type": "markdown",
   "id": "532d423e",
   "metadata": {},
   "source": [
    "#### 1.2. Define outcomes"
   ]
  },
  {
   "cell_type": "code",
   "execution_count": 5,
   "id": "797d62c4",
   "metadata": {},
   "outputs": [],
   "source": [
    "Status= np.array(df['survival_discharge'] == 0) # old value 0 (death), is changed for new value True or 1 (death)\n",
    "Survival_in_days= np.array(df['survival_days'])"
   ]
  },
  {
   "cell_type": "code",
   "execution_count": 6,
   "id": "89db983b",
   "metadata": {},
   "outputs": [],
   "source": [
    "y= Surv().from_arrays(event=Status, time=Survival_in_days, name_event='Status', name_time='Survival_in_days')\n",
    "y_nonan= y[df_X_nonan.index]"
   ]
  },
  {
   "cell_type": "markdown",
   "id": "a80e390a",
   "metadata": {},
   "source": [
    "### 2. Random Survival Forests"
   ]
  },
  {
   "cell_type": "markdown",
   "id": "d3548d88",
   "metadata": {},
   "source": [
    "- **Training**\n",
    "    - Depth of Survival trees.\n",
    "    - Number of base learners.\n",
    "    - Find the optimal hyperparameters.\n",
    "- **Testing**\n",
    "    - Permutation-based feature importance.\n",
    "    - Bootstrapping confidence intervals.\n",
    "- **Predicting**"
   ]
  },
  {
   "cell_type": "markdown",
   "id": "06f5bfa1",
   "metadata": {},
   "source": [
    "A **Random Survival Forest (RST)** is very similar to a standard Random Forest (RF), the difference is that RST are based on **survival trees**, whose quality of split is measured by the **log-rank** splitting rule, instead of by gini impurity, entropy or information gain. A Random Survival Forest is an ensemble of de-correlated survival tree-based learners. They are considered as one of the best Machine Learning techniques for solving classification an regression problems. Individual trees of the ensemble are built on a different bootstrap sample of the original training data, and at each node, the split criterion is only evaluated for a randomly selected subset of features and thresholds. These two issues ensure de-correlation.\n",
    "\n",
    "Random Survival Forest and their survival trees are based on partitioning the data to make predictions, therefore, standarization or normalization is not required."
   ]
  },
  {
   "cell_type": "markdown",
   "id": "60af0338",
   "metadata": {},
   "source": [
    "### 2.1. Training"
   ]
  },
  {
   "cell_type": "markdown",
   "id": "345838cd",
   "metadata": {},
   "source": [
    "- **Depth of Survival trees**.\n",
    "- **Number of base learners**.\n",
    "- **Find the optimal hyperparameters**."
   ]
  },
  {
   "cell_type": "code",
   "execution_count": 7,
   "id": "e7094580",
   "metadata": {},
   "outputs": [],
   "source": [
    "X_train, X_test, y_train, y_test= train_test_split(df_X_nonan, y_nonan, test_size=0.25, random_state=0)"
   ]
  },
  {
   "cell_type": "markdown",
   "id": "83a91a77",
   "metadata": {},
   "source": [
    "#### 2.1.1. Depth of Survival trees"
   ]
  },
  {
   "cell_type": "markdown",
   "id": "d182bc0b",
   "metadata": {},
   "source": [
    "First of all, train a RSF with maximum depth trees despite they will be overfitted to explore which can be the optimal depth and guide the *GridSearch*."
   ]
  },
  {
   "cell_type": "code",
   "execution_count": 8,
   "id": "53b9d82d",
   "metadata": {},
   "outputs": [
    {
     "name": "stdout",
     "output_type": "stream",
     "text": [
      "RSF c-index: 0.6965\n"
     ]
    }
   ],
   "source": [
    "# Define a Random Survival Forest\n",
    "rsf_depth= RandomSurvivalForest(n_estimators=200,\n",
    "                                max_depth=None,\n",
    "                                min_samples_split=2,\n",
    "                                min_samples_leaf=1,\n",
    "                                bootstrap=True,\n",
    "                                n_jobs=-1,\n",
    "                                random_state=0)\n",
    "\n",
    "# Fit the model\n",
    "rsf_depth.fit(X_train, y_train)\n",
    "\n",
    "# Test on test data\n",
    "c_index= rsf_depth.score(X_test, y_test)\n",
    "print('RSF c-index: %.4f' % (c_index))"
   ]
  },
  {
   "cell_type": "code",
   "execution_count": 9,
   "id": "15114c0f",
   "metadata": {},
   "outputs": [
    {
     "name": "stdout",
     "output_type": "stream",
     "text": [
      "Base learners depth (mean, 95%IC): 9 [6,12] nodes\n"
     ]
    }
   ],
   "source": [
    "st_depths= [st.tree_.max_depth for st in rsf_depth.estimators_]\n",
    "print('Base learners depth (mean, 95%%IC): %.0f [%.0f,%.0f] nodes' % (np.mean(st_depths), (np.mean(st_depths) - 1.96*np.std(st_depths)), (np.mean(st_depths) + 1.96*np.std(st_depths))))"
   ]
  },
  {
   "cell_type": "code",
   "execution_count": 10,
   "id": "cd7f2fd9",
   "metadata": {},
   "outputs": [],
   "source": [
    "rsf_depth2= RandomSurvivalForest(n_estimators=200,\n",
    "                                 min_samples_leaf=1,\n",
    "                                 min_samples_split=8,\n",
    "                                 bootstrap=True,\n",
    "                                 n_jobs=-1,\n",
    "                                 random_state=0,\n",
    "                                 max_samples=int(df_X_nonan.shape[0]/10))\n",
    "\n",
    "param_grid_rsf_depth= {'max_depth': list(range(1,12))}\n",
    "\n",
    "cv= KFold(n_splits=10, shuffle=True, random_state=0)\n",
    "\n",
    "rgcv_depth= GridSearchCV(estimator=rsf_depth2,\n",
    "                         param_grid=param_grid_rsf_depth,\n",
    "                         error_score='raise',\n",
    "                         n_jobs=1,\n",
    "                         cv=cv).fit(df_X_nonan, y_nonan)"
   ]
  },
  {
   "cell_type": "code",
   "execution_count": 11,
   "id": "abba82da",
   "metadata": {},
   "outputs": [
    {
     "data": {
      "image/png": "[encoded data removed]",
      "text/plain": [
       "<Figure size 640x480 with 1 Axes>"
      ]
     },
     "metadata": {},
     "output_type": "display_data"
    }
   ],
   "source": [
    "fig= plt.figure()\n",
    "plt.plot(list(range(1,12)), pd.DataFrame(rgcv_depth.cv_results_)['mean_test_score'])\n",
    "plt.title('Study of the depth (Random Survival Forest)')\n",
    "plt.ylabel('concordance index')\n",
    "plt.xlabel('Depth')\n",
    "plt.grid(True)"
   ]
  },
  {
   "cell_type": "markdown",
   "id": "ee4c081a",
   "metadata": {},
   "source": [
    "#### 2.1.2. Number of base learners"
   ]
  },
  {
   "cell_type": "markdown",
   "id": "3cd3a786",
   "metadata": {},
   "source": [
    "Study the progression of *c-index* when increasing the number of base learners."
   ]
  },
  {
   "cell_type": "code",
   "execution_count": 12,
   "id": "eb24600a",
   "metadata": {},
   "outputs": [],
   "source": [
    "rsf_= RandomSurvivalForest(max_depth=4,\n",
    "                           min_samples_leaf=1,\n",
    "                           min_samples_split=8,\n",
    "                           bootstrap=True,\n",
    "                           n_jobs=-1,\n",
    "                           random_state=0,\n",
    "                           max_samples=int(df_X_nonan.shape[0]/10))\n",
    "\n",
    "param_grid_rsf= {'n_estimators': list(range(100,1000,50))}\n",
    "\n",
    "rgcv_= GridSearchCV(estimator=rsf_,\n",
    "                    param_grid=param_grid_rsf,\n",
    "                    error_score='raise',\n",
    "                    n_jobs=1,\n",
    "                    cv=cv).fit(df_X_nonan, y_nonan)"
   ]
  },
  {
   "cell_type": "code",
   "execution_count": 13,
   "id": "07e0ee45",
   "metadata": {},
   "outputs": [
    {
     "data": {
      "image/png": "[encoded data removed]",
      "text/plain": [
       "<Figure size 640x480 with 1 Axes>"
      ]
     },
     "metadata": {},
     "output_type": "display_data"
    }
   ],
   "source": [
    "fig= plt.figure()\n",
    "plt.plot(list(range(100,1000,50)), pd.DataFrame(rgcv_.cv_results_)['mean_test_score'])\n",
    "plt.title('Study of the number of estimators (Random Survival Forest)')\n",
    "plt.ylabel('concordance index')\n",
    "plt.xlabel('n_estimators')\n",
    "plt.grid(True)"
   ]
  },
  {
   "cell_type": "markdown",
   "id": "3d6f2294",
   "metadata": {},
   "source": [
    "#### 2.1.3. Find the optimal hyperparameters"
   ]
  },
  {
   "cell_type": "markdown",
   "id": "3d013994",
   "metadata": {},
   "source": [
    "Now, find the optimal hyperparameters."
   ]
  },
  {
   "cell_type": "code",
   "execution_count": 14,
   "id": "1bcb4d6a",
   "metadata": {},
   "outputs": [
    {
     "name": "stdout",
     "output_type": "stream",
     "text": [
      "Fitting time: 0.58 min \n",
      "\n",
      "Best hyperparameters:\n",
      "{'max_depth': 4, 'min_samples_leaf': 1, 'min_samples_split': 6, 'n_estimators': 200} \n",
      "\n",
      "Best score: 0.7304\n"
     ]
    }
   ],
   "source": [
    "# Find the optimal Random Survival Forest hyperparameters\n",
    "\n",
    "rsf= RandomSurvivalForest(bootstrap=True, n_jobs=-1, random_state=0, max_samples=int(df_X_nonan.shape[0]/10))\n",
    "\n",
    "\n",
    "param_grid_rsf= {'n_estimators': [200],\n",
    "                 'max_depth': [3,4],\n",
    "                 'min_samples_split': [4,6,8],\n",
    "                 'min_samples_leaf': [1,2]}\n",
    "\n",
    "cv= KFold(n_splits=10, shuffle=True, random_state=0)\n",
    "\n",
    "rgcv= GridSearchCV(estimator=rsf,\n",
    "                   param_grid=param_grid_rsf,\n",
    "                   error_score='raise',\n",
    "                   n_jobs=1,\n",
    "                   cv=cv)\n",
    "\n",
    "\n",
    "t0= time()\n",
    "rgcv.fit(df_X_nonan, y_nonan)\n",
    "time_cv= time() - t0\n",
    "\n",
    "print('Fitting time: %0.2f min'%(time_cv/60), '\\n')\n",
    "print('Best hyperparameters:')\n",
    "print(rgcv.best_params_, '\\n')\n",
    "print('Best score: %.4f' % (rgcv.best_score_))"
   ]
  },
  {
   "cell_type": "code",
   "execution_count": 15,
   "id": "a450d4c9",
   "metadata": {},
   "outputs": [
    {
     "data": {
      "text/html": [
       "<style>#sk-container-id-1 {color: black;background-color: white;}#sk-container-id-1 pre{padding: 0;}#sk-container-id-1 div.sk-toggleable {background-color: white;}#sk-container-id-1 label.sk-toggleable__label {cursor: pointer;display: block;width: 100%;margin-bottom: 0;padding: 0.3em;box-sizing: border-box;text-align: center;}#sk-container-id-1 label.sk-toggleable__label-arrow:before {content: \"▸\";float: left;margin-right: 0.25em;color: #696969;}#sk-container-id-1 label.sk-toggleable__label-arrow:hover:before {color: black;}#sk-container-id-1 div.sk-estimator:hover label.sk-toggleable__label-arrow:before {color: black;}#sk-container-id-1 div.sk-toggleable__content {max-height: 0;max-width: 0;overflow: hidden;text-align: left;background-color: #f0f8ff;}#sk-container-id-1 div.sk-toggleable__content pre {margin: 0.2em;color: black;border-radius: 0.25em;background-color: #f0f8ff;}#sk-container-id-1 input.sk-toggleable__control:checked~div.sk-toggleable__content {max-height: 200px;max-width: 100%;overflow: auto;}#sk-container-id-1 input.sk-toggleable__control:checked~label.sk-toggleable__label-arrow:before {content: \"▾\";}#sk-container-id-1 div.sk-estimator input.sk-toggleable__control:checked~label.sk-toggleable__label {background-color: #d4ebff;}#sk-container-id-1 div.sk-label input.sk-toggleable__control:checked~label.sk-toggleable__label {background-color: #d4ebff;}#sk-container-id-1 input.sk-hidden--visually {border: 0;clip: rect(1px 1px 1px 1px);clip: rect(1px, 1px, 1px, 1px);height: 1px;margin: -1px;overflow: hidden;padding: 0;position: absolute;width: 1px;}#sk-container-id-1 div.sk-estimator {font-family: monospace;background-color: #f0f8ff;border: 1px dotted black;border-radius: 0.25em;box-sizing: border-box;margin-bottom: 0.5em;}#sk-container-id-1 div.sk-estimator:hover {background-color: #d4ebff;}#sk-container-id-1 div.sk-parallel-item::after {content: \"\";width: 100%;border-bottom: 1px solid gray;flex-grow: 1;}#sk-container-id-1 div.sk-label:hover label.sk-toggleable__label {background-color: #d4ebff;}#sk-container-id-1 div.sk-serial::before {content: \"\";position: absolute;border-left: 1px solid gray;box-sizing: border-box;top: 0;bottom: 0;left: 50%;z-index: 0;}#sk-container-id-1 div.sk-serial {display: flex;flex-direction: column;align-items: center;background-color: white;padding-right: 0.2em;padding-left: 0.2em;position: relative;}#sk-container-id-1 div.sk-item {position: relative;z-index: 1;}#sk-container-id-1 div.sk-parallel {display: flex;align-items: stretch;justify-content: center;background-color: white;position: relative;}#sk-container-id-1 div.sk-item::before, #sk-container-id-1 div.sk-parallel-item::before {content: \"\";position: absolute;border-left: 1px solid gray;box-sizing: border-box;top: 0;bottom: 0;left: 50%;z-index: -1;}#sk-container-id-1 div.sk-parallel-item {display: flex;flex-direction: column;z-index: 1;position: relative;background-color: white;}#sk-container-id-1 div.sk-parallel-item:first-child::after {align-self: flex-end;width: 50%;}#sk-container-id-1 div.sk-parallel-item:last-child::after {align-self: flex-start;width: 50%;}#sk-container-id-1 div.sk-parallel-item:only-child::after {width: 0;}#sk-container-id-1 div.sk-dashed-wrapped {border: 1px dashed gray;margin: 0 0.4em 0.5em 0.4em;box-sizing: border-box;padding-bottom: 0.4em;background-color: white;}#sk-container-id-1 div.sk-label label {font-family: monospace;font-weight: bold;display: inline-block;line-height: 1.2em;}#sk-container-id-1 div.sk-label-container {text-align: center;}#sk-container-id-1 div.sk-container {/* jupyter's `normalize.less` sets `[hidden] { display: none; }` but bootstrap.min.css set `[hidden] { display: none !important; }` so we also need the `!important` here to be able to override the default hidden behavior on the sphinx rendered scikit-learn.org. See: https://github.com/scikit-learn/scikit-learn/issues/21755 */display: inline-block !important;position: relative;}#sk-container-id-1 div.sk-text-repr-fallback {display: none;}</style><div id=\"sk-container-id-1\" class=\"sk-top-container\"><div class=\"sk-text-repr-fallback\"><pre>RandomSurvivalForest(max_depth=4, max_samples=96, min_samples_leaf=1,\n",
       "                     n_estimators=200, n_jobs=-1, random_state=0)</pre><b>In a Jupyter environment, please rerun this cell to show the HTML representation or trust the notebook. <br />On GitHub, the HTML representation is unable to render, please try loading this page with nbviewer.org.</b></div><div class=\"sk-container\" hidden><div class=\"sk-item\"><div class=\"sk-estimator sk-toggleable\"><input class=\"sk-toggleable__control sk-hidden--visually\" id=\"sk-estimator-id-1\" type=\"checkbox\" checked><label for=\"sk-estimator-id-1\" class=\"sk-toggleable__label sk-toggleable__label-arrow\">RandomSurvivalForest</label><div class=\"sk-toggleable__content\"><pre>RandomSurvivalForest(max_depth=4, max_samples=96, min_samples_leaf=1,\n",
       "                     n_estimators=200, n_jobs=-1, random_state=0)</pre></div></div></div></div></div>"
      ],
      "text/plain": [
       "RandomSurvivalForest(max_depth=4, max_samples=96, min_samples_leaf=1,\n",
       "                     n_estimators=200, n_jobs=-1, random_state=0)"
      ]
     },
     "execution_count": 15,
     "metadata": {},
     "output_type": "execute_result"
    }
   ],
   "source": [
    "# Final model\n",
    "model_rsf= RandomSurvivalForest(bootstrap=True, n_jobs=-1, random_state=0, max_samples=int(X_train.shape[0]))\n",
    "model_rsf.set_params(**rgcv.best_params_)\n",
    "model_rsf.fit(X_train, y_train)"
   ]
  },
  {
   "cell_type": "markdown",
   "id": "85404107",
   "metadata": {},
   "source": [
    "### 2.2. Testing"
   ]
  },
  {
   "cell_type": "markdown",
   "id": "c1d3c86e",
   "metadata": {},
   "source": [
    "- **Permutation-based feature importance**.\n",
    "- **Bootstrapping confidence intervals**."
   ]
  },
  {
   "cell_type": "markdown",
   "id": "47a8793d",
   "metadata": {},
   "source": [
    "#### 2.2.1. Permutation based feature importance"
   ]
  },
  {
   "cell_type": "markdown",
   "id": "65716ccc",
   "metadata": {},
   "source": [
    "**Permutation feature importance** measures the increase in the prediction error of the model after the permutation of feature's values by random shuffling."
   ]
  },
  {
   "cell_type": "code",
   "execution_count": 16,
   "id": "c4615385",
   "metadata": {},
   "outputs": [
    {
     "data": {
      "text/html": [
       "<div>\n",
       "<style scoped>\n",
       "    .dataframe tbody tr th:only-of-type {\n",
       "        vertical-align: middle;\n",
       "    }\n",
       "\n",
       "    .dataframe tbody tr th {\n",
       "        vertical-align: top;\n",
       "    }\n",
       "\n",
       "    .dataframe thead th {\n",
       "        text-align: right;\n",
       "    }\n",
       "</style>\n",
       "<table border=\"1\" class=\"dataframe\">\n",
       "  <thead>\n",
       "    <tr style=\"text-align: right;\">\n",
       "      <th></th>\n",
       "      <th>importances_mean</th>\n",
       "      <th>importances_std</th>\n",
       "    </tr>\n",
       "  </thead>\n",
       "  <tbody>\n",
       "    <tr>\n",
       "      <th>tgcs</th>\n",
       "      <td>0.072305</td>\n",
       "      <td>0.040900</td>\n",
       "    </tr>\n",
       "    <tr>\n",
       "      <th>onset_h</th>\n",
       "      <td>0.066667</td>\n",
       "      <td>0.040532</td>\n",
       "    </tr>\n",
       "    <tr>\n",
       "      <th>urea</th>\n",
       "      <td>0.032504</td>\n",
       "      <td>0.015507</td>\n",
       "    </tr>\n",
       "    <tr>\n",
       "      <th>glucose</th>\n",
       "      <td>0.021891</td>\n",
       "      <td>0.039543</td>\n",
       "    </tr>\n",
       "    <tr>\n",
       "      <th>antihypertensives</th>\n",
       "      <td>0.014925</td>\n",
       "      <td>0.004806</td>\n",
       "    </tr>\n",
       "    <tr>\n",
       "      <th>neurological_diseases</th>\n",
       "      <td>0.012272</td>\n",
       "      <td>0.025032</td>\n",
       "    </tr>\n",
       "    <tr>\n",
       "      <th>altered_consciousness</th>\n",
       "      <td>0.007297</td>\n",
       "      <td>0.007005</td>\n",
       "    </tr>\n",
       "    <tr>\n",
       "      <th>antiplatelets</th>\n",
       "      <td>0.006965</td>\n",
       "      <td>0.002437</td>\n",
       "    </tr>\n",
       "    <tr>\n",
       "      <th>antidiabetics</th>\n",
       "      <td>0.006633</td>\n",
       "      <td>0.006466</td>\n",
       "    </tr>\n",
       "    <tr>\n",
       "      <th>ht</th>\n",
       "      <td>0.006302</td>\n",
       "      <td>0.003382</td>\n",
       "    </tr>\n",
       "    <tr>\n",
       "      <th>neurol_signs</th>\n",
       "      <td>0.005307</td>\n",
       "      <td>0.003382</td>\n",
       "    </tr>\n",
       "    <tr>\n",
       "      <th>primary_ich</th>\n",
       "      <td>0.004312</td>\n",
       "      <td>0.004008</td>\n",
       "    </tr>\n",
       "    <tr>\n",
       "      <th>dmellitus</th>\n",
       "      <td>0.002985</td>\n",
       "      <td>0.003541</td>\n",
       "    </tr>\n",
       "    <tr>\n",
       "      <th>ruplimb_mimpairment</th>\n",
       "      <td>0.002322</td>\n",
       "      <td>0.003076</td>\n",
       "    </tr>\n",
       "    <tr>\n",
       "      <th>prothrombin_activity</th>\n",
       "      <td>0.002322</td>\n",
       "      <td>0.004760</td>\n",
       "    </tr>\n",
       "    <tr>\n",
       "      <th>aspirin</th>\n",
       "      <td>0.001990</td>\n",
       "      <td>0.003040</td>\n",
       "    </tr>\n",
       "    <tr>\n",
       "      <th>balance_impairment</th>\n",
       "      <td>0.001658</td>\n",
       "      <td>0.002345</td>\n",
       "    </tr>\n",
       "    <tr>\n",
       "      <th>emesis</th>\n",
       "      <td>0.001658</td>\n",
       "      <td>0.002345</td>\n",
       "    </tr>\n",
       "    <tr>\n",
       "      <th>anisocoria</th>\n",
       "      <td>0.001327</td>\n",
       "      <td>0.004248</td>\n",
       "    </tr>\n",
       "    <tr>\n",
       "      <th>structural_heart_disease</th>\n",
       "      <td>0.001327</td>\n",
       "      <td>0.002853</td>\n",
       "    </tr>\n",
       "    <tr>\n",
       "      <th>headache</th>\n",
       "      <td>0.000995</td>\n",
       "      <td>0.001990</td>\n",
       "    </tr>\n",
       "    <tr>\n",
       "      <th>cumarinics</th>\n",
       "      <td>0.000995</td>\n",
       "      <td>0.001990</td>\n",
       "    </tr>\n",
       "    <tr>\n",
       "      <th>luplimb_mimpairment</th>\n",
       "      <td>0.000332</td>\n",
       "      <td>0.002853</td>\n",
       "    </tr>\n",
       "    <tr>\n",
       "      <th>rlwlimb_mimpairment</th>\n",
       "      <td>0.000332</td>\n",
       "      <td>0.004248</td>\n",
       "    </tr>\n",
       "    <tr>\n",
       "      <th>hematocrit</th>\n",
       "      <td>-0.000332</td>\n",
       "      <td>0.017563</td>\n",
       "    </tr>\n",
       "    <tr>\n",
       "      <th>llwlimb_mimpairment</th>\n",
       "      <td>-0.001327</td>\n",
       "      <td>0.007144</td>\n",
       "    </tr>\n",
       "    <tr>\n",
       "      <th>creatinine</th>\n",
       "      <td>-0.002985</td>\n",
       "      <td>0.010562</td>\n",
       "    </tr>\n",
       "    <tr>\n",
       "      <th>sex</th>\n",
       "      <td>-0.003317</td>\n",
       "      <td>0.009555</td>\n",
       "    </tr>\n",
       "    <tr>\n",
       "      <th>age</th>\n",
       "      <td>-0.003648</td>\n",
       "      <td>0.015677</td>\n",
       "    </tr>\n",
       "    <tr>\n",
       "      <th>nfamily_medhist</th>\n",
       "      <td>-0.006302</td>\n",
       "      <td>0.011698</td>\n",
       "    </tr>\n",
       "    <tr>\n",
       "      <th>anticoagulants</th>\n",
       "      <td>-0.006633</td>\n",
       "      <td>0.004691</td>\n",
       "    </tr>\n",
       "    <tr>\n",
       "      <th>maxfibrinogen</th>\n",
       "      <td>-0.007297</td>\n",
       "      <td>0.019723</td>\n",
       "    </tr>\n",
       "    <tr>\n",
       "      <th>potasium</th>\n",
       "      <td>-0.012935</td>\n",
       "      <td>0.031924</td>\n",
       "    </tr>\n",
       "  </tbody>\n",
       "</table>\n",
       "</div>"
      ],
      "text/plain": [
       "                          importances_mean  importances_std\n",
       "tgcs                              0.072305         0.040900\n",
       "onset_h                           0.066667         0.040532\n",
       "urea                              0.032504         0.015507\n",
       "glucose                           0.021891         0.039543\n",
       "antihypertensives                 0.014925         0.004806\n",
       "neurological_diseases             0.012272         0.025032\n",
       "altered_consciousness             0.007297         0.007005\n",
       "antiplatelets                     0.006965         0.002437\n",
       "antidiabetics                     0.006633         0.006466\n",
       "ht                                0.006302         0.003382\n",
       "neurol_signs                      0.005307         0.003382\n",
       "primary_ich                       0.004312         0.004008\n",
       "dmellitus                         0.002985         0.003541\n",
       "ruplimb_mimpairment               0.002322         0.003076\n",
       "prothrombin_activity              0.002322         0.004760\n",
       "aspirin                           0.001990         0.003040\n",
       "balance_impairment                0.001658         0.002345\n",
       "emesis                            0.001658         0.002345\n",
       "anisocoria                        0.001327         0.004248\n",
       "structural_heart_disease          0.001327         0.002853\n",
       "headache                          0.000995         0.001990\n",
       "cumarinics                        0.000995         0.001990\n",
       "luplimb_mimpairment               0.000332         0.002853\n",
       "rlwlimb_mimpairment               0.000332         0.004248\n",
       "hematocrit                       -0.000332         0.017563\n",
       "llwlimb_mimpairment              -0.001327         0.007144\n",
       "creatinine                       -0.002985         0.010562\n",
       "sex                              -0.003317         0.009555\n",
       "age                              -0.003648         0.015677\n",
       "nfamily_medhist                  -0.006302         0.011698\n",
       "anticoagulants                   -0.006633         0.004691\n",
       "maxfibrinogen                    -0.007297         0.019723\n",
       "potasium                         -0.012935         0.031924"
      ]
     },
     "execution_count": 16,
     "metadata": {},
     "output_type": "execute_result"
    }
   ],
   "source": [
    "result= permutation_importance(model_rsf, X_test, y_test, n_repeats=15, random_state=0)\n",
    "\n",
    "df_result=pd.DataFrame(data={'importances_mean': result['importances_mean'],\n",
    "                             'importances_std':  result['importances_std']},\n",
    "                       index=X_test.columns).sort_values(by='importances_mean', ascending=False)\n",
    "\n",
    "df_result[df_result['importances_mean'] != 0]"
   ]
  },
  {
   "cell_type": "markdown",
   "id": "560be4b0",
   "metadata": {},
   "source": [
    "The result shows that total Glasgow Coma Scale (*tgcs*), and evolution hours from the onset (*onset_h*) are by far the most important features. If their relationship to survival time is removed (by random shuffling), the concordance index on the test data drops on average by 0.072305, and 0.066667 points, respectively."
   ]
  },
  {
   "cell_type": "markdown",
   "id": "37b7c3d7",
   "metadata": {},
   "source": [
    "#### 2.2.2. Bootstrapping confidence intervals"
   ]
  },
  {
   "cell_type": "code",
   "execution_count": 17,
   "id": "d3ef157b",
   "metadata": {},
   "outputs": [],
   "source": [
    "def boots_rsf (x, y, train_size, n_iterations, params_, alpha):\n",
    "    \n",
    "    idx= list(range(x.shape[0]))\n",
    "    train_size= int(x.shape[0]*train_size)\n",
    "    \n",
    "    test_cindex= []\n",
    "\n",
    "    for i in tqdm(range(n_iterations)):        \n",
    "        idx_train= random.choices(idx, k=train_size) # samples with replacement\n",
    "        idx_test= list(set(idx) - set(idx_train)) # samples will have different size, because of training sample replacement\n",
    "        \n",
    "        rsf= RandomSurvivalForest(bootstrap=True, n_jobs=-1, random_state=0, max_samples=train_size)\n",
    "        rsf.set_params(**params_)\n",
    "        \n",
    "        rsf.fit(x.values[idx_train,], y[idx_train])\n",
    "        \n",
    "        cindex= rsf.score (x.values[idx_test], y[idx_test])\n",
    "        test_cindex.append(cindex)\n",
    "                \n",
    "    # confidence intervals\n",
    "    pl= alpha/2*100\n",
    "    pu= ((1-alpha) + (alpha/2))*100\n",
    "    \n",
    "    cindex_median= np.median(test_cindex)\n",
    "    cindex_lower= max(0.0, np.percentile(test_cindex, pl))\n",
    "    cindex_upper= min(1.0, np.percentile(test_cindex, pu))\n",
    "    \n",
    "    return (test_cindex, (cindex_median,cindex_lower,cindex_upper))"
   ]
  },
  {
   "cell_type": "code",
   "execution_count": 18,
   "id": "e3a19ac0",
   "metadata": {},
   "outputs": [
    {
     "data": {
      "application/vnd.jupyter.widget-view+json": {
       "model_id": "3abc97302a39497c9879f093b8d7b599",
       "version_major": 2,
       "version_minor": 0
      },
      "text/plain": [
       "  0%|          | 0/10000 [00:00<?, ?it/s]"
      ]
     },
     "metadata": {},
     "output_type": "display_data"
    }
   ],
   "source": [
    "model_rsf_cindex, model_rsf_ci= boots_rsf (x=df_X_nonan, y=y_nonan, train_size=0.8, params_=rgcv.best_params_, n_iterations=10000, alpha=0.05)"
   ]
  },
  {
   "cell_type": "code",
   "execution_count": 19,
   "id": "5aa9947d",
   "metadata": {},
   "outputs": [
    {
     "data": {
      "text/plain": [
       "Text(0.5, 1.0, 'Model RSF: 0.65, 95%CI 0.53 and 0.77')"
      ]
     },
     "execution_count": 19,
     "metadata": {},
     "output_type": "execute_result"
    },
    {
     "data": {
      "image/png": "[encoded data removed]",
      "text/plain": [
       "<Figure size 600x400 with 1 Axes>"
      ]
     },
     "metadata": {},
     "output_type": "display_data"
    }
   ],
   "source": [
    "fig,ax= plt.subplots(1,1, figsize=(6,4))\n",
    "sns.histplot(model_rsf_cindex, ax=ax)\n",
    "\n",
    "alpha= 0.05\n",
    "ax.set_title('Model RSF: %.2f, %.0f%%CI %.2f and %.2f' % (model_rsf_ci[0], (1-alpha)*100, model_rsf_ci[1], model_rsf_ci[2]))"
   ]
  },
  {
   "cell_type": "markdown",
   "id": "4d6fded6",
   "metadata": {},
   "source": [
    "### 2.3. Predicting"
   ]
  },
  {
   "cell_type": "markdown",
   "id": "14c52ad1",
   "metadata": {},
   "source": [
    "Random Survival Forest predictions are performed by aggregating predictions of individual trees in the ensemble. RSF can give a **non-parametrical** estimation of the **survival and cumulative hazard functions** using the **Kaplan-Meier** and **Nelson-Aalen** estimator, respectively. Risk scores can also be computed as terminal nodes have a expected number of events."
   ]
  },
  {
   "cell_type": "code",
   "execution_count": 20,
   "id": "895d99f1",
   "metadata": {
    "scrolled": false
   },
   "outputs": [
    {
     "data": {
      "text/html": [
       "<div>\n",
       "<style scoped>\n",
       "    .dataframe tbody tr th:only-of-type {\n",
       "        vertical-align: middle;\n",
       "    }\n",
       "\n",
       "    .dataframe tbody tr th {\n",
       "        vertical-align: top;\n",
       "    }\n",
       "\n",
       "    .dataframe thead th {\n",
       "        text-align: right;\n",
       "    }\n",
       "</style>\n",
       "<table border=\"1\" class=\"dataframe\">\n",
       "  <thead>\n",
       "    <tr style=\"text-align: right;\">\n",
       "      <th></th>\n",
       "      <th>Predicted risk scored</th>\n",
       "      <th>Labels</th>\n",
       "    </tr>\n",
       "    <tr>\n",
       "      <th>Patients</th>\n",
       "      <th></th>\n",
       "      <th></th>\n",
       "    </tr>\n",
       "  </thead>\n",
       "  <tbody>\n",
       "    <tr>\n",
       "      <th>2</th>\n",
       "      <td>3.733514</td>\n",
       "      <td>(True, 19.0)</td>\n",
       "    </tr>\n",
       "    <tr>\n",
       "      <th>4</th>\n",
       "      <td>1.614283</td>\n",
       "      <td>(False, 2271.0)</td>\n",
       "    </tr>\n",
       "    <tr>\n",
       "      <th>14</th>\n",
       "      <td>1.897647</td>\n",
       "      <td>(False, 1816.0)</td>\n",
       "    </tr>\n",
       "  </tbody>\n",
       "</table>\n",
       "</div>"
      ],
      "text/plain": [
       "          Predicted risk scored           Labels\n",
       "Patients                                        \n",
       "2                      3.733514     (True, 19.0)\n",
       "4                      1.614283  (False, 2271.0)\n",
       "14                     1.897647  (False, 1816.0)"
      ]
     },
     "execution_count": 20,
     "metadata": {},
     "output_type": "execute_result"
    }
   ],
   "source": [
    "# Predict risk scores\n",
    "patients= [2,4,14]\n",
    "pd.DataFrame(data={'Predicted risk scored': model_rsf.predict(X_test.iloc[patients]),\n",
    "                   'Labels':y_test[patients].tolist()},\n",
    "             index=pd.Index(data=patients, name='Patients'))"
   ]
  },
  {
   "cell_type": "code",
   "execution_count": 21,
   "id": "163d1cf1",
   "metadata": {},
   "outputs": [
    {
     "data": {
      "image/png": "[encoded data removed]",
      "text/plain": [
       "<Figure size 1000x400 with 2 Axes>"
      ]
     },
     "metadata": {},
     "output_type": "display_data"
    }
   ],
   "source": [
    "# Predict Survival function and Cumulative Hazard function\n",
    "patients= [2,4,14]\n",
    "\n",
    "pred_surv= model_rsf.predict_survival_function(X_test.iloc[patients])\n",
    "pred_hazard= model_rsf.predict_cumulative_hazard_function(X_test.iloc[patients])\n",
    "\n",
    "\n",
    "fig, axs= plt.subplots(1,2, figsize=(10,4))\n",
    "\n",
    "for i, s in enumerate(pred_surv):\n",
    "    axs[0].step(s.x, s.y, where='post', label=str(patients[i]) + ' ' + str(y_test[patients[i]]))\n",
    "    \n",
    "for i, s in enumerate(pred_hazard):\n",
    "    axs[1].step(s.x, s.y, where='post', label=str(patients[i]) + ' ' + str(y_test[patients[i]]))\n",
    "\n",
    "axs[0].set_title('Survival function $S(t)$', fontsize=14)\n",
    "axs[1].set_title('Cumulative hazard function $H(t)$', fontsize=14)\n",
    "leg1= axs[0].legend(title='Patient'); leg1._legend_box.align= 'left'\n",
    "leg2= axs[1].legend(title='Patient'); leg2._legend_box.align= 'left'"
   ]
  },
  {
   "cell_type": "markdown",
   "id": "125fd03e",
   "metadata": {},
   "source": [
    "### 3. Gradient Boosted Model"
   ]
  },
  {
   "cell_type": "markdown",
   "id": "f6391068",
   "metadata": {},
   "source": [
    "- **Training**\n",
    "    - **Survival trees**\n",
    "        - Study the optimal number of base learners.\n",
    "        - Find the optimal hyperparameters.\n",
    "    - **Component-wise least squares**\n",
    "        - Study the optimal number of base learners.\n",
    "        - Find the optimal hyperparameters.\n",
    "        \n",
    "- **Testing**\n",
    "    - Feature importance.\n",
    "        - GB tree.\n",
    "        - GB least squares.\n",
    "    - Bootstrapping confidence intervals.\n",
    "    \n",
    "- **Predicting**"
   ]
  },
  {
   "cell_type": "markdown",
   "id": "a9a60e02",
   "metadata": {},
   "source": [
    "**Gradient boosting (GB)** is a machine learning technique able to optimize a differentiable loss function by building a model based on multiple stepwise *base learners*. Although any model can be used, in this project *survival trees* and *least squares estimators* are used as base learners. The base learners are often very simple models that are only slightly better than random guessing, which is why they are also referred to as weak learners. The predictions are combined in an additive manner, where the addition of each base model improves (or “boosts”) the overall model.\n",
    "\n",
    "A gradient boosted model is similar to a RSF, in the sense that it relies on multiple base learners to produce an overall prediction, but differs in how those are combined. While a RSF fits a set of survival trees independently and then averages their predictions, a GB model is constructed sequentially in a greedy stagewise fashion."
   ]
  },
  {
   "cell_type": "markdown",
   "id": "c71d533f",
   "metadata": {},
   "source": [
    "### 3.1. Training"
   ]
  },
  {
   "cell_type": "markdown",
   "id": "fec55cba",
   "metadata": {},
   "source": [
    "- **Survival trees**\n",
    "    - Study the optimal number of base learners.\n",
    "    - Find the optimal hyperparameters.\n",
    "- **Component-wise least squares**\n",
    "    - Study the optimal number of base learners.\n",
    "    - Find the optimal hyperparameters.\n",
    "\n",
    "\n",
    "GB models can be based on different base learnears. In this project two are used:\n",
    "   - Survival trees\n",
    "   - Component-wise least squares.\n",
    "\n",
    "The loss function used is the **partial likelihood loss of Cox’s proportional hazards regression**. Therefore, the objective is to maximize the log partial likelihood function, but replacing the traditional linear model with the additive model."
   ]
  },
  {
   "cell_type": "code",
   "execution_count": 22,
   "id": "026d3393",
   "metadata": {},
   "outputs": [],
   "source": [
    "X_train, X_test, y_train, y_test= train_test_split(df_X_nonan, y_nonan, test_size=0.25, random_state=0)"
   ]
  },
  {
   "cell_type": "markdown",
   "id": "8b6a3e7a",
   "metadata": {},
   "source": [
    "#### 3.1.1. Survival trees"
   ]
  },
  {
   "cell_type": "markdown",
   "id": "1d0495ee",
   "metadata": {},
   "source": [
    "- **Study the optimal number of base learners**.\n",
    "- **Find the optimal hyperparameters**."
   ]
  },
  {
   "cell_type": "markdown",
   "id": "e9473f08",
   "metadata": {},
   "source": [
    "##### 3.1.1.1. Study the optimal number of base learners"
   ]
  },
  {
   "cell_type": "markdown",
   "id": "a7388ef4",
   "metadata": {},
   "source": [
    "Find the optimal number of base learners to guide the *GridSearch*."
   ]
  },
  {
   "cell_type": "code",
   "execution_count": 23,
   "id": "34955659",
   "metadata": {},
   "outputs": [],
   "source": [
    "# Find the optimal number of base learners\n",
    "scores_gb_cph_tree= {}\n",
    "\n",
    "gb_cph_tree_= GradientBoostingSurvivalAnalysis(loss='coxph',\n",
    "                                               learning_rate=0.5,\n",
    "                                               min_samples_split=2,\n",
    "                                               min_samples_leaf=1,\n",
    "                                               max_depth=4,\n",
    "                                               subsample=1,\n",
    "                                               criterion='friedman_mse',\n",
    "                                               random_state=0)\n",
    "\n",
    "for i in range(1, 31):\n",
    "    n_estimators= i * 5\n",
    "    gb_cph_tree_.set_params(n_estimators=n_estimators)\n",
    "    gb_cph_tree_.fit(X_train, y_train)\n",
    "    scores_gb_cph_tree[n_estimators]= gb_cph_tree_.score(X_test, y_test)"
   ]
  },
  {
   "cell_type": "code",
   "execution_count": 24,
   "id": "3444b6e6",
   "metadata": {},
   "outputs": [
    {
     "data": {
      "image/png": "[encoded data removed]",
      "text/plain": [
       "<Figure size 640x480 with 1 Axes>"
      ]
     },
     "metadata": {},
     "output_type": "display_data"
    }
   ],
   "source": [
    "x, y= zip(*scores_gb_cph_tree.items())\n",
    "plt.plot(x, y)\n",
    "plt.title('Study of the number of base learners (GB trees)')\n",
    "plt.xlabel('n_estimator')\n",
    "plt.ylabel('concordance index')\n",
    "plt.grid(True)"
   ]
  },
  {
   "cell_type": "markdown",
   "id": "c81709a8",
   "metadata": {},
   "source": [
    "##### 3.1.1.2. Find the optimal hyperparameters"
   ]
  },
  {
   "cell_type": "markdown",
   "id": "c74057da",
   "metadata": {},
   "source": [
    "Find the optimal hyperparameters."
   ]
  },
  {
   "cell_type": "code",
   "execution_count": 25,
   "id": "367c32db",
   "metadata": {},
   "outputs": [
    {
     "name": "stdout",
     "output_type": "stream",
     "text": [
      "Fitting time: 1.58 min \n",
      "\n",
      "Best hyperparameters:\n",
      "{'learning_rate': 0.8, 'max_depth': 3, 'min_samples_leaf': 1, 'min_samples_split': 4, 'n_estimators': 40} \n",
      "\n",
      "Best score: 0.7353\n"
     ]
    }
   ],
   "source": [
    "# Find the optimal Gradient Boosted Model hyperparameters\n",
    "\n",
    "gb_cph_tree= GradientBoostingSurvivalAnalysis(loss='coxph', subsample=1, criterion='friedman_mse', random_state=0)\n",
    "\n",
    "\n",
    "param_grid_gb_cph_tree= {'n_estimators': [20,40,60],\n",
    "                         'learning_rate': [0.1,0.5,0.8],\n",
    "                         'min_samples_split': [2,3,4],\n",
    "                         'min_samples_leaf': [1,2],\n",
    "                         'max_depth': [3,4,5]}\n",
    "\n",
    "\n",
    "gb_cph_tree_gcv= GridSearchCV(estimator=gb_cph_tree,\n",
    "                              param_grid=param_grid_gb_cph_tree,\n",
    "                              error_score='raise',\n",
    "                              n_jobs=1,\n",
    "                              cv=cv)\n",
    "\n",
    "\n",
    "t0= time()\n",
    "gb_cph_tree_gcv.fit(df_X_nonan, y_nonan)\n",
    "time_cv= time() - t0\n",
    "\n",
    "print('Fitting time: %0.2f min'%(time_cv/60), '\\n')\n",
    "print('Best hyperparameters:')\n",
    "print(gb_cph_tree_gcv.best_params_, '\\n')\n",
    "print('Best score: %.4f' % (gb_cph_tree_gcv.best_score_))"
   ]
  },
  {
   "cell_type": "code",
   "execution_count": 26,
   "id": "754ff35f",
   "metadata": {},
   "outputs": [
    {
     "data": {
      "text/html": [
       "<style>#sk-container-id-2 {color: black;background-color: white;}#sk-container-id-2 pre{padding: 0;}#sk-container-id-2 div.sk-toggleable {background-color: white;}#sk-container-id-2 label.sk-toggleable__label {cursor: pointer;display: block;width: 100%;margin-bottom: 0;padding: 0.3em;box-sizing: border-box;text-align: center;}#sk-container-id-2 label.sk-toggleable__label-arrow:before {content: \"▸\";float: left;margin-right: 0.25em;color: #696969;}#sk-container-id-2 label.sk-toggleable__label-arrow:hover:before {color: black;}#sk-container-id-2 div.sk-estimator:hover label.sk-toggleable__label-arrow:before {color: black;}#sk-container-id-2 div.sk-toggleable__content {max-height: 0;max-width: 0;overflow: hidden;text-align: left;background-color: #f0f8ff;}#sk-container-id-2 div.sk-toggleable__content pre {margin: 0.2em;color: black;border-radius: 0.25em;background-color: #f0f8ff;}#sk-container-id-2 input.sk-toggleable__control:checked~div.sk-toggleable__content {max-height: 200px;max-width: 100%;overflow: auto;}#sk-container-id-2 input.sk-toggleable__control:checked~label.sk-toggleable__label-arrow:before {content: \"▾\";}#sk-container-id-2 div.sk-estimator input.sk-toggleable__control:checked~label.sk-toggleable__label {background-color: #d4ebff;}#sk-container-id-2 div.sk-label input.sk-toggleable__control:checked~label.sk-toggleable__label {background-color: #d4ebff;}#sk-container-id-2 input.sk-hidden--visually {border: 0;clip: rect(1px 1px 1px 1px);clip: rect(1px, 1px, 1px, 1px);height: 1px;margin: -1px;overflow: hidden;padding: 0;position: absolute;width: 1px;}#sk-container-id-2 div.sk-estimator {font-family: monospace;background-color: #f0f8ff;border: 1px dotted black;border-radius: 0.25em;box-sizing: border-box;margin-bottom: 0.5em;}#sk-container-id-2 div.sk-estimator:hover {background-color: #d4ebff;}#sk-container-id-2 div.sk-parallel-item::after {content: \"\";width: 100%;border-bottom: 1px solid gray;flex-grow: 1;}#sk-container-id-2 div.sk-label:hover label.sk-toggleable__label {background-color: #d4ebff;}#sk-container-id-2 div.sk-serial::before {content: \"\";position: absolute;border-left: 1px solid gray;box-sizing: border-box;top: 0;bottom: 0;left: 50%;z-index: 0;}#sk-container-id-2 div.sk-serial {display: flex;flex-direction: column;align-items: center;background-color: white;padding-right: 0.2em;padding-left: 0.2em;position: relative;}#sk-container-id-2 div.sk-item {position: relative;z-index: 1;}#sk-container-id-2 div.sk-parallel {display: flex;align-items: stretch;justify-content: center;background-color: white;position: relative;}#sk-container-id-2 div.sk-item::before, #sk-container-id-2 div.sk-parallel-item::before {content: \"\";position: absolute;border-left: 1px solid gray;box-sizing: border-box;top: 0;bottom: 0;left: 50%;z-index: -1;}#sk-container-id-2 div.sk-parallel-item {display: flex;flex-direction: column;z-index: 1;position: relative;background-color: white;}#sk-container-id-2 div.sk-parallel-item:first-child::after {align-self: flex-end;width: 50%;}#sk-container-id-2 div.sk-parallel-item:last-child::after {align-self: flex-start;width: 50%;}#sk-container-id-2 div.sk-parallel-item:only-child::after {width: 0;}#sk-container-id-2 div.sk-dashed-wrapped {border: 1px dashed gray;margin: 0 0.4em 0.5em 0.4em;box-sizing: border-box;padding-bottom: 0.4em;background-color: white;}#sk-container-id-2 div.sk-label label {font-family: monospace;font-weight: bold;display: inline-block;line-height: 1.2em;}#sk-container-id-2 div.sk-label-container {text-align: center;}#sk-container-id-2 div.sk-container {/* jupyter's `normalize.less` sets `[hidden] { display: none; }` but bootstrap.min.css set `[hidden] { display: none !important; }` so we also need the `!important` here to be able to override the default hidden behavior on the sphinx rendered scikit-learn.org. See: https://github.com/scikit-learn/scikit-learn/issues/21755 */display: inline-block !important;position: relative;}#sk-container-id-2 div.sk-text-repr-fallback {display: none;}</style><div id=\"sk-container-id-2\" class=\"sk-top-container\"><div class=\"sk-text-repr-fallback\"><pre>GradientBoostingSurvivalAnalysis(learning_rate=0.8, min_samples_split=4,\n",
       "                                 n_estimators=40, random_state=0, subsample=1)</pre><b>In a Jupyter environment, please rerun this cell to show the HTML representation or trust the notebook. <br />On GitHub, the HTML representation is unable to render, please try loading this page with nbviewer.org.</b></div><div class=\"sk-container\" hidden><div class=\"sk-item\"><div class=\"sk-estimator sk-toggleable\"><input class=\"sk-toggleable__control sk-hidden--visually\" id=\"sk-estimator-id-2\" type=\"checkbox\" checked><label for=\"sk-estimator-id-2\" class=\"sk-toggleable__label sk-toggleable__label-arrow\">GradientBoostingSurvivalAnalysis</label><div class=\"sk-toggleable__content\"><pre>GradientBoostingSurvivalAnalysis(learning_rate=0.8, min_samples_split=4,\n",
       "                                 n_estimators=40, random_state=0, subsample=1)</pre></div></div></div></div></div>"
      ],
      "text/plain": [
       "GradientBoostingSurvivalAnalysis(learning_rate=0.8, min_samples_split=4,\n",
       "                                 n_estimators=40, random_state=0, subsample=1)"
      ]
     },
     "execution_count": 26,
     "metadata": {},
     "output_type": "execute_result"
    }
   ],
   "source": [
    "# Final model\n",
    "model_gb_cph_tree= GradientBoostingSurvivalAnalysis(loss='coxph', subsample=1, criterion='friedman_mse', random_state=0)\n",
    "model_gb_cph_tree.set_params(**gb_cph_tree_gcv.best_params_)\n",
    "model_gb_cph_tree.fit(X_train, y_train)"
   ]
  },
  {
   "cell_type": "markdown",
   "id": "9a50568b",
   "metadata": {},
   "source": [
    "#### 3.1.2. Component-wise least squares"
   ]
  },
  {
   "cell_type": "markdown",
   "id": "38548f94",
   "metadata": {},
   "source": [
    "- **Study the optimal number of base learners**.\n",
    "- **Find the optimal hyperparameters**."
   ]
  },
  {
   "cell_type": "markdown",
   "id": "670a4ca4",
   "metadata": {},
   "source": [
    "Same analysis using component-wise least squares base learners. With component-wise least squares base learners the overall ensemble is a **linear model**, whereas with tree-based learners it will be a non-linear model."
   ]
  },
  {
   "cell_type": "markdown",
   "id": "188982f6",
   "metadata": {},
   "source": [
    "##### 3.1.2.1. Study the optimal number of base learners"
   ]
  },
  {
   "cell_type": "markdown",
   "id": "520a0043",
   "metadata": {},
   "source": [
    "Find the optimal number of base learners to guide the *GridSearch*."
   ]
  },
  {
   "cell_type": "code",
   "execution_count": 50,
   "id": "eab1c4a8",
   "metadata": {},
   "outputs": [],
   "source": [
    "# Find the optimal number of base learners\n",
    "scores_gb_cph_ls= {}\n",
    "\n",
    "gb_cph_ls_= ComponentwiseGradientBoostingSurvivalAnalysis(loss='coxph', learning_rate=0.1, subsample=1, random_state=0)\n",
    "\n",
    "for i in range(1, 61):\n",
    "    n_estimators= i * 10\n",
    "    gb_cph_ls_.set_params(n_estimators=n_estimators)\n",
    "    gb_cph_ls_.fit(X_train, y_train)\n",
    "    scores_gb_cph_ls[n_estimators]= gb_cph_ls_.score(X_test, y_test)"
   ]
  },
  {
   "cell_type": "code",
   "execution_count": 51,
   "id": "0fcde3ed",
   "metadata": {},
   "outputs": [
    {
     "data": {
      "image/png": "[encoded data removed]",
      "text/plain": [
       "<Figure size 640x480 with 1 Axes>"
      ]
     },
     "metadata": {},
     "output_type": "display_data"
    }
   ],
   "source": [
    "x, y= zip(*scores_gb_cph_ls.items())\n",
    "plt.plot(x, y)\n",
    "plt.title('Study of the number of base learners (GB least squares)')\n",
    "plt.xlabel('n_estimator')\n",
    "plt.ylabel('concordance index')\n",
    "plt.grid(True)"
   ]
  },
  {
   "cell_type": "markdown",
   "id": "401f3520",
   "metadata": {},
   "source": [
    "##### 3.1.2.2. Find the optimal hyperparameters"
   ]
  },
  {
   "cell_type": "markdown",
   "id": "fa651f57",
   "metadata": {},
   "source": [
    "Find the optimal hyperparameters."
   ]
  },
  {
   "cell_type": "code",
   "execution_count": 29,
   "id": "d11e8e8a",
   "metadata": {},
   "outputs": [
    {
     "name": "stdout",
     "output_type": "stream",
     "text": [
      "Fitting time: 0.59 min \n",
      "\n",
      "Best hyperparameters:\n",
      "{'learning_rate': 0.8, 'n_estimators': 450} \n",
      "\n",
      "Best score: 0.6875\n"
     ]
    }
   ],
   "source": [
    "# Find the optimal hyperparameters\n",
    "\n",
    "gb_cph_ls= ComponentwiseGradientBoostingSurvivalAnalysis(loss='coxph', subsample=1, random_state=0)\n",
    "\n",
    "param_grid_gb_cph_ls= {'n_estimators': [400,450,500], 'learning_rate': [0.1,0.5,0.8]}\n",
    "\n",
    "\n",
    "gb_cph_ls_gcv= GridSearchCV(estimator=gb_cph_ls,\n",
    "                            param_grid=param_grid_gb_cph_ls,\n",
    "                            error_score='raise',\n",
    "                            n_jobs=1,\n",
    "                            cv=cv)\n",
    "\n",
    "\n",
    "t0= time()\n",
    "gb_cph_ls_gcv.fit(df_X_nonan, y_nonan)\n",
    "time_cv= time() - t0\n",
    "\n",
    "print('Fitting time: %0.2f min'%(time_cv/60), '\\n')\n",
    "print('Best hyperparameters:')\n",
    "print(gb_cph_ls_gcv.best_params_, '\\n')\n",
    "print('Best score: %.4f' % (gb_cph_ls_gcv.best_score_))"
   ]
  },
  {
   "cell_type": "code",
   "execution_count": 30,
   "id": "25431984",
   "metadata": {},
   "outputs": [
    {
     "data": {
      "text/html": [
       "<style>#sk-container-id-3 {color: black;background-color: white;}#sk-container-id-3 pre{padding: 0;}#sk-container-id-3 div.sk-toggleable {background-color: white;}#sk-container-id-3 label.sk-toggleable__label {cursor: pointer;display: block;width: 100%;margin-bottom: 0;padding: 0.3em;box-sizing: border-box;text-align: center;}#sk-container-id-3 label.sk-toggleable__label-arrow:before {content: \"▸\";float: left;margin-right: 0.25em;color: #696969;}#sk-container-id-3 label.sk-toggleable__label-arrow:hover:before {color: black;}#sk-container-id-3 div.sk-estimator:hover label.sk-toggleable__label-arrow:before {color: black;}#sk-container-id-3 div.sk-toggleable__content {max-height: 0;max-width: 0;overflow: hidden;text-align: left;background-color: #f0f8ff;}#sk-container-id-3 div.sk-toggleable__content pre {margin: 0.2em;color: black;border-radius: 0.25em;background-color: #f0f8ff;}#sk-container-id-3 input.sk-toggleable__control:checked~div.sk-toggleable__content {max-height: 200px;max-width: 100%;overflow: auto;}#sk-container-id-3 input.sk-toggleable__control:checked~label.sk-toggleable__label-arrow:before {content: \"▾\";}#sk-container-id-3 div.sk-estimator input.sk-toggleable__control:checked~label.sk-toggleable__label {background-color: #d4ebff;}#sk-container-id-3 div.sk-label input.sk-toggleable__control:checked~label.sk-toggleable__label {background-color: #d4ebff;}#sk-container-id-3 input.sk-hidden--visually {border: 0;clip: rect(1px 1px 1px 1px);clip: rect(1px, 1px, 1px, 1px);height: 1px;margin: -1px;overflow: hidden;padding: 0;position: absolute;width: 1px;}#sk-container-id-3 div.sk-estimator {font-family: monospace;background-color: #f0f8ff;border: 1px dotted black;border-radius: 0.25em;box-sizing: border-box;margin-bottom: 0.5em;}#sk-container-id-3 div.sk-estimator:hover {background-color: #d4ebff;}#sk-container-id-3 div.sk-parallel-item::after {content: \"\";width: 100%;border-bottom: 1px solid gray;flex-grow: 1;}#sk-container-id-3 div.sk-label:hover label.sk-toggleable__label {background-color: #d4ebff;}#sk-container-id-3 div.sk-serial::before {content: \"\";position: absolute;border-left: 1px solid gray;box-sizing: border-box;top: 0;bottom: 0;left: 50%;z-index: 0;}#sk-container-id-3 div.sk-serial {display: flex;flex-direction: column;align-items: center;background-color: white;padding-right: 0.2em;padding-left: 0.2em;position: relative;}#sk-container-id-3 div.sk-item {position: relative;z-index: 1;}#sk-container-id-3 div.sk-parallel {display: flex;align-items: stretch;justify-content: center;background-color: white;position: relative;}#sk-container-id-3 div.sk-item::before, #sk-container-id-3 div.sk-parallel-item::before {content: \"\";position: absolute;border-left: 1px solid gray;box-sizing: border-box;top: 0;bottom: 0;left: 50%;z-index: -1;}#sk-container-id-3 div.sk-parallel-item {display: flex;flex-direction: column;z-index: 1;position: relative;background-color: white;}#sk-container-id-3 div.sk-parallel-item:first-child::after {align-self: flex-end;width: 50%;}#sk-container-id-3 div.sk-parallel-item:last-child::after {align-self: flex-start;width: 50%;}#sk-container-id-3 div.sk-parallel-item:only-child::after {width: 0;}#sk-container-id-3 div.sk-dashed-wrapped {border: 1px dashed gray;margin: 0 0.4em 0.5em 0.4em;box-sizing: border-box;padding-bottom: 0.4em;background-color: white;}#sk-container-id-3 div.sk-label label {font-family: monospace;font-weight: bold;display: inline-block;line-height: 1.2em;}#sk-container-id-3 div.sk-label-container {text-align: center;}#sk-container-id-3 div.sk-container {/* jupyter's `normalize.less` sets `[hidden] { display: none; }` but bootstrap.min.css set `[hidden] { display: none !important; }` so we also need the `!important` here to be able to override the default hidden behavior on the sphinx rendered scikit-learn.org. See: https://github.com/scikit-learn/scikit-learn/issues/21755 */display: inline-block !important;position: relative;}#sk-container-id-3 div.sk-text-repr-fallback {display: none;}</style><div id=\"sk-container-id-3\" class=\"sk-top-container\"><div class=\"sk-text-repr-fallback\"><pre>ComponentwiseGradientBoostingSurvivalAnalysis(learning_rate=0.8,\n",
       "                                              n_estimators=450, random_state=0,\n",
       "                                              subsample=1)</pre><b>In a Jupyter environment, please rerun this cell to show the HTML representation or trust the notebook. <br />On GitHub, the HTML representation is unable to render, please try loading this page with nbviewer.org.</b></div><div class=\"sk-container\" hidden><div class=\"sk-item\"><div class=\"sk-estimator sk-toggleable\"><input class=\"sk-toggleable__control sk-hidden--visually\" id=\"sk-estimator-id-3\" type=\"checkbox\" checked><label for=\"sk-estimator-id-3\" class=\"sk-toggleable__label sk-toggleable__label-arrow\">ComponentwiseGradientBoostingSurvivalAnalysis</label><div class=\"sk-toggleable__content\"><pre>ComponentwiseGradientBoostingSurvivalAnalysis(learning_rate=0.8,\n",
       "                                              n_estimators=450, random_state=0,\n",
       "                                              subsample=1)</pre></div></div></div></div></div>"
      ],
      "text/plain": [
       "ComponentwiseGradientBoostingSurvivalAnalysis(learning_rate=0.8,\n",
       "                                              n_estimators=450, random_state=0,\n",
       "                                              subsample=1)"
      ]
     },
     "execution_count": 30,
     "metadata": {},
     "output_type": "execute_result"
    }
   ],
   "source": [
    "# Final model\n",
    "model_gb_cph_ls= ComponentwiseGradientBoostingSurvivalAnalysis(loss='coxph', subsample=1, random_state=0)\n",
    "model_gb_cph_ls.set_params(**gb_cph_ls_gcv.best_params_)\n",
    "model_gb_cph_ls.fit(X_train, y_train)"
   ]
  },
  {
   "cell_type": "markdown",
   "id": "eb634a1c",
   "metadata": {},
   "source": [
    "### 3.2. Testing"
   ]
  },
  {
   "cell_type": "markdown",
   "id": "48f1f461",
   "metadata": {},
   "source": [
    "- **Feature importance**.\n",
    "    - GB tree.\n",
    "    - GB least squares.\n",
    "- **Boostrapping confidence intervals**."
   ]
  },
  {
   "cell_type": "markdown",
   "id": "b1acc9a2",
   "metadata": {},
   "source": [
    "#### 3.2.1. Feature importance"
   ]
  },
  {
   "cell_type": "markdown",
   "id": "82c76061",
   "metadata": {},
   "source": [
    "Study the feature importance for each model."
   ]
  },
  {
   "cell_type": "markdown",
   "id": "8c96e3d2",
   "metadata": {},
   "source": [
    "#### 3.2.1.1. GB tree."
   ]
  },
  {
   "cell_type": "markdown",
   "id": "4f6d010d",
   "metadata": {},
   "source": [
    "It is straightforward to retrieve importance scores after the boosted trees have been fitted. This is a metric that indicates the usefulness of each feature, and as higher it is, as more relative importance the feature has. Importance is calculated for each tree and then averaged across all decision trees within the model."
   ]
  },
  {
   "cell_type": "code",
   "execution_count": 31,
   "id": "ed8da1bd",
   "metadata": {},
   "outputs": [
    {
     "data": {
      "text/html": [
       "<div>\n",
       "<style scoped>\n",
       "    .dataframe tbody tr th:only-of-type {\n",
       "        vertical-align: middle;\n",
       "    }\n",
       "\n",
       "    .dataframe tbody tr th {\n",
       "        vertical-align: top;\n",
       "    }\n",
       "\n",
       "    .dataframe thead th {\n",
       "        text-align: right;\n",
       "    }\n",
       "</style>\n",
       "<table border=\"1\" class=\"dataframe\">\n",
       "  <thead>\n",
       "    <tr style=\"text-align: right;\">\n",
       "      <th></th>\n",
       "      <th>variable</th>\n",
       "      <th>importance</th>\n",
       "    </tr>\n",
       "  </thead>\n",
       "  <tbody>\n",
       "    <tr>\n",
       "      <th>urea</th>\n",
       "      <td>urea</td>\n",
       "      <td>0.190349</td>\n",
       "    </tr>\n",
       "    <tr>\n",
       "      <th>tgcs</th>\n",
       "      <td>tgcs</td>\n",
       "      <td>0.189099</td>\n",
       "    </tr>\n",
       "    <tr>\n",
       "      <th>onset_h</th>\n",
       "      <td>onset_h</td>\n",
       "      <td>0.101046</td>\n",
       "    </tr>\n",
       "    <tr>\n",
       "      <th>glucose</th>\n",
       "      <td>glucose</td>\n",
       "      <td>0.093115</td>\n",
       "    </tr>\n",
       "    <tr>\n",
       "      <th>maxfibrinogen</th>\n",
       "      <td>maxfibrinogen</td>\n",
       "      <td>0.069387</td>\n",
       "    </tr>\n",
       "    <tr>\n",
       "      <th>prothrombin_activity</th>\n",
       "      <td>prothrombin_activity</td>\n",
       "      <td>0.056030</td>\n",
       "    </tr>\n",
       "    <tr>\n",
       "      <th>neurological_diseases</th>\n",
       "      <td>neurological_diseases</td>\n",
       "      <td>0.044980</td>\n",
       "    </tr>\n",
       "    <tr>\n",
       "      <th>potasium</th>\n",
       "      <td>potasium</td>\n",
       "      <td>0.044247</td>\n",
       "    </tr>\n",
       "    <tr>\n",
       "      <th>creatinine</th>\n",
       "      <td>creatinine</td>\n",
       "      <td>0.034233</td>\n",
       "    </tr>\n",
       "    <tr>\n",
       "      <th>headache</th>\n",
       "      <td>headache</td>\n",
       "      <td>0.031924</td>\n",
       "    </tr>\n",
       "    <tr>\n",
       "      <th>nfamily_medhist</th>\n",
       "      <td>nfamily_medhist</td>\n",
       "      <td>0.028153</td>\n",
       "    </tr>\n",
       "    <tr>\n",
       "      <th>age</th>\n",
       "      <td>age</td>\n",
       "      <td>0.024682</td>\n",
       "    </tr>\n",
       "    <tr>\n",
       "      <th>hematocrit</th>\n",
       "      <td>hematocrit</td>\n",
       "      <td>0.015628</td>\n",
       "    </tr>\n",
       "    <tr>\n",
       "      <th>sex</th>\n",
       "      <td>sex</td>\n",
       "      <td>0.014416</td>\n",
       "    </tr>\n",
       "    <tr>\n",
       "      <th>hypolipidemics</th>\n",
       "      <td>hypolipidemics</td>\n",
       "      <td>0.014368</td>\n",
       "    </tr>\n",
       "    <tr>\n",
       "      <th>antidiabetics</th>\n",
       "      <td>antidiabetics</td>\n",
       "      <td>0.013417</td>\n",
       "    </tr>\n",
       "    <tr>\n",
       "      <th>dmellitus</th>\n",
       "      <td>dmellitus</td>\n",
       "      <td>0.008877</td>\n",
       "    </tr>\n",
       "    <tr>\n",
       "      <th>emesis</th>\n",
       "      <td>emesis</td>\n",
       "      <td>0.008632</td>\n",
       "    </tr>\n",
       "    <tr>\n",
       "      <th>llwlimb_mimpairment</th>\n",
       "      <td>llwlimb_mimpairment</td>\n",
       "      <td>0.005019</td>\n",
       "    </tr>\n",
       "    <tr>\n",
       "      <th>altered_consciousness</th>\n",
       "      <td>altered_consciousness</td>\n",
       "      <td>0.004894</td>\n",
       "    </tr>\n",
       "    <tr>\n",
       "      <th>luplimb_mimpairment</th>\n",
       "      <td>luplimb_mimpairment</td>\n",
       "      <td>0.002504</td>\n",
       "    </tr>\n",
       "    <tr>\n",
       "      <th>antihypertensives</th>\n",
       "      <td>antihypertensives</td>\n",
       "      <td>0.002016</td>\n",
       "    </tr>\n",
       "    <tr>\n",
       "      <th>ruplimb_mimpairment</th>\n",
       "      <td>ruplimb_mimpairment</td>\n",
       "      <td>0.001380</td>\n",
       "    </tr>\n",
       "    <tr>\n",
       "      <th>primary_ich</th>\n",
       "      <td>primary_ich</td>\n",
       "      <td>0.000867</td>\n",
       "    </tr>\n",
       "    <tr>\n",
       "      <th>anisocoria</th>\n",
       "      <td>anisocoria</td>\n",
       "      <td>0.000736</td>\n",
       "    </tr>\n",
       "    <tr>\n",
       "      <th>cumarinics</th>\n",
       "      <td>cumarinics</td>\n",
       "      <td>0.000000</td>\n",
       "    </tr>\n",
       "    <tr>\n",
       "      <th>ht</th>\n",
       "      <td>ht</td>\n",
       "      <td>0.000000</td>\n",
       "    </tr>\n",
       "    <tr>\n",
       "      <th>dyslipidemia</th>\n",
       "      <td>dyslipidemia</td>\n",
       "      <td>0.000000</td>\n",
       "    </tr>\n",
       "    <tr>\n",
       "      <th>structural_heart_disease</th>\n",
       "      <td>structural_heart_disease</td>\n",
       "      <td>0.000000</td>\n",
       "    </tr>\n",
       "    <tr>\n",
       "      <th>balance_impairment</th>\n",
       "      <td>balance_impairment</td>\n",
       "      <td>0.000000</td>\n",
       "    </tr>\n",
       "    <tr>\n",
       "      <th>anticoagulants</th>\n",
       "      <td>anticoagulants</td>\n",
       "      <td>0.000000</td>\n",
       "    </tr>\n",
       "    <tr>\n",
       "      <th>antiplatelets</th>\n",
       "      <td>antiplatelets</td>\n",
       "      <td>0.000000</td>\n",
       "    </tr>\n",
       "    <tr>\n",
       "      <th>rlwlimb_mimpairment</th>\n",
       "      <td>rlwlimb_mimpairment</td>\n",
       "      <td>0.000000</td>\n",
       "    </tr>\n",
       "    <tr>\n",
       "      <th>aspirin</th>\n",
       "      <td>aspirin</td>\n",
       "      <td>0.000000</td>\n",
       "    </tr>\n",
       "    <tr>\n",
       "      <th>seizures</th>\n",
       "      <td>seizures</td>\n",
       "      <td>0.000000</td>\n",
       "    </tr>\n",
       "    <tr>\n",
       "      <th>visual_disturbances</th>\n",
       "      <td>visual_disturbances</td>\n",
       "      <td>0.000000</td>\n",
       "    </tr>\n",
       "    <tr>\n",
       "      <th>neurol_signs</th>\n",
       "      <td>neurol_signs</td>\n",
       "      <td>0.000000</td>\n",
       "    </tr>\n",
       "  </tbody>\n",
       "</table>\n",
       "</div>"
      ],
      "text/plain": [
       "                                          variable  importance\n",
       "urea                                          urea    0.190349\n",
       "tgcs                                          tgcs    0.189099\n",
       "onset_h                                    onset_h    0.101046\n",
       "glucose                                    glucose    0.093115\n",
       "maxfibrinogen                        maxfibrinogen    0.069387\n",
       "prothrombin_activity          prothrombin_activity    0.056030\n",
       "neurological_diseases        neurological_diseases    0.044980\n",
       "potasium                                  potasium    0.044247\n",
       "creatinine                              creatinine    0.034233\n",
       "headache                                  headache    0.031924\n",
       "nfamily_medhist                    nfamily_medhist    0.028153\n",
       "age                                            age    0.024682\n",
       "hematocrit                              hematocrit    0.015628\n",
       "sex                                            sex    0.014416\n",
       "hypolipidemics                      hypolipidemics    0.014368\n",
       "antidiabetics                        antidiabetics    0.013417\n",
       "dmellitus                                dmellitus    0.008877\n",
       "emesis                                      emesis    0.008632\n",
       "llwlimb_mimpairment            llwlimb_mimpairment    0.005019\n",
       "altered_consciousness        altered_consciousness    0.004894\n",
       "luplimb_mimpairment            luplimb_mimpairment    0.002504\n",
       "antihypertensives                antihypertensives    0.002016\n",
       "ruplimb_mimpairment            ruplimb_mimpairment    0.001380\n",
       "primary_ich                            primary_ich    0.000867\n",
       "anisocoria                              anisocoria    0.000736\n",
       "cumarinics                              cumarinics    0.000000\n",
       "ht                                              ht    0.000000\n",
       "dyslipidemia                          dyslipidemia    0.000000\n",
       "structural_heart_disease  structural_heart_disease    0.000000\n",
       "balance_impairment              balance_impairment    0.000000\n",
       "anticoagulants                      anticoagulants    0.000000\n",
       "antiplatelets                        antiplatelets    0.000000\n",
       "rlwlimb_mimpairment            rlwlimb_mimpairment    0.000000\n",
       "aspirin                                    aspirin    0.000000\n",
       "seizures                                  seizures    0.000000\n",
       "visual_disturbances            visual_disturbances    0.000000\n",
       "neurol_signs                          neurol_signs    0.000000"
      ]
     },
     "execution_count": 31,
     "metadata": {},
     "output_type": "execute_result"
    }
   ],
   "source": [
    "# Percentage of feature importance\n",
    "df_gb_cph_tree=pd.DataFrame(data={'variable':  model_gb_cph_tree.feature_names_in_,\n",
    "                                  'importance':  model_gb_cph_tree.feature_importances_},\n",
    "                       index=X_test.columns).sort_values(by='importance', ascending=False)\n",
    "\n",
    "df_gb_cph_tree"
   ]
  },
  {
   "cell_type": "markdown",
   "id": "141b3738",
   "metadata": {},
   "source": [
    "#### 3.2.1.2. GB least squares."
   ]
  },
  {
   "cell_type": "markdown",
   "id": "7584e973",
   "metadata": {},
   "source": [
    "The final **least squares model** is much more interpretable than the other model. It is possible to print regression coefficients and know easily how the model is predicting."
   ]
  },
  {
   "cell_type": "code",
   "execution_count": 32,
   "id": "c51255fd",
   "metadata": {
    "scrolled": false
   },
   "outputs": [
    {
     "name": "stdout",
     "output_type": "stream",
     "text": [
      "Number of non-zero coefficients: 20\n"
     ]
    },
    {
     "data": {
      "text/plain": [
       "neurological_diseases       1.351485\n",
       "visual_disturbances        -1.236698\n",
       "llwlimb_mimpairment         1.106776\n",
       "altered_consciousness       0.623873\n",
       "primary_ich                 0.442403\n",
       "aspirin                    -0.433101\n",
       "headache                   -0.374995\n",
       "sex                         0.310804\n",
       "ruplimb_mimpairment         0.310630\n",
       "tgcs                       -0.187543\n",
       "antidiabetics               0.180660\n",
       "nfamily_medhist            -0.131579\n",
       "anisocoria                  0.114348\n",
       "hypolipidemics             -0.031586\n",
       "structural_heart_disease    0.021903\n",
       "emesis                     -0.021600\n",
       "age                         0.004033\n",
       "glucose                     0.002291\n",
       "maxfibrinogen              -0.000665\n",
       "onset_h                    -0.000527\n",
       "dtype: float64"
      ]
     },
     "execution_count": 32,
     "metadata": {},
     "output_type": "execute_result"
    }
   ],
   "source": [
    "coef= pd.Series(model_gb_cph_ls.coef_, ['Intercept'] + df_X_nonan.columns.tolist())\n",
    "\n",
    "print('Number of non-zero coefficients:', (coef != 0).sum())\n",
    "coef_nz= coef[coef != 0]\n",
    "coef_order= coef_nz.abs().sort_values(ascending=False).index\n",
    "coef_nz.loc[coef_order]"
   ]
  },
  {
   "cell_type": "markdown",
   "id": "5339647d",
   "metadata": {},
   "source": [
    "#### 3.2.2. Boostrapping confidence intervals"
   ]
  },
  {
   "cell_type": "code",
   "execution_count": 33,
   "id": "a473344f",
   "metadata": {},
   "outputs": [],
   "source": [
    "def boots_gb_cph (x, y, train_size, n_iterations, params_, alpha):\n",
    "    \n",
    "    idx= list(range(x.shape[0]))\n",
    "    train_size= int(x.shape[0]*train_size)\n",
    "    \n",
    "    test_cindex= []\n",
    "\n",
    "    for i in tqdm(range(n_iterations)):        \n",
    "        idx_train= random.choices(idx, k=train_size) # samples with replacement\n",
    "        idx_test= list(set(idx) - set(idx_train)) # samples will have different size, because of training sample replacement\n",
    "        \n",
    "        gb_cph= GradientBoostingSurvivalAnalysis(loss='coxph', subsample=1, criterion='friedman_mse', random_state=0)\n",
    "        \n",
    "        gb_cph.set_params(**params_)\n",
    "                \n",
    "        gb_cph.fit(x.values[idx_train,], y[idx_train])\n",
    "        \n",
    "        cindex= gb_cph.score (x.values[idx_test], y[idx_test])\n",
    "        test_cindex.append(cindex)\n",
    "                \n",
    "    # confidence intervals\n",
    "    pl= alpha/2*100\n",
    "    pu= ((1-alpha) + (alpha/2))*100\n",
    "    \n",
    "    cindex_median= np.median(test_cindex)\n",
    "    cindex_lower= max(0.0, np.percentile(test_cindex, pl))\n",
    "    cindex_upper= min(1.0, np.percentile(test_cindex, pu))\n",
    "    \n",
    "    return (test_cindex, (cindex_median,cindex_lower,cindex_upper))"
   ]
  },
  {
   "cell_type": "code",
   "execution_count": 34,
   "id": "b5a1a3da",
   "metadata": {},
   "outputs": [
    {
     "data": {
      "application/vnd.jupyter.widget-view+json": {
       "model_id": "43e48ac5843747aeb974d5b96c84f4d3",
       "version_major": 2,
       "version_minor": 0
      },
      "text/plain": [
       "  0%|          | 0/10000 [00:00<?, ?it/s]"
      ]
     },
     "metadata": {},
     "output_type": "display_data"
    }
   ],
   "source": [
    "model_gb_cph_tree_cindex, model_gb_cph_tree_ci= boots_gb_cph (x=df_X_nonan, y=y_nonan, train_size=0.8, params_=gb_cph_tree_gcv.best_params_, n_iterations=10000, alpha=0.05)"
   ]
  },
  {
   "cell_type": "code",
   "execution_count": 35,
   "id": "bf84e504",
   "metadata": {},
   "outputs": [
    {
     "data": {
      "text/plain": [
       "Text(0.5, 1.0, 'Model GB tree: 0.63, 95%CI 0.49 and 0.76')"
      ]
     },
     "execution_count": 35,
     "metadata": {},
     "output_type": "execute_result"
    },
    {
     "data": {
      "image/png": "[encoded data removed]",
      "text/plain": [
       "<Figure size 600x400 with 1 Axes>"
      ]
     },
     "metadata": {},
     "output_type": "display_data"
    }
   ],
   "source": [
    "fig,ax= plt.subplots(1,1, figsize=(6,4))\n",
    "sns.histplot(model_gb_cph_tree_cindex, ax=ax)\n",
    "\n",
    "alpha= 0.05\n",
    "ax.set_title('Model GB tree: %.2f, %.0f%%CI %.2f and %.2f' % (model_gb_cph_tree_ci[0], (1-alpha)*100, model_gb_cph_tree_ci[1], model_gb_cph_tree_ci[2]))"
   ]
  },
  {
   "cell_type": "markdown",
   "id": "68fe3253",
   "metadata": {},
   "source": [
    "### 3.3. Predicting"
   ]
  },
  {
   "cell_type": "markdown",
   "id": "10d5408c",
   "metadata": {},
   "source": [
    "GB model predicts risk scores, but not the Survival or Cumulative Hazard functions."
   ]
  },
  {
   "cell_type": "code",
   "execution_count": 36,
   "id": "1d57f0e6",
   "metadata": {},
   "outputs": [
    {
     "data": {
      "text/html": [
       "<div>\n",
       "<style scoped>\n",
       "    .dataframe tbody tr th:only-of-type {\n",
       "        vertical-align: middle;\n",
       "    }\n",
       "\n",
       "    .dataframe tbody tr th {\n",
       "        vertical-align: top;\n",
       "    }\n",
       "\n",
       "    .dataframe thead th {\n",
       "        text-align: right;\n",
       "    }\n",
       "</style>\n",
       "<table border=\"1\" class=\"dataframe\">\n",
       "  <thead>\n",
       "    <tr style=\"text-align: right;\">\n",
       "      <th></th>\n",
       "      <th>Predicted risk scored</th>\n",
       "      <th>Labels</th>\n",
       "    </tr>\n",
       "    <tr>\n",
       "      <th>Patients</th>\n",
       "      <th></th>\n",
       "      <th></th>\n",
       "    </tr>\n",
       "  </thead>\n",
       "  <tbody>\n",
       "    <tr>\n",
       "      <th>2</th>\n",
       "      <td>5.047174</td>\n",
       "      <td>(True, 19.0)</td>\n",
       "    </tr>\n",
       "    <tr>\n",
       "      <th>4</th>\n",
       "      <td>-1.273725</td>\n",
       "      <td>(False, 2271.0)</td>\n",
       "    </tr>\n",
       "    <tr>\n",
       "      <th>14</th>\n",
       "      <td>-0.613428</td>\n",
       "      <td>(False, 1816.0)</td>\n",
       "    </tr>\n",
       "  </tbody>\n",
       "</table>\n",
       "</div>"
      ],
      "text/plain": [
       "          Predicted risk scored           Labels\n",
       "Patients                                        \n",
       "2                      5.047174     (True, 19.0)\n",
       "4                     -1.273725  (False, 2271.0)\n",
       "14                    -0.613428  (False, 1816.0)"
      ]
     },
     "execution_count": 36,
     "metadata": {},
     "output_type": "execute_result"
    }
   ],
   "source": [
    "# Predict risk scores\n",
    "patients= [2,4,14]\n",
    "pd.DataFrame(data={'Predicted risk scored': model_gb_cph_tree.predict(X_test.iloc[patients]),\n",
    "                   'Labels':y_test[patients].tolist()},\n",
    "             index=pd.Index(data=patients, name='Patients'))"
   ]
  },
  {
   "cell_type": "markdown",
   "id": "252a880e",
   "metadata": {},
   "source": [
    "### 4. Accelerated Failure Time model (parametric approach)"
   ]
  },
  {
   "cell_type": "markdown",
   "id": "9990f8ed",
   "metadata": {},
   "source": [
    "- **Training**\n",
    "    - Study the optimal number of base learners.\n",
    "    - Find the optimal hyperparameters.\n",
    "        \n",
    "- **Testing**\n",
    "    - Feature importance.\n",
    "    - Bootstrapping confidence intervals.\n",
    "    \n",
    "- **Predicting**"
   ]
  },
  {
   "cell_type": "markdown",
   "id": "f9b07f95",
   "metadata": {},
   "source": [
    "**Accelerated Failure Time (AFT)** model is a parametric approach to estimate survival and cumulative hazard functions. Whereas Cox’s proportional hazards model, a semi-parametric approach, assumes that features only influence the hazard function via a constant multiplicative factor, features in an AFT model can accelerate or decelerate the time to an event by a constant factor. Mathematically, proportional hazards model assumes that the effect of a covariate is to multiply the hazard by some constant, an AFT model assumes that the effect of a covariate is to accelerate or decelerate the life course of a disease by some constant. In proportional hazards model covariates affect hazards, and in an AFT affect time."
   ]
  },
  {
   "cell_type": "markdown",
   "id": "61c092f3",
   "metadata": {},
   "source": [
    "### 4.1. Training"
   ]
  },
  {
   "cell_type": "markdown",
   "id": "20160912",
   "metadata": {},
   "source": [
    "- **Study the optimal number of base learners.**\n",
    "- **Find the optimal hyperparameters.**"
   ]
  },
  {
   "cell_type": "code",
   "execution_count": 37,
   "id": "e7879a18",
   "metadata": {},
   "outputs": [],
   "source": [
    "y_nonan[y_nonan['Survival_in_days'] == 0]= 0.1"
   ]
  },
  {
   "cell_type": "code",
   "execution_count": 38,
   "id": "03015309",
   "metadata": {},
   "outputs": [],
   "source": [
    "X_train, X_test, y_train, y_test= train_test_split(df_X_nonan, y_nonan, test_size=0.25, random_state=0)"
   ]
  },
  {
   "cell_type": "markdown",
   "id": "1d25e514",
   "metadata": {},
   "source": [
    "#### 4.1.1. Study the optimal number of base learners."
   ]
  },
  {
   "cell_type": "markdown",
   "id": "4862ea55",
   "metadata": {},
   "source": [
    "Study the optimal number of base learners."
   ]
  },
  {
   "cell_type": "code",
   "execution_count": 39,
   "id": "c6871555",
   "metadata": {},
   "outputs": [],
   "source": [
    "# To obtain an AFT model, just set the loss='ipcwls'\n",
    "\n",
    "scores_gb_aft_ls= {}\n",
    "\n",
    "gb_aft_ls_= GradientBoostingSurvivalAnalysis(loss='ipcwls', learning_rate=0.1, subsample=1, random_state=0)\n",
    "\n",
    "for i in range(1, 51):\n",
    "    n_estimators= i * 2\n",
    "    gb_aft_ls_.set_params(n_estimators=n_estimators)\n",
    "    gb_aft_ls_.fit(X_train, y_train)\n",
    "    scores_gb_aft_ls[n_estimators]= gb_aft_ls_.score(X_test, y_test)"
   ]
  },
  {
   "cell_type": "code",
   "execution_count": 40,
   "id": "639172b2",
   "metadata": {},
   "outputs": [
    {
     "data": {
      "image/png": "[encoded data removed]",
      "text/plain": [
       "<Figure size 640x480 with 1 Axes>"
      ]
     },
     "metadata": {},
     "output_type": "display_data"
    }
   ],
   "source": [
    "x, y= zip(*scores_gb_aft_ls.items())\n",
    "plt.plot(x, y)\n",
    "plt.title('Study of the number of base learners (AFT model)')\n",
    "plt.xlabel('n_estimator')\n",
    "plt.ylabel('concordance index')\n",
    "plt.xticks([0,10,20,30,40,50,60,70,80,90,100])\n",
    "plt.grid(True)"
   ]
  },
  {
   "cell_type": "markdown",
   "id": "e17143f8",
   "metadata": {},
   "source": [
    "#### 4.1.2. Find the optimal hyperparameters."
   ]
  },
  {
   "cell_type": "markdown",
   "id": "5d69298a",
   "metadata": {},
   "source": [
    "Find the optimal hyperparameters."
   ]
  },
  {
   "cell_type": "code",
   "execution_count": 41,
   "id": "8002938c",
   "metadata": {
    "scrolled": false
   },
   "outputs": [
    {
     "name": "stdout",
     "output_type": "stream",
     "text": [
      "Fitting time: 0.13 min \n",
      "\n",
      "Best hyperparameters:\n",
      "{'learning_rate': 0.1, 'n_estimators': 65} \n",
      "\n",
      "Best score: 0.7729\n"
     ]
    }
   ],
   "source": [
    "# Find the optimal Gradient Boosted Model hyperparameters\n",
    "\n",
    "gb_aft_ls= GradientBoostingSurvivalAnalysis(loss='ipcwls', subsample=1, random_state=0)\n",
    "\n",
    "param_grid_gb_aft_ls= {'n_estimators': [40,50,55,60,65], 'learning_rate': [0.1,0.5]}\n",
    "\n",
    "gb_aft_ls_gcv= GridSearchCV(estimator=gb_aft_ls,\n",
    "                            param_grid=param_grid_gb_aft_ls,\n",
    "                            error_score='raise',\n",
    "                            n_jobs=1,\n",
    "                            cv=cv)\n",
    "\n",
    "\n",
    "t0= time()\n",
    "gb_aft_ls_gcv.fit(df_X_nonan, y_nonan)\n",
    "time_cv= time() - t0\n",
    "\n",
    "print('Fitting time: %0.2f min'%(time_cv/60), '\\n')\n",
    "print('Best hyperparameters:')\n",
    "print(gb_aft_ls_gcv.best_params_, '\\n')\n",
    "print('Best score: %.4f' % (gb_aft_ls_gcv.best_score_))"
   ]
  },
  {
   "cell_type": "code",
   "execution_count": 42,
   "id": "e700aa4b",
   "metadata": {},
   "outputs": [
    {
     "data": {
      "text/html": [
       "<style>#sk-container-id-4 {color: black;background-color: white;}#sk-container-id-4 pre{padding: 0;}#sk-container-id-4 div.sk-toggleable {background-color: white;}#sk-container-id-4 label.sk-toggleable__label {cursor: pointer;display: block;width: 100%;margin-bottom: 0;padding: 0.3em;box-sizing: border-box;text-align: center;}#sk-container-id-4 label.sk-toggleable__label-arrow:before {content: \"▸\";float: left;margin-right: 0.25em;color: #696969;}#sk-container-id-4 label.sk-toggleable__label-arrow:hover:before {color: black;}#sk-container-id-4 div.sk-estimator:hover label.sk-toggleable__label-arrow:before {color: black;}#sk-container-id-4 div.sk-toggleable__content {max-height: 0;max-width: 0;overflow: hidden;text-align: left;background-color: #f0f8ff;}#sk-container-id-4 div.sk-toggleable__content pre {margin: 0.2em;color: black;border-radius: 0.25em;background-color: #f0f8ff;}#sk-container-id-4 input.sk-toggleable__control:checked~div.sk-toggleable__content {max-height: 200px;max-width: 100%;overflow: auto;}#sk-container-id-4 input.sk-toggleable__control:checked~label.sk-toggleable__label-arrow:before {content: \"▾\";}#sk-container-id-4 div.sk-estimator input.sk-toggleable__control:checked~label.sk-toggleable__label {background-color: #d4ebff;}#sk-container-id-4 div.sk-label input.sk-toggleable__control:checked~label.sk-toggleable__label {background-color: #d4ebff;}#sk-container-id-4 input.sk-hidden--visually {border: 0;clip: rect(1px 1px 1px 1px);clip: rect(1px, 1px, 1px, 1px);height: 1px;margin: -1px;overflow: hidden;padding: 0;position: absolute;width: 1px;}#sk-container-id-4 div.sk-estimator {font-family: monospace;background-color: #f0f8ff;border: 1px dotted black;border-radius: 0.25em;box-sizing: border-box;margin-bottom: 0.5em;}#sk-container-id-4 div.sk-estimator:hover {background-color: #d4ebff;}#sk-container-id-4 div.sk-parallel-item::after {content: \"\";width: 100%;border-bottom: 1px solid gray;flex-grow: 1;}#sk-container-id-4 div.sk-label:hover label.sk-toggleable__label {background-color: #d4ebff;}#sk-container-id-4 div.sk-serial::before {content: \"\";position: absolute;border-left: 1px solid gray;box-sizing: border-box;top: 0;bottom: 0;left: 50%;z-index: 0;}#sk-container-id-4 div.sk-serial {display: flex;flex-direction: column;align-items: center;background-color: white;padding-right: 0.2em;padding-left: 0.2em;position: relative;}#sk-container-id-4 div.sk-item {position: relative;z-index: 1;}#sk-container-id-4 div.sk-parallel {display: flex;align-items: stretch;justify-content: center;background-color: white;position: relative;}#sk-container-id-4 div.sk-item::before, #sk-container-id-4 div.sk-parallel-item::before {content: \"\";position: absolute;border-left: 1px solid gray;box-sizing: border-box;top: 0;bottom: 0;left: 50%;z-index: -1;}#sk-container-id-4 div.sk-parallel-item {display: flex;flex-direction: column;z-index: 1;position: relative;background-color: white;}#sk-container-id-4 div.sk-parallel-item:first-child::after {align-self: flex-end;width: 50%;}#sk-container-id-4 div.sk-parallel-item:last-child::after {align-self: flex-start;width: 50%;}#sk-container-id-4 div.sk-parallel-item:only-child::after {width: 0;}#sk-container-id-4 div.sk-dashed-wrapped {border: 1px dashed gray;margin: 0 0.4em 0.5em 0.4em;box-sizing: border-box;padding-bottom: 0.4em;background-color: white;}#sk-container-id-4 div.sk-label label {font-family: monospace;font-weight: bold;display: inline-block;line-height: 1.2em;}#sk-container-id-4 div.sk-label-container {text-align: center;}#sk-container-id-4 div.sk-container {/* jupyter's `normalize.less` sets `[hidden] { display: none; }` but bootstrap.min.css set `[hidden] { display: none !important; }` so we also need the `!important` here to be able to override the default hidden behavior on the sphinx rendered scikit-learn.org. See: https://github.com/scikit-learn/scikit-learn/issues/21755 */display: inline-block !important;position: relative;}#sk-container-id-4 div.sk-text-repr-fallback {display: none;}</style><div id=\"sk-container-id-4\" class=\"sk-top-container\"><div class=\"sk-text-repr-fallback\"><pre>GradientBoostingSurvivalAnalysis(loss=&#x27;ipcwls&#x27;, n_estimators=65, random_state=0,\n",
       "                                 subsample=1)</pre><b>In a Jupyter environment, please rerun this cell to show the HTML representation or trust the notebook. <br />On GitHub, the HTML representation is unable to render, please try loading this page with nbviewer.org.</b></div><div class=\"sk-container\" hidden><div class=\"sk-item\"><div class=\"sk-estimator sk-toggleable\"><input class=\"sk-toggleable__control sk-hidden--visually\" id=\"sk-estimator-id-4\" type=\"checkbox\" checked><label for=\"sk-estimator-id-4\" class=\"sk-toggleable__label sk-toggleable__label-arrow\">GradientBoostingSurvivalAnalysis</label><div class=\"sk-toggleable__content\"><pre>GradientBoostingSurvivalAnalysis(loss=&#x27;ipcwls&#x27;, n_estimators=65, random_state=0,\n",
       "                                 subsample=1)</pre></div></div></div></div></div>"
      ],
      "text/plain": [
       "GradientBoostingSurvivalAnalysis(loss='ipcwls', n_estimators=65, random_state=0,\n",
       "                                 subsample=1)"
      ]
     },
     "execution_count": 42,
     "metadata": {},
     "output_type": "execute_result"
    }
   ],
   "source": [
    "# Final model\n",
    "model_gb_aft_ls= GradientBoostingSurvivalAnalysis(loss='ipcwls', subsample=1, random_state=0)\n",
    "model_gb_aft_ls.set_params(**gb_aft_ls_gcv.best_params_)\n",
    "model_gb_aft_ls.fit(X_train, y_train)"
   ]
  },
  {
   "cell_type": "markdown",
   "id": "a6e0412c",
   "metadata": {},
   "source": [
    "### 4.2. Testing"
   ]
  },
  {
   "cell_type": "markdown",
   "id": "f7b56e80",
   "metadata": {},
   "source": [
    "- **Feature importance.**\n",
    "- **Bootstrapping confidence intervals.**"
   ]
  },
  {
   "cell_type": "markdown",
   "id": "f184b504",
   "metadata": {},
   "source": [
    "#### 4.2.1. Feature importance"
   ]
  },
  {
   "cell_type": "code",
   "execution_count": 43,
   "id": "bb8b6833",
   "metadata": {},
   "outputs": [
    {
     "data": {
      "text/html": [
       "<div>\n",
       "<style scoped>\n",
       "    .dataframe tbody tr th:only-of-type {\n",
       "        vertical-align: middle;\n",
       "    }\n",
       "\n",
       "    .dataframe tbody tr th {\n",
       "        vertical-align: top;\n",
       "    }\n",
       "\n",
       "    .dataframe thead th {\n",
       "        text-align: right;\n",
       "    }\n",
       "</style>\n",
       "<table border=\"1\" class=\"dataframe\">\n",
       "  <thead>\n",
       "    <tr style=\"text-align: right;\">\n",
       "      <th></th>\n",
       "      <th>variable</th>\n",
       "      <th>importance</th>\n",
       "    </tr>\n",
       "  </thead>\n",
       "  <tbody>\n",
       "    <tr>\n",
       "      <th>tgcs</th>\n",
       "      <td>tgcs</td>\n",
       "      <td>0.281055</td>\n",
       "    </tr>\n",
       "    <tr>\n",
       "      <th>urea</th>\n",
       "      <td>urea</td>\n",
       "      <td>0.112091</td>\n",
       "    </tr>\n",
       "    <tr>\n",
       "      <th>potasium</th>\n",
       "      <td>potasium</td>\n",
       "      <td>0.078802</td>\n",
       "    </tr>\n",
       "    <tr>\n",
       "      <th>maxfibrinogen</th>\n",
       "      <td>maxfibrinogen</td>\n",
       "      <td>0.070504</td>\n",
       "    </tr>\n",
       "    <tr>\n",
       "      <th>glucose</th>\n",
       "      <td>glucose</td>\n",
       "      <td>0.067010</td>\n",
       "    </tr>\n",
       "    <tr>\n",
       "      <th>headache</th>\n",
       "      <td>headache</td>\n",
       "      <td>0.051992</td>\n",
       "    </tr>\n",
       "    <tr>\n",
       "      <th>onset_h</th>\n",
       "      <td>onset_h</td>\n",
       "      <td>0.048622</td>\n",
       "    </tr>\n",
       "    <tr>\n",
       "      <th>prothrombin_activity</th>\n",
       "      <td>prothrombin_activity</td>\n",
       "      <td>0.047155</td>\n",
       "    </tr>\n",
       "    <tr>\n",
       "      <th>creatinine</th>\n",
       "      <td>creatinine</td>\n",
       "      <td>0.042779</td>\n",
       "    </tr>\n",
       "    <tr>\n",
       "      <th>llwlimb_mimpairment</th>\n",
       "      <td>llwlimb_mimpairment</td>\n",
       "      <td>0.040646</td>\n",
       "    </tr>\n",
       "    <tr>\n",
       "      <th>hematocrit</th>\n",
       "      <td>hematocrit</td>\n",
       "      <td>0.035126</td>\n",
       "    </tr>\n",
       "    <tr>\n",
       "      <th>age</th>\n",
       "      <td>age</td>\n",
       "      <td>0.027966</td>\n",
       "    </tr>\n",
       "    <tr>\n",
       "      <th>neurological_diseases</th>\n",
       "      <td>neurological_diseases</td>\n",
       "      <td>0.024549</td>\n",
       "    </tr>\n",
       "    <tr>\n",
       "      <th>nfamily_medhist</th>\n",
       "      <td>nfamily_medhist</td>\n",
       "      <td>0.021362</td>\n",
       "    </tr>\n",
       "    <tr>\n",
       "      <th>emesis</th>\n",
       "      <td>emesis</td>\n",
       "      <td>0.012678</td>\n",
       "    </tr>\n",
       "    <tr>\n",
       "      <th>primary_ich</th>\n",
       "      <td>primary_ich</td>\n",
       "      <td>0.010446</td>\n",
       "    </tr>\n",
       "    <tr>\n",
       "      <th>rlwlimb_mimpairment</th>\n",
       "      <td>rlwlimb_mimpairment</td>\n",
       "      <td>0.004346</td>\n",
       "    </tr>\n",
       "    <tr>\n",
       "      <th>sex</th>\n",
       "      <td>sex</td>\n",
       "      <td>0.004293</td>\n",
       "    </tr>\n",
       "    <tr>\n",
       "      <th>hypolipidemics</th>\n",
       "      <td>hypolipidemics</td>\n",
       "      <td>0.004124</td>\n",
       "    </tr>\n",
       "    <tr>\n",
       "      <th>balance_impairment</th>\n",
       "      <td>balance_impairment</td>\n",
       "      <td>0.003918</td>\n",
       "    </tr>\n",
       "    <tr>\n",
       "      <th>structural_heart_disease</th>\n",
       "      <td>structural_heart_disease</td>\n",
       "      <td>0.002704</td>\n",
       "    </tr>\n",
       "    <tr>\n",
       "      <th>anisocoria</th>\n",
       "      <td>anisocoria</td>\n",
       "      <td>0.002179</td>\n",
       "    </tr>\n",
       "    <tr>\n",
       "      <th>antihypertensives</th>\n",
       "      <td>antihypertensives</td>\n",
       "      <td>0.001346</td>\n",
       "    </tr>\n",
       "    <tr>\n",
       "      <th>anticoagulants</th>\n",
       "      <td>anticoagulants</td>\n",
       "      <td>0.001229</td>\n",
       "    </tr>\n",
       "    <tr>\n",
       "      <th>dmellitus</th>\n",
       "      <td>dmellitus</td>\n",
       "      <td>0.000952</td>\n",
       "    </tr>\n",
       "    <tr>\n",
       "      <th>ruplimb_mimpairment</th>\n",
       "      <td>ruplimb_mimpairment</td>\n",
       "      <td>0.000758</td>\n",
       "    </tr>\n",
       "    <tr>\n",
       "      <th>dyslipidemia</th>\n",
       "      <td>dyslipidemia</td>\n",
       "      <td>0.000680</td>\n",
       "    </tr>\n",
       "    <tr>\n",
       "      <th>ht</th>\n",
       "      <td>ht</td>\n",
       "      <td>0.000346</td>\n",
       "    </tr>\n",
       "    <tr>\n",
       "      <th>altered_consciousness</th>\n",
       "      <td>altered_consciousness</td>\n",
       "      <td>0.000167</td>\n",
       "    </tr>\n",
       "    <tr>\n",
       "      <th>luplimb_mimpairment</th>\n",
       "      <td>luplimb_mimpairment</td>\n",
       "      <td>0.000148</td>\n",
       "    </tr>\n",
       "    <tr>\n",
       "      <th>antiplatelets</th>\n",
       "      <td>antiplatelets</td>\n",
       "      <td>0.000027</td>\n",
       "    </tr>\n",
       "    <tr>\n",
       "      <th>seizures</th>\n",
       "      <td>seizures</td>\n",
       "      <td>0.000000</td>\n",
       "    </tr>\n",
       "    <tr>\n",
       "      <th>antidiabetics</th>\n",
       "      <td>antidiabetics</td>\n",
       "      <td>0.000000</td>\n",
       "    </tr>\n",
       "    <tr>\n",
       "      <th>aspirin</th>\n",
       "      <td>aspirin</td>\n",
       "      <td>0.000000</td>\n",
       "    </tr>\n",
       "    <tr>\n",
       "      <th>cumarinics</th>\n",
       "      <td>cumarinics</td>\n",
       "      <td>0.000000</td>\n",
       "    </tr>\n",
       "    <tr>\n",
       "      <th>visual_disturbances</th>\n",
       "      <td>visual_disturbances</td>\n",
       "      <td>0.000000</td>\n",
       "    </tr>\n",
       "    <tr>\n",
       "      <th>neurol_signs</th>\n",
       "      <td>neurol_signs</td>\n",
       "      <td>0.000000</td>\n",
       "    </tr>\n",
       "  </tbody>\n",
       "</table>\n",
       "</div>"
      ],
      "text/plain": [
       "                                          variable  importance\n",
       "tgcs                                          tgcs    0.281055\n",
       "urea                                          urea    0.112091\n",
       "potasium                                  potasium    0.078802\n",
       "maxfibrinogen                        maxfibrinogen    0.070504\n",
       "glucose                                    glucose    0.067010\n",
       "headache                                  headache    0.051992\n",
       "onset_h                                    onset_h    0.048622\n",
       "prothrombin_activity          prothrombin_activity    0.047155\n",
       "creatinine                              creatinine    0.042779\n",
       "llwlimb_mimpairment            llwlimb_mimpairment    0.040646\n",
       "hematocrit                              hematocrit    0.035126\n",
       "age                                            age    0.027966\n",
       "neurological_diseases        neurological_diseases    0.024549\n",
       "nfamily_medhist                    nfamily_medhist    0.021362\n",
       "emesis                                      emesis    0.012678\n",
       "primary_ich                            primary_ich    0.010446\n",
       "rlwlimb_mimpairment            rlwlimb_mimpairment    0.004346\n",
       "sex                                            sex    0.004293\n",
       "hypolipidemics                      hypolipidemics    0.004124\n",
       "balance_impairment              balance_impairment    0.003918\n",
       "structural_heart_disease  structural_heart_disease    0.002704\n",
       "anisocoria                              anisocoria    0.002179\n",
       "antihypertensives                antihypertensives    0.001346\n",
       "anticoagulants                      anticoagulants    0.001229\n",
       "dmellitus                                dmellitus    0.000952\n",
       "ruplimb_mimpairment            ruplimb_mimpairment    0.000758\n",
       "dyslipidemia                          dyslipidemia    0.000680\n",
       "ht                                              ht    0.000346\n",
       "altered_consciousness        altered_consciousness    0.000167\n",
       "luplimb_mimpairment            luplimb_mimpairment    0.000148\n",
       "antiplatelets                        antiplatelets    0.000027\n",
       "seizures                                  seizures    0.000000\n",
       "antidiabetics                        antidiabetics    0.000000\n",
       "aspirin                                    aspirin    0.000000\n",
       "cumarinics                              cumarinics    0.000000\n",
       "visual_disturbances            visual_disturbances    0.000000\n",
       "neurol_signs                          neurol_signs    0.000000"
      ]
     },
     "execution_count": 43,
     "metadata": {},
     "output_type": "execute_result"
    }
   ],
   "source": [
    "# Percentage of feature importance\n",
    "df_gb_aft_ls=pd.DataFrame(data={'variable':    model_gb_aft_ls.feature_names_in_,\n",
    "                                'importance':  model_gb_aft_ls.feature_importances_},\n",
    "                       index=X_test.columns).sort_values(by='importance', ascending=False)\n",
    "\n",
    "df_gb_aft_ls"
   ]
  },
  {
   "cell_type": "markdown",
   "id": "7e39e2db",
   "metadata": {},
   "source": [
    "#### 4.2.2. Bootstrapping confidence intervals."
   ]
  },
  {
   "cell_type": "code",
   "execution_count": 44,
   "id": "9ba31277",
   "metadata": {},
   "outputs": [],
   "source": [
    "def boots_gb_aft_ls (x, y, train_size, n_iterations, params_, alpha):\n",
    "    \n",
    "    idx= list(range(x.shape[0]))\n",
    "    train_size= int(x.shape[0]*train_size)\n",
    "    \n",
    "    test_cindex= []\n",
    "\n",
    "    for i in tqdm(range(n_iterations)):        \n",
    "        idx_train= random.choices(idx, k=train_size) # samples with replacement\n",
    "        idx_test= list(set(idx) - set(idx_train)) # samples will have different size, because of training sample replacement\n",
    "        \n",
    "        gb_aft_ls= GradientBoostingSurvivalAnalysis(loss='ipcwls', subsample=1, random_state=0)\n",
    "        \n",
    "        gb_aft_ls.set_params(**params_)\n",
    "                \n",
    "        gb_aft_ls.fit(x.values[idx_train,], y[idx_train])\n",
    "        \n",
    "        cindex= gb_aft_ls.score (x.values[idx_test], y[idx_test])\n",
    "        test_cindex.append(cindex)\n",
    "                \n",
    "    # confidence intervals\n",
    "    pl= alpha/2*100\n",
    "    pu= ((1-alpha) + (alpha/2))*100\n",
    "    \n",
    "    cindex_median= np.median(test_cindex)\n",
    "    cindex_lower= max(0.0, np.percentile(test_cindex, pl))\n",
    "    cindex_upper= min(1.0, np.percentile(test_cindex, pu))\n",
    "    \n",
    "    return (test_cindex, (cindex_median,cindex_lower,cindex_upper))"
   ]
  },
  {
   "cell_type": "code",
   "execution_count": 45,
   "id": "7f4f0142",
   "metadata": {},
   "outputs": [
    {
     "data": {
      "application/vnd.jupyter.widget-view+json": {
       "model_id": "3aee19c0f52047afaa032b041c92b870",
       "version_major": 2,
       "version_minor": 0
      },
      "text/plain": [
       "  0%|          | 0/10000 [00:00<?, ?it/s]"
      ]
     },
     "metadata": {},
     "output_type": "display_data"
    }
   ],
   "source": [
    "y_nonan_non0= y_nonan.copy()\n",
    "y_nonan_non0[y_nonan_non0['Survival_in_days'] == 0]= 0.1\n",
    "\n",
    "model_gb_aft_ls_cindex, model_gb_aft_ls_ci= boots_gb_aft_ls (x=df_X_nonan, y=y_nonan_non0, train_size=0.8, params_=gb_aft_ls_gcv.best_params_, n_iterations=10000, alpha=0.05)"
   ]
  },
  {
   "cell_type": "code",
   "execution_count": 46,
   "id": "f88753eb",
   "metadata": {},
   "outputs": [
    {
     "data": {
      "text/plain": [
       "Text(0.5, 1.0, 'Model GB AFT: 0.66, 95%CI 0.52 and 0.78')"
      ]
     },
     "execution_count": 46,
     "metadata": {},
     "output_type": "execute_result"
    },
    {
     "data": {
      "image/png": "[encoded data removed]",
      "text/plain": [
       "<Figure size 600x400 with 1 Axes>"
      ]
     },
     "metadata": {},
     "output_type": "display_data"
    }
   ],
   "source": [
    "fig,ax= plt.subplots(1,1, figsize=(6,4))\n",
    "sns.histplot(model_gb_aft_ls_cindex, ax=ax)\n",
    "\n",
    "alpha= 0.05\n",
    "ax.set_title('Model GB AFT: %.2f, %.0f%%CI %.2f and %.2f' % (model_gb_aft_ls_ci[0], (1-alpha)*100, model_gb_aft_ls_ci[1], model_gb_aft_ls_ci[2]))"
   ]
  },
  {
   "cell_type": "markdown",
   "id": "fa66bfe9",
   "metadata": {},
   "source": [
    "### 4.3. Predicting"
   ]
  },
  {
   "cell_type": "markdown",
   "id": "2b7c4c28",
   "metadata": {},
   "source": [
    "Prediction include an individual risk score."
   ]
  },
  {
   "cell_type": "code",
   "execution_count": 47,
   "id": "34815c48",
   "metadata": {},
   "outputs": [
    {
     "data": {
      "text/html": [
       "<div>\n",
       "<style scoped>\n",
       "    .dataframe tbody tr th:only-of-type {\n",
       "        vertical-align: middle;\n",
       "    }\n",
       "\n",
       "    .dataframe tbody tr th {\n",
       "        vertical-align: top;\n",
       "    }\n",
       "\n",
       "    .dataframe thead th {\n",
       "        text-align: right;\n",
       "    }\n",
       "</style>\n",
       "<table border=\"1\" class=\"dataframe\">\n",
       "  <thead>\n",
       "    <tr style=\"text-align: right;\">\n",
       "      <th></th>\n",
       "      <th>Predicted risk scored</th>\n",
       "      <th>Labels</th>\n",
       "    </tr>\n",
       "    <tr>\n",
       "      <th>Patients</th>\n",
       "      <th></th>\n",
       "      <th></th>\n",
       "    </tr>\n",
       "  </thead>\n",
       "  <tbody>\n",
       "    <tr>\n",
       "      <th>2</th>\n",
       "      <td>17.748378</td>\n",
       "      <td>(True, 19.0)</td>\n",
       "    </tr>\n",
       "    <tr>\n",
       "      <th>4</th>\n",
       "      <td>1750.228008</td>\n",
       "      <td>(False, 2271.0)</td>\n",
       "    </tr>\n",
       "    <tr>\n",
       "      <th>14</th>\n",
       "      <td>569.919879</td>\n",
       "      <td>(False, 1816.0)</td>\n",
       "    </tr>\n",
       "  </tbody>\n",
       "</table>\n",
       "</div>"
      ],
      "text/plain": [
       "          Predicted risk scored           Labels\n",
       "Patients                                        \n",
       "2                     17.748378     (True, 19.0)\n",
       "4                   1750.228008  (False, 2271.0)\n",
       "14                   569.919879  (False, 1816.0)"
      ]
     },
     "execution_count": 47,
     "metadata": {},
     "output_type": "execute_result"
    }
   ],
   "source": [
    "# Predict risk scores\n",
    "patients= [2,4,14]\n",
    "pd.DataFrame(data={'Predicted risk scored': model_gb_aft_ls.predict(X_test.iloc[patients]),\n",
    "                   'Labels':y_test[patients].tolist()},\n",
    "             index=pd.Index(data=patients, name='Patients'))"
   ]
  }
 ],
 "metadata": {
  "kernelspec": {
   "display_name": "Python 3 (ipykernel)",
   "language": "python",
   "name": "python3"
  },
  "language_info": {
   "codemirror_mode": {
    "name": "ipython",
    "version": 3
   },
   "file_extension": ".py",
   "mimetype": "text/x-python",
   "name": "python",
   "nbconvert_exporter": "python",
   "pygments_lexer": "ipython3",
   "version": "3.8.2"
  }
 },
 "nbformat": 4,
 "nbformat_minor": 5
}
