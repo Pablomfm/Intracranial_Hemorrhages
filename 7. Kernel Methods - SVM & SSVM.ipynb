{
 "cells": [
  {
   "cell_type": "markdown",
   "id": "11cacaab",
   "metadata": {},
   "source": [
    "## <center> INTRACRANIAL HEMORRHAGES DATABASE - KERNEL METHODS - SVM & SSVM</center>"
   ]
  },
  {
   "cell_type": "markdown",
   "id": "c0272761",
   "metadata": {},
   "source": [
    "**Kernel methods** are a type of Machine Learning algorithms used to map input data into a different multidimensional space in which data classes can be easily sepparated. Therefore, this methods are very used to solve classifcation and regression problems. A very well-knowned algorithm of this group is **Support Vector Machine (SVM)**, which has been adapted for solving survival prediction in the named **Survival Support Vector Machine (SSVM)**.\n",
    "\n",
    "**1. Load dataset**\n",
    "\n",
    "\n",
    "**2. Support Vector Machine (SVM)**\n",
    "\n",
    "- **Data pre-processing**\n",
    "- **Fitting**\n",
    "    - SVM for survival_discharge\n",
    "    - SVM for follow_up\n",
    "    - SVM for final_outcome\n",
    "- **Testing**\n",
    "\n",
    "\n",
    "**3. Survival Support Vector Machine (SSVM)**\n",
    "\n",
    "- **Data pre-processing**\n",
    "- **Linear SSVM**\n",
    "\n",
    "    - Ranking objective\n",
    "    - Regression objective\n",
    "- **Kernel SSVM**"
   ]
  },
  {
   "cell_type": "markdown",
   "id": "cc7ab804",
   "metadata": {},
   "source": [
    "### Import libraries"
   ]
  },
  {
   "cell_type": "code",
   "execution_count": 1,
   "id": "8df57ca5",
   "metadata": {},
   "outputs": [],
   "source": [
    "import numpy as np\n",
    "import pandas as pd\n",
    "import warnings\n",
    "import random\n",
    "from sklearn.preprocessing import StandardScaler\n",
    "from sklearn.model_selection import train_test_split\n",
    "from sklearn.utils import shuffle\n",
    "from sklearn.decomposition import PCA, FactorAnalysis\n",
    "from sklearn.svm import SVC\n",
    "from sklearn.pipeline import make_pipeline\n",
    "from sklearn.model_selection import KFold, GridSearchCV, ShuffleSplit\n",
    "from sklearn.metrics import classification_report, confusion_matrix\n",
    "from sksurv.util import Surv\n",
    "from sksurv.svm import FastSurvivalSVM, FastKernelSurvivalSVM\n",
    "from sksurv.kernels import clinical_kernel\n",
    "from sksurv.metrics import concordance_index_censored\n",
    "import matplotlib.pyplot as plt\n",
    "import seaborn as sns\n",
    "from tqdm.notebook import tqdm\n",
    "from time import time"
   ]
  },
  {
   "cell_type": "markdown",
   "id": "a109e9e2",
   "metadata": {},
   "source": [
    "### Silent warnings and Set decimal notation"
   ]
  },
  {
   "cell_type": "code",
   "execution_count": 2,
   "id": "a3608ee8",
   "metadata": {},
   "outputs": [],
   "source": [
    "warnings.filterwarnings('ignore')\n",
    "np.set_printoptions(suppress=True) # Print decimal notation instead of scientific notation"
   ]
  },
  {
   "cell_type": "markdown",
   "id": "6453c0c0",
   "metadata": {},
   "source": [
    "### 1. Load dataset"
   ]
  },
  {
   "cell_type": "code",
   "execution_count": 3,
   "id": "47a028d7",
   "metadata": {},
   "outputs": [
    {
     "data": {
      "text/html": [
       "<div>\n",
       "<style scoped>\n",
       "    .dataframe tbody tr th:only-of-type {\n",
       "        vertical-align: middle;\n",
       "    }\n",
       "\n",
       "    .dataframe tbody tr th {\n",
       "        vertical-align: top;\n",
       "    }\n",
       "\n",
       "    .dataframe thead th {\n",
       "        text-align: right;\n",
       "    }\n",
       "</style>\n",
       "<table border=\"1\" class=\"dataframe\">\n",
       "  <thead>\n",
       "    <tr style=\"text-align: right;\">\n",
       "      <th></th>\n",
       "      <th>patient</th>\n",
       "      <th>sex</th>\n",
       "      <th>hospital</th>\n",
       "      <th>follow_up</th>\n",
       "      <th>final_outcome</th>\n",
       "      <th>nfamily_medhist</th>\n",
       "      <th>tobacco</th>\n",
       "      <th>n_tobacco</th>\n",
       "      <th>drugs</th>\n",
       "      <th>alcohol</th>\n",
       "      <th>...</th>\n",
       "      <th>rdw</th>\n",
       "      <th>mchc</th>\n",
       "      <th>mpv</th>\n",
       "      <th>mch</th>\n",
       "      <th>inr</th>\n",
       "      <th>fibrinogen</th>\n",
       "      <th>maxfibrinogen</th>\n",
       "      <th>time_between_CT_bloodanalysis</th>\n",
       "      <th>age</th>\n",
       "      <th>survival_days</th>\n",
       "    </tr>\n",
       "  </thead>\n",
       "  <tbody>\n",
       "    <tr>\n",
       "      <th>0</th>\n",
       "      <td>1</td>\n",
       "      <td>1</td>\n",
       "      <td>1.0</td>\n",
       "      <td>2.0</td>\n",
       "      <td>2.0</td>\n",
       "      <td>17</td>\n",
       "      <td>2.0</td>\n",
       "      <td>NaN</td>\n",
       "      <td>0</td>\n",
       "      <td>0</td>\n",
       "      <td>...</td>\n",
       "      <td>17.0</td>\n",
       "      <td>33.0</td>\n",
       "      <td>9.0</td>\n",
       "      <td>28.1</td>\n",
       "      <td>4.21</td>\n",
       "      <td>344.0</td>\n",
       "      <td>618.0</td>\n",
       "      <td>0</td>\n",
       "      <td>74</td>\n",
       "      <td>4</td>\n",
       "    </tr>\n",
       "    <tr>\n",
       "      <th>1</th>\n",
       "      <td>2</td>\n",
       "      <td>2</td>\n",
       "      <td>2.0</td>\n",
       "      <td>0.0</td>\n",
       "      <td>1.0</td>\n",
       "      <td>4</td>\n",
       "      <td>0.0</td>\n",
       "      <td>0.0</td>\n",
       "      <td>0</td>\n",
       "      <td>0</td>\n",
       "      <td>...</td>\n",
       "      <td>14.7</td>\n",
       "      <td>32.5</td>\n",
       "      <td>10.7</td>\n",
       "      <td>29.8</td>\n",
       "      <td>NaN</td>\n",
       "      <td>NaN</td>\n",
       "      <td>1081.0</td>\n",
       "      <td>0</td>\n",
       "      <td>81</td>\n",
       "      <td>2128</td>\n",
       "    </tr>\n",
       "    <tr>\n",
       "      <th>2</th>\n",
       "      <td>3</td>\n",
       "      <td>2</td>\n",
       "      <td>1.0</td>\n",
       "      <td>0.0</td>\n",
       "      <td>0.0</td>\n",
       "      <td>8</td>\n",
       "      <td>0.0</td>\n",
       "      <td>0.0</td>\n",
       "      <td>0</td>\n",
       "      <td>0</td>\n",
       "      <td>...</td>\n",
       "      <td>14.0</td>\n",
       "      <td>33.1</td>\n",
       "      <td>8.7</td>\n",
       "      <td>30.1</td>\n",
       "      <td>3.16</td>\n",
       "      <td>298.0</td>\n",
       "      <td>470.0</td>\n",
       "      <td>0</td>\n",
       "      <td>78</td>\n",
       "      <td>2388</td>\n",
       "    </tr>\n",
       "    <tr>\n",
       "      <th>3</th>\n",
       "      <td>4</td>\n",
       "      <td>2</td>\n",
       "      <td>1.0</td>\n",
       "      <td>2.0</td>\n",
       "      <td>2.0</td>\n",
       "      <td>8</td>\n",
       "      <td>0.0</td>\n",
       "      <td>0.0</td>\n",
       "      <td>0</td>\n",
       "      <td>0</td>\n",
       "      <td>...</td>\n",
       "      <td>15.8</td>\n",
       "      <td>34.1</td>\n",
       "      <td>7.6</td>\n",
       "      <td>19.3</td>\n",
       "      <td>1.09</td>\n",
       "      <td>344.0</td>\n",
       "      <td>344.0</td>\n",
       "      <td>0</td>\n",
       "      <td>79</td>\n",
       "      <td>7</td>\n",
       "    </tr>\n",
       "  </tbody>\n",
       "</table>\n",
       "<p>4 rows × 142 columns</p>\n",
       "</div>"
      ],
      "text/plain": [
       "   patient sex hospital follow_up final_outcome  nfamily_medhist tobacco   \n",
       "0        1   1      1.0       2.0           2.0               17     2.0  \\\n",
       "1        2   2      2.0       0.0           1.0                4     0.0   \n",
       "2        3   2      1.0       0.0           0.0                8     0.0   \n",
       "3        4   2      1.0       2.0           2.0                8     0.0   \n",
       "\n",
       "   n_tobacco drugs alcohol  ...   rdw  mchc   mpv   mch   inr fibrinogen   \n",
       "0        NaN     0       0  ...  17.0  33.0   9.0  28.1  4.21      344.0  \\\n",
       "1        0.0     0       0  ...  14.7  32.5  10.7  29.8   NaN        NaN   \n",
       "2        0.0     0       0  ...  14.0  33.1   8.7  30.1  3.16      298.0   \n",
       "3        0.0     0       0  ...  15.8  34.1   7.6  19.3  1.09      344.0   \n",
       "\n",
       "  maxfibrinogen time_between_CT_bloodanalysis age survival_days  \n",
       "0         618.0                             0  74             4  \n",
       "1        1081.0                             0  81          2128  \n",
       "2         470.0                             0  78          2388  \n",
       "3         344.0                             0  79             7  \n",
       "\n",
       "[4 rows x 142 columns]"
      ]
     },
     "execution_count": 3,
     "metadata": {},
     "output_type": "execute_result"
    }
   ],
   "source": [
    "df= pd.read_hdf('Databases/ICH_database.hdf5')\n",
    "df_metadata= pd.read_csv('Databases/ICH_database_metadata.csv')\n",
    "df.head(4)"
   ]
  },
  {
   "cell_type": "code",
   "execution_count": 4,
   "id": "def1049f",
   "metadata": {},
   "outputs": [
    {
     "data": {
      "text/plain": [
       "['follow_up',\n",
       " 'final_outcome',\n",
       " 'survival_discharge',\n",
       " 'survival_3d',\n",
       " 'survival_6d',\n",
       " 'survival_9d',\n",
       " 'survival_12d',\n",
       " 'survival_15d',\n",
       " 'survival_1m',\n",
       " 'survival_3m',\n",
       " 'survival_1y',\n",
       " 'survival_5y',\n",
       " 'survived',\n",
       " 'neurosurg',\n",
       " 'interprocedures',\n",
       " 'survival_days']"
      ]
     },
     "execution_count": 4,
     "metadata": {},
     "output_type": "execute_result"
    }
   ],
   "source": [
    "# Explore outcomes (hospitalization days will be considered as a predictor)\n",
    "outcomes= df_metadata[df_metadata['Type_of_Variable'] == 'Outcome']['Variable_Label'].values.tolist()\n",
    "outcomes"
   ]
  },
  {
   "cell_type": "code",
   "execution_count": 5,
   "id": "fcf0d686",
   "metadata": {},
   "outputs": [],
   "source": [
    "# Selection of some predictors to have enought sample after removing NaNs\n",
    "predictors= ['sex','nfamily_medhist', 'ht', 'dmellitus', 'dyslipidemia', 'structural_heart_disease',\n",
    "             'neurological_diseases',\n",
    "             'antihypertensives', 'antidiabetics', 'hypolipidemics', 'anticoagulants', 'antiplatelets',\n",
    "             'aspirin', 'cumarinics',\n",
    "             'headache', 'emesis', 'visual_disturbances', 'seizures',\n",
    "             'neurol_signs', 'anisocoria', 'altered_consciousness',\n",
    "             'ruplimb_mimpairment', 'luplimb_mimpairment', 'rlwlimb_mimpairment', 'llwlimb_mimpairment',\n",
    "             'balance_impairment', 'tgcs', 'onset_h',\n",
    "             'primary_ich',\n",
    "             'glucose', 'urea', 'creatinine', 'potasium', 'prothrombin_activity', 'hematocrit', 'maxfibrinogen',\n",
    "             'age']"
   ]
  },
  {
   "cell_type": "code",
   "execution_count": 6,
   "id": "2cb0af29",
   "metadata": {},
   "outputs": [],
   "source": [
    "df_X= df[predictors]\n",
    "df_y= df[outcomes]"
   ]
  },
  {
   "cell_type": "markdown",
   "id": "25e0526c",
   "metadata": {},
   "source": [
    "### 2. Support Vector Machine (SVM)"
   ]
  },
  {
   "cell_type": "markdown",
   "id": "e1aaaa45",
   "metadata": {},
   "source": [
    "- **Data pre-processing**\n",
    "\n",
    "- **Fitting**\n",
    "    - **SVM for survival_discharge**\n",
    "    - **SVM for follow_up**\n",
    "    - **SVM for final_outcome**\n",
    "\n",
    "- **Testing**"
   ]
  },
  {
   "cell_type": "markdown",
   "id": "c11e21c2",
   "metadata": {},
   "source": [
    "**Support Vector Machines (SVMs)** are one of the most popular Machine Learning models used to solve classification and regression problems. These models find a hyperplane able to separate classes in a multidimensional space, so when a new sample has to be classify, it is enought to represent it and see in which side of the hyperplane falls.\n",
    "\n",
    "**SVMs are unable to be applied directly to categorical data**, since they are based on the *euclidean distances*. These methods are usually applied to **continuous numerical data**. However, using **dummy variables** to represent the categorical data and **standarizing the numerical variables**, contributions to the euclidean distances from a numerical variable and a categorical variable are basically on the same level, so **SVM can be applied**. Finally, techniques such as **PCA** usually improve the performance of these three classifiers significantly."
   ]
  },
  {
   "cell_type": "markdown",
   "id": "3bd9b3cb",
   "metadata": {},
   "source": [
    "#### 2.1. Data pre-processing"
   ]
  },
  {
   "cell_type": "code",
   "execution_count": 7,
   "id": "dc250b64",
   "metadata": {},
   "outputs": [
    {
     "data": {
      "text/plain": [
       "(129, 37)"
      ]
     },
     "execution_count": 7,
     "metadata": {},
     "output_type": "execute_result"
    }
   ],
   "source": [
    "# Standarization of the variables to avoid scale problems\n",
    "scaler= StandardScaler()\n",
    "\n",
    "# Separete quantitatives and qualitatives\n",
    "quantitatives= [variable for variable in df_X.columns.tolist() if df_X[variable].dtype in ('int64','float64')]\n",
    "df_X_quant= df_X[quantitatives]\n",
    "df_X_qual= df_X[list(set(df_X.columns.tolist()) - set(quantitatives))]\n",
    "\n",
    "# Standarize quantitatives\n",
    "X_quant_std= scaler.fit_transform(df_X_quant)\n",
    "df_X_quant_std= pd.DataFrame(data=X_quant_std, columns=df_X_quant.columns.to_list())\n",
    "\n",
    "# Concatenate quantitatives standarized and qualitatives\n",
    "df_X_std= pd.concat([df_X_quant_std, df_X_qual], axis=1)\n",
    "\n",
    "# Remove NaN\n",
    "df_X_std_nonan= df_X_std.dropna(axis=0)\n",
    "df_X_std_nonan.shape"
   ]
  },
  {
   "cell_type": "code",
   "execution_count": 8,
   "id": "405440d4",
   "metadata": {},
   "outputs": [
    {
     "name": "stdout",
     "output_type": "stream",
     "text": [
      "[[ 0 31]\n",
      " [ 1 98]] \n",
      "\n",
      "[[ 0. 57.]\n",
      " [ 1. 34.]\n",
      " [ 2. 33.]] \n",
      "\n",
      "[[ 0. 91.]\n",
      " [ 1. 30.]] \n",
      "\n"
     ]
    }
   ],
   "source": [
    "# Prepare data and labels\n",
    "data= df_X_std_nonan\n",
    "\n",
    "y1= df_y.loc[data.index, 'survival_discharge'] # Death (0) vs survival (1)\n",
    "y2= df_y.loc[data.index, 'follow_up'] # No deterioration (0) vs deterioration (1) vs death (2)\n",
    "y3= df_y.loc[data.index, 'final_outcome'] # Curation (0,1) vs death (2)\n",
    "\n",
    "idx1= (y1 == 0) | (y1 == 1)\n",
    "idx2= (y2 == 0) | (y2 == 1) | (y2 == 2)\n",
    "idx3= (y3 == 0) | (y3 == 1) | (y3 == 2)\n",
    "\n",
    "x_data1= df_X_std_nonan[idx1]\n",
    "x_data2= df_X_std_nonan[idx2]\n",
    "x_data3= df_X_std_nonan[idx3]\n",
    "\n",
    "y_data1= pd.Categorical(y1[idx1]).remove_unused_categories()\n",
    "y_data2= pd.Categorical(y2[idx2]).remove_unused_categories()\n",
    "y3[y3 == 1]= 0; y3[y3 == 2]= 1\n",
    "y_data3= pd.Categorical(y3[idx3]).remove_unused_categories()\n",
    "\n",
    "print(np.asarray(np.unique(y_data1, return_counts=True)).T, '\\n')\n",
    "print(np.asarray(np.unique(y_data2, return_counts=True)).T, '\\n')\n",
    "print(np.asarray(np.unique(y_data3, return_counts=True)).T, '\\n')"
   ]
  },
  {
   "cell_type": "code",
   "execution_count": 9,
   "id": "e9289539",
   "metadata": {},
   "outputs": [
    {
     "name": "stdout",
     "output_type": "stream",
     "text": [
      "(103, 37)\n",
      "(103,)\n",
      "(26, 37)\n",
      "(26,)\n"
     ]
    }
   ],
   "source": [
    "# Separar en 2/3 para entrenar y 1/3 para testar\n",
    "X_train1, X_test1, y_train1, y_test1= train_test_split(x_data1, y_data1, test_size=0.2, random_state=0)\n",
    "X_train2, X_test2, y_train2, y_test2= train_test_split(x_data2, y_data2, test_size=0.2, random_state=0)\n",
    "X_train3, X_test3, y_train3, y_test3= train_test_split(x_data3, y_data3, test_size=0.2, random_state=0)\n",
    "\n",
    "print(X_train1.shape)\n",
    "print(y_train1.shape)\n",
    "print(X_test1.shape)\n",
    "print(y_test1.shape)"
   ]
  },
  {
   "cell_type": "markdown",
   "id": "2f742720",
   "metadata": {},
   "source": [
    "#### 2.2. Fitting"
   ]
  },
  {
   "cell_type": "code",
   "execution_count": 10,
   "id": "adc09827",
   "metadata": {},
   "outputs": [],
   "source": [
    "# Make a pipeline and a GridSearch to find the best hyperparameters\n",
    "\n",
    "pca= PCA(whiten=True, svd_solver='randomized', random_state=0)\n",
    "svc= SVC(class_weight='balanced')\n",
    "svc_pipe= make_pipeline(pca, svc)\n",
    "\n",
    "param_grid= {'pca__n_components': [8, 10, 12, 16, 17, 18, 20],\n",
    "             'svc__C': [0.5, 1, 2, 3, 4],\n",
    "             'svc__kernel': ['rbf', 'linear'],\n",
    "             'svc__gamma': [0.001, 0.005, 0.05, 0.1, 0.5]}\n",
    "\n",
    "cv= KFold(n_splits=5, shuffle=True, random_state=0)\n",
    "\n",
    "gcv= GridSearchCV(estimator=svc_pipe,\n",
    "                  param_grid=param_grid,\n",
    "                  cv=cv,\n",
    "                  error_score=0.5,\n",
    "                  n_jobs=1)"
   ]
  },
  {
   "cell_type": "markdown",
   "id": "3cb2abbb",
   "metadata": {},
   "source": [
    "#### 2.2.1. SVM for survival_discharge"
   ]
  },
  {
   "cell_type": "code",
   "execution_count": 11,
   "id": "66f8d2b1",
   "metadata": {},
   "outputs": [
    {
     "name": "stdout",
     "output_type": "stream",
     "text": [
      "Fitting time: 0.77 min \n",
      "\n",
      "Best hyperparameters:\n",
      "{'pca__n_components': 17, 'svc__C': 3, 'svc__gamma': 0.1, 'svc__kernel': 'rbf'} \n",
      "\n",
      "Best score: 0.8143\n"
     ]
    }
   ],
   "source": [
    "t0= time()\n",
    "gcv1= gcv\n",
    "gcv1.fit(X_train1, y_train1)\n",
    "time_cv= time() - t0\n",
    "\n",
    "print('Fitting time: %0.2f min'%(time_cv/60), '\\n')\n",
    "print('Best hyperparameters:')\n",
    "print(gcv1.best_params_, '\\n')\n",
    "print('Best score:', round(gcv1.best_score_,4))"
   ]
  },
  {
   "cell_type": "code",
   "execution_count": 12,
   "id": "4fa2bd51",
   "metadata": {},
   "outputs": [
    {
     "data": {
      "text/html": [
       "<style>#sk-container-id-1 {color: black;background-color: white;}#sk-container-id-1 pre{padding: 0;}#sk-container-id-1 div.sk-toggleable {background-color: white;}#sk-container-id-1 label.sk-toggleable__label {cursor: pointer;display: block;width: 100%;margin-bottom: 0;padding: 0.3em;box-sizing: border-box;text-align: center;}#sk-container-id-1 label.sk-toggleable__label-arrow:before {content: \"▸\";float: left;margin-right: 0.25em;color: #696969;}#sk-container-id-1 label.sk-toggleable__label-arrow:hover:before {color: black;}#sk-container-id-1 div.sk-estimator:hover label.sk-toggleable__label-arrow:before {color: black;}#sk-container-id-1 div.sk-toggleable__content {max-height: 0;max-width: 0;overflow: hidden;text-align: left;background-color: #f0f8ff;}#sk-container-id-1 div.sk-toggleable__content pre {margin: 0.2em;color: black;border-radius: 0.25em;background-color: #f0f8ff;}#sk-container-id-1 input.sk-toggleable__control:checked~div.sk-toggleable__content {max-height: 200px;max-width: 100%;overflow: auto;}#sk-container-id-1 input.sk-toggleable__control:checked~label.sk-toggleable__label-arrow:before {content: \"▾\";}#sk-container-id-1 div.sk-estimator input.sk-toggleable__control:checked~label.sk-toggleable__label {background-color: #d4ebff;}#sk-container-id-1 div.sk-label input.sk-toggleable__control:checked~label.sk-toggleable__label {background-color: #d4ebff;}#sk-container-id-1 input.sk-hidden--visually {border: 0;clip: rect(1px 1px 1px 1px);clip: rect(1px, 1px, 1px, 1px);height: 1px;margin: -1px;overflow: hidden;padding: 0;position: absolute;width: 1px;}#sk-container-id-1 div.sk-estimator {font-family: monospace;background-color: #f0f8ff;border: 1px dotted black;border-radius: 0.25em;box-sizing: border-box;margin-bottom: 0.5em;}#sk-container-id-1 div.sk-estimator:hover {background-color: #d4ebff;}#sk-container-id-1 div.sk-parallel-item::after {content: \"\";width: 100%;border-bottom: 1px solid gray;flex-grow: 1;}#sk-container-id-1 div.sk-label:hover label.sk-toggleable__label {background-color: #d4ebff;}#sk-container-id-1 div.sk-serial::before {content: \"\";position: absolute;border-left: 1px solid gray;box-sizing: border-box;top: 0;bottom: 0;left: 50%;z-index: 0;}#sk-container-id-1 div.sk-serial {display: flex;flex-direction: column;align-items: center;background-color: white;padding-right: 0.2em;padding-left: 0.2em;position: relative;}#sk-container-id-1 div.sk-item {position: relative;z-index: 1;}#sk-container-id-1 div.sk-parallel {display: flex;align-items: stretch;justify-content: center;background-color: white;position: relative;}#sk-container-id-1 div.sk-item::before, #sk-container-id-1 div.sk-parallel-item::before {content: \"\";position: absolute;border-left: 1px solid gray;box-sizing: border-box;top: 0;bottom: 0;left: 50%;z-index: -1;}#sk-container-id-1 div.sk-parallel-item {display: flex;flex-direction: column;z-index: 1;position: relative;background-color: white;}#sk-container-id-1 div.sk-parallel-item:first-child::after {align-self: flex-end;width: 50%;}#sk-container-id-1 div.sk-parallel-item:last-child::after {align-self: flex-start;width: 50%;}#sk-container-id-1 div.sk-parallel-item:only-child::after {width: 0;}#sk-container-id-1 div.sk-dashed-wrapped {border: 1px dashed gray;margin: 0 0.4em 0.5em 0.4em;box-sizing: border-box;padding-bottom: 0.4em;background-color: white;}#sk-container-id-1 div.sk-label label {font-family: monospace;font-weight: bold;display: inline-block;line-height: 1.2em;}#sk-container-id-1 div.sk-label-container {text-align: center;}#sk-container-id-1 div.sk-container {/* jupyter's `normalize.less` sets `[hidden] { display: none; }` but bootstrap.min.css set `[hidden] { display: none !important; }` so we also need the `!important` here to be able to override the default hidden behavior on the sphinx rendered scikit-learn.org. See: https://github.com/scikit-learn/scikit-learn/issues/21755 */display: inline-block !important;position: relative;}#sk-container-id-1 div.sk-text-repr-fallback {display: none;}</style><div id=\"sk-container-id-1\" class=\"sk-top-container\"><div class=\"sk-text-repr-fallback\"><pre>Pipeline(steps=[(&#x27;pca&#x27;,\n",
       "                 PCA(n_components=17, random_state=0, svd_solver=&#x27;randomized&#x27;,\n",
       "                     whiten=True)),\n",
       "                (&#x27;svc&#x27;, SVC(C=3, class_weight=&#x27;balanced&#x27;, gamma=0.1))])</pre><b>In a Jupyter environment, please rerun this cell to show the HTML representation or trust the notebook. <br />On GitHub, the HTML representation is unable to render, please try loading this page with nbviewer.org.</b></div><div class=\"sk-container\" hidden><div class=\"sk-item sk-dashed-wrapped\"><div class=\"sk-label-container\"><div class=\"sk-label sk-toggleable\"><input class=\"sk-toggleable__control sk-hidden--visually\" id=\"sk-estimator-id-1\" type=\"checkbox\" ><label for=\"sk-estimator-id-1\" class=\"sk-toggleable__label sk-toggleable__label-arrow\">Pipeline</label><div class=\"sk-toggleable__content\"><pre>Pipeline(steps=[(&#x27;pca&#x27;,\n",
       "                 PCA(n_components=17, random_state=0, svd_solver=&#x27;randomized&#x27;,\n",
       "                     whiten=True)),\n",
       "                (&#x27;svc&#x27;, SVC(C=3, class_weight=&#x27;balanced&#x27;, gamma=0.1))])</pre></div></div></div><div class=\"sk-serial\"><div class=\"sk-item\"><div class=\"sk-estimator sk-toggleable\"><input class=\"sk-toggleable__control sk-hidden--visually\" id=\"sk-estimator-id-2\" type=\"checkbox\" ><label for=\"sk-estimator-id-2\" class=\"sk-toggleable__label sk-toggleable__label-arrow\">PCA</label><div class=\"sk-toggleable__content\"><pre>PCA(n_components=17, random_state=0, svd_solver=&#x27;randomized&#x27;, whiten=True)</pre></div></div></div><div class=\"sk-item\"><div class=\"sk-estimator sk-toggleable\"><input class=\"sk-toggleable__control sk-hidden--visually\" id=\"sk-estimator-id-3\" type=\"checkbox\" ><label for=\"sk-estimator-id-3\" class=\"sk-toggleable__label sk-toggleable__label-arrow\">SVC</label><div class=\"sk-toggleable__content\"><pre>SVC(C=3, class_weight=&#x27;balanced&#x27;, gamma=0.1)</pre></div></div></div></div></div></div></div>"
      ],
      "text/plain": [
       "Pipeline(steps=[('pca',\n",
       "                 PCA(n_components=17, random_state=0, svd_solver='randomized',\n",
       "                     whiten=True)),\n",
       "                ('svc', SVC(C=3, class_weight='balanced', gamma=0.1))])"
      ]
     },
     "execution_count": 12,
     "metadata": {},
     "output_type": "execute_result"
    }
   ],
   "source": [
    "# Final model 1 - survival discharge\n",
    "model1= gcv1.best_estimator_\n",
    "model1"
   ]
  },
  {
   "cell_type": "markdown",
   "id": "e2f9f681",
   "metadata": {},
   "source": [
    "#### 2.2.2. SVM for follow_up"
   ]
  },
  {
   "cell_type": "code",
   "execution_count": 13,
   "id": "1096a963",
   "metadata": {},
   "outputs": [
    {
     "name": "stdout",
     "output_type": "stream",
     "text": [
      "Fitting time: 0.73 min \n",
      "\n",
      "Best hyperparameters:\n",
      "{'pca__n_components': 10, 'svc__C': 3, 'svc__gamma': 0.005, 'svc__kernel': 'rbf'} \n",
      "\n",
      "Best score: 0.6563\n"
     ]
    }
   ],
   "source": [
    "t0= time()\n",
    "gcv2= gcv\n",
    "gcv2.fit(X_train2, y_train2)\n",
    "time_cv= time() - t0\n",
    "\n",
    "print('Fitting time: %0.2f min'%(time_cv/60), '\\n')\n",
    "print('Best hyperparameters:')\n",
    "print(gcv2.best_params_, '\\n')\n",
    "print('Best score:', round(gcv2.best_score_,4))"
   ]
  },
  {
   "cell_type": "code",
   "execution_count": 14,
   "id": "4d999550",
   "metadata": {},
   "outputs": [
    {
     "data": {
      "text/html": [
       "<style>#sk-container-id-2 {color: black;background-color: white;}#sk-container-id-2 pre{padding: 0;}#sk-container-id-2 div.sk-toggleable {background-color: white;}#sk-container-id-2 label.sk-toggleable__label {cursor: pointer;display: block;width: 100%;margin-bottom: 0;padding: 0.3em;box-sizing: border-box;text-align: center;}#sk-container-id-2 label.sk-toggleable__label-arrow:before {content: \"▸\";float: left;margin-right: 0.25em;color: #696969;}#sk-container-id-2 label.sk-toggleable__label-arrow:hover:before {color: black;}#sk-container-id-2 div.sk-estimator:hover label.sk-toggleable__label-arrow:before {color: black;}#sk-container-id-2 div.sk-toggleable__content {max-height: 0;max-width: 0;overflow: hidden;text-align: left;background-color: #f0f8ff;}#sk-container-id-2 div.sk-toggleable__content pre {margin: 0.2em;color: black;border-radius: 0.25em;background-color: #f0f8ff;}#sk-container-id-2 input.sk-toggleable__control:checked~div.sk-toggleable__content {max-height: 200px;max-width: 100%;overflow: auto;}#sk-container-id-2 input.sk-toggleable__control:checked~label.sk-toggleable__label-arrow:before {content: \"▾\";}#sk-container-id-2 div.sk-estimator input.sk-toggleable__control:checked~label.sk-toggleable__label {background-color: #d4ebff;}#sk-container-id-2 div.sk-label input.sk-toggleable__control:checked~label.sk-toggleable__label {background-color: #d4ebff;}#sk-container-id-2 input.sk-hidden--visually {border: 0;clip: rect(1px 1px 1px 1px);clip: rect(1px, 1px, 1px, 1px);height: 1px;margin: -1px;overflow: hidden;padding: 0;position: absolute;width: 1px;}#sk-container-id-2 div.sk-estimator {font-family: monospace;background-color: #f0f8ff;border: 1px dotted black;border-radius: 0.25em;box-sizing: border-box;margin-bottom: 0.5em;}#sk-container-id-2 div.sk-estimator:hover {background-color: #d4ebff;}#sk-container-id-2 div.sk-parallel-item::after {content: \"\";width: 100%;border-bottom: 1px solid gray;flex-grow: 1;}#sk-container-id-2 div.sk-label:hover label.sk-toggleable__label {background-color: #d4ebff;}#sk-container-id-2 div.sk-serial::before {content: \"\";position: absolute;border-left: 1px solid gray;box-sizing: border-box;top: 0;bottom: 0;left: 50%;z-index: 0;}#sk-container-id-2 div.sk-serial {display: flex;flex-direction: column;align-items: center;background-color: white;padding-right: 0.2em;padding-left: 0.2em;position: relative;}#sk-container-id-2 div.sk-item {position: relative;z-index: 1;}#sk-container-id-2 div.sk-parallel {display: flex;align-items: stretch;justify-content: center;background-color: white;position: relative;}#sk-container-id-2 div.sk-item::before, #sk-container-id-2 div.sk-parallel-item::before {content: \"\";position: absolute;border-left: 1px solid gray;box-sizing: border-box;top: 0;bottom: 0;left: 50%;z-index: -1;}#sk-container-id-2 div.sk-parallel-item {display: flex;flex-direction: column;z-index: 1;position: relative;background-color: white;}#sk-container-id-2 div.sk-parallel-item:first-child::after {align-self: flex-end;width: 50%;}#sk-container-id-2 div.sk-parallel-item:last-child::after {align-self: flex-start;width: 50%;}#sk-container-id-2 div.sk-parallel-item:only-child::after {width: 0;}#sk-container-id-2 div.sk-dashed-wrapped {border: 1px dashed gray;margin: 0 0.4em 0.5em 0.4em;box-sizing: border-box;padding-bottom: 0.4em;background-color: white;}#sk-container-id-2 div.sk-label label {font-family: monospace;font-weight: bold;display: inline-block;line-height: 1.2em;}#sk-container-id-2 div.sk-label-container {text-align: center;}#sk-container-id-2 div.sk-container {/* jupyter's `normalize.less` sets `[hidden] { display: none; }` but bootstrap.min.css set `[hidden] { display: none !important; }` so we also need the `!important` here to be able to override the default hidden behavior on the sphinx rendered scikit-learn.org. See: https://github.com/scikit-learn/scikit-learn/issues/21755 */display: inline-block !important;position: relative;}#sk-container-id-2 div.sk-text-repr-fallback {display: none;}</style><div id=\"sk-container-id-2\" class=\"sk-top-container\"><div class=\"sk-text-repr-fallback\"><pre>Pipeline(steps=[(&#x27;pca&#x27;,\n",
       "                 PCA(n_components=10, random_state=0, svd_solver=&#x27;randomized&#x27;,\n",
       "                     whiten=True)),\n",
       "                (&#x27;svc&#x27;, SVC(C=3, class_weight=&#x27;balanced&#x27;, gamma=0.005))])</pre><b>In a Jupyter environment, please rerun this cell to show the HTML representation or trust the notebook. <br />On GitHub, the HTML representation is unable to render, please try loading this page with nbviewer.org.</b></div><div class=\"sk-container\" hidden><div class=\"sk-item sk-dashed-wrapped\"><div class=\"sk-label-container\"><div class=\"sk-label sk-toggleable\"><input class=\"sk-toggleable__control sk-hidden--visually\" id=\"sk-estimator-id-4\" type=\"checkbox\" ><label for=\"sk-estimator-id-4\" class=\"sk-toggleable__label sk-toggleable__label-arrow\">Pipeline</label><div class=\"sk-toggleable__content\"><pre>Pipeline(steps=[(&#x27;pca&#x27;,\n",
       "                 PCA(n_components=10, random_state=0, svd_solver=&#x27;randomized&#x27;,\n",
       "                     whiten=True)),\n",
       "                (&#x27;svc&#x27;, SVC(C=3, class_weight=&#x27;balanced&#x27;, gamma=0.005))])</pre></div></div></div><div class=\"sk-serial\"><div class=\"sk-item\"><div class=\"sk-estimator sk-toggleable\"><input class=\"sk-toggleable__control sk-hidden--visually\" id=\"sk-estimator-id-5\" type=\"checkbox\" ><label for=\"sk-estimator-id-5\" class=\"sk-toggleable__label sk-toggleable__label-arrow\">PCA</label><div class=\"sk-toggleable__content\"><pre>PCA(n_components=10, random_state=0, svd_solver=&#x27;randomized&#x27;, whiten=True)</pre></div></div></div><div class=\"sk-item\"><div class=\"sk-estimator sk-toggleable\"><input class=\"sk-toggleable__control sk-hidden--visually\" id=\"sk-estimator-id-6\" type=\"checkbox\" ><label for=\"sk-estimator-id-6\" class=\"sk-toggleable__label sk-toggleable__label-arrow\">SVC</label><div class=\"sk-toggleable__content\"><pre>SVC(C=3, class_weight=&#x27;balanced&#x27;, gamma=0.005)</pre></div></div></div></div></div></div></div>"
      ],
      "text/plain": [
       "Pipeline(steps=[('pca',\n",
       "                 PCA(n_components=10, random_state=0, svd_solver='randomized',\n",
       "                     whiten=True)),\n",
       "                ('svc', SVC(C=3, class_weight='balanced', gamma=0.005))])"
      ]
     },
     "execution_count": 14,
     "metadata": {},
     "output_type": "execute_result"
    }
   ],
   "source": [
    "# Final model 2 - follow_up\n",
    "model2= gcv2.best_estimator_\n",
    "model2"
   ]
  },
  {
   "cell_type": "markdown",
   "id": "1761854e",
   "metadata": {},
   "source": [
    "#### 2.2.3. SVM for final_outcome"
   ]
  },
  {
   "cell_type": "code",
   "execution_count": 15,
   "id": "feff5609",
   "metadata": {},
   "outputs": [
    {
     "name": "stdout",
     "output_type": "stream",
     "text": [
      "Fitting time: 0.68 min \n",
      "\n",
      "Best hyperparameters:\n",
      "{'pca__n_components': 18, 'svc__C': 3, 'svc__gamma': 0.05, 'svc__kernel': 'rbf'} \n",
      "\n",
      "Best score: 0.8226\n"
     ]
    }
   ],
   "source": [
    "t0= time()\n",
    "gcv3= gcv\n",
    "gcv3.fit(X_train3, y_train3)\n",
    "time_cv= time() - t0\n",
    "\n",
    "print('Fitting time: %0.2f min'%(time_cv/60), '\\n')\n",
    "print('Best hyperparameters:')\n",
    "print(gcv3.best_params_, '\\n')\n",
    "print('Best score:', round(gcv3.best_score_,4))"
   ]
  },
  {
   "cell_type": "code",
   "execution_count": 16,
   "id": "70e4d060",
   "metadata": {},
   "outputs": [
    {
     "data": {
      "text/html": [
       "<style>#sk-container-id-3 {color: black;background-color: white;}#sk-container-id-3 pre{padding: 0;}#sk-container-id-3 div.sk-toggleable {background-color: white;}#sk-container-id-3 label.sk-toggleable__label {cursor: pointer;display: block;width: 100%;margin-bottom: 0;padding: 0.3em;box-sizing: border-box;text-align: center;}#sk-container-id-3 label.sk-toggleable__label-arrow:before {content: \"▸\";float: left;margin-right: 0.25em;color: #696969;}#sk-container-id-3 label.sk-toggleable__label-arrow:hover:before {color: black;}#sk-container-id-3 div.sk-estimator:hover label.sk-toggleable__label-arrow:before {color: black;}#sk-container-id-3 div.sk-toggleable__content {max-height: 0;max-width: 0;overflow: hidden;text-align: left;background-color: #f0f8ff;}#sk-container-id-3 div.sk-toggleable__content pre {margin: 0.2em;color: black;border-radius: 0.25em;background-color: #f0f8ff;}#sk-container-id-3 input.sk-toggleable__control:checked~div.sk-toggleable__content {max-height: 200px;max-width: 100%;overflow: auto;}#sk-container-id-3 input.sk-toggleable__control:checked~label.sk-toggleable__label-arrow:before {content: \"▾\";}#sk-container-id-3 div.sk-estimator input.sk-toggleable__control:checked~label.sk-toggleable__label {background-color: #d4ebff;}#sk-container-id-3 div.sk-label input.sk-toggleable__control:checked~label.sk-toggleable__label {background-color: #d4ebff;}#sk-container-id-3 input.sk-hidden--visually {border: 0;clip: rect(1px 1px 1px 1px);clip: rect(1px, 1px, 1px, 1px);height: 1px;margin: -1px;overflow: hidden;padding: 0;position: absolute;width: 1px;}#sk-container-id-3 div.sk-estimator {font-family: monospace;background-color: #f0f8ff;border: 1px dotted black;border-radius: 0.25em;box-sizing: border-box;margin-bottom: 0.5em;}#sk-container-id-3 div.sk-estimator:hover {background-color: #d4ebff;}#sk-container-id-3 div.sk-parallel-item::after {content: \"\";width: 100%;border-bottom: 1px solid gray;flex-grow: 1;}#sk-container-id-3 div.sk-label:hover label.sk-toggleable__label {background-color: #d4ebff;}#sk-container-id-3 div.sk-serial::before {content: \"\";position: absolute;border-left: 1px solid gray;box-sizing: border-box;top: 0;bottom: 0;left: 50%;z-index: 0;}#sk-container-id-3 div.sk-serial {display: flex;flex-direction: column;align-items: center;background-color: white;padding-right: 0.2em;padding-left: 0.2em;position: relative;}#sk-container-id-3 div.sk-item {position: relative;z-index: 1;}#sk-container-id-3 div.sk-parallel {display: flex;align-items: stretch;justify-content: center;background-color: white;position: relative;}#sk-container-id-3 div.sk-item::before, #sk-container-id-3 div.sk-parallel-item::before {content: \"\";position: absolute;border-left: 1px solid gray;box-sizing: border-box;top: 0;bottom: 0;left: 50%;z-index: -1;}#sk-container-id-3 div.sk-parallel-item {display: flex;flex-direction: column;z-index: 1;position: relative;background-color: white;}#sk-container-id-3 div.sk-parallel-item:first-child::after {align-self: flex-end;width: 50%;}#sk-container-id-3 div.sk-parallel-item:last-child::after {align-self: flex-start;width: 50%;}#sk-container-id-3 div.sk-parallel-item:only-child::after {width: 0;}#sk-container-id-3 div.sk-dashed-wrapped {border: 1px dashed gray;margin: 0 0.4em 0.5em 0.4em;box-sizing: border-box;padding-bottom: 0.4em;background-color: white;}#sk-container-id-3 div.sk-label label {font-family: monospace;font-weight: bold;display: inline-block;line-height: 1.2em;}#sk-container-id-3 div.sk-label-container {text-align: center;}#sk-container-id-3 div.sk-container {/* jupyter's `normalize.less` sets `[hidden] { display: none; }` but bootstrap.min.css set `[hidden] { display: none !important; }` so we also need the `!important` here to be able to override the default hidden behavior on the sphinx rendered scikit-learn.org. See: https://github.com/scikit-learn/scikit-learn/issues/21755 */display: inline-block !important;position: relative;}#sk-container-id-3 div.sk-text-repr-fallback {display: none;}</style><div id=\"sk-container-id-3\" class=\"sk-top-container\"><div class=\"sk-text-repr-fallback\"><pre>Pipeline(steps=[(&#x27;pca&#x27;,\n",
       "                 PCA(n_components=18, random_state=0, svd_solver=&#x27;randomized&#x27;,\n",
       "                     whiten=True)),\n",
       "                (&#x27;svc&#x27;, SVC(C=3, class_weight=&#x27;balanced&#x27;, gamma=0.05))])</pre><b>In a Jupyter environment, please rerun this cell to show the HTML representation or trust the notebook. <br />On GitHub, the HTML representation is unable to render, please try loading this page with nbviewer.org.</b></div><div class=\"sk-container\" hidden><div class=\"sk-item sk-dashed-wrapped\"><div class=\"sk-label-container\"><div class=\"sk-label sk-toggleable\"><input class=\"sk-toggleable__control sk-hidden--visually\" id=\"sk-estimator-id-7\" type=\"checkbox\" ><label for=\"sk-estimator-id-7\" class=\"sk-toggleable__label sk-toggleable__label-arrow\">Pipeline</label><div class=\"sk-toggleable__content\"><pre>Pipeline(steps=[(&#x27;pca&#x27;,\n",
       "                 PCA(n_components=18, random_state=0, svd_solver=&#x27;randomized&#x27;,\n",
       "                     whiten=True)),\n",
       "                (&#x27;svc&#x27;, SVC(C=3, class_weight=&#x27;balanced&#x27;, gamma=0.05))])</pre></div></div></div><div class=\"sk-serial\"><div class=\"sk-item\"><div class=\"sk-estimator sk-toggleable\"><input class=\"sk-toggleable__control sk-hidden--visually\" id=\"sk-estimator-id-8\" type=\"checkbox\" ><label for=\"sk-estimator-id-8\" class=\"sk-toggleable__label sk-toggleable__label-arrow\">PCA</label><div class=\"sk-toggleable__content\"><pre>PCA(n_components=18, random_state=0, svd_solver=&#x27;randomized&#x27;, whiten=True)</pre></div></div></div><div class=\"sk-item\"><div class=\"sk-estimator sk-toggleable\"><input class=\"sk-toggleable__control sk-hidden--visually\" id=\"sk-estimator-id-9\" type=\"checkbox\" ><label for=\"sk-estimator-id-9\" class=\"sk-toggleable__label sk-toggleable__label-arrow\">SVC</label><div class=\"sk-toggleable__content\"><pre>SVC(C=3, class_weight=&#x27;balanced&#x27;, gamma=0.05)</pre></div></div></div></div></div></div></div>"
      ],
      "text/plain": [
       "Pipeline(steps=[('pca',\n",
       "                 PCA(n_components=18, random_state=0, svd_solver='randomized',\n",
       "                     whiten=True)),\n",
       "                ('svc', SVC(C=3, class_weight='balanced', gamma=0.05))])"
      ]
     },
     "execution_count": 16,
     "metadata": {},
     "output_type": "execute_result"
    }
   ],
   "source": [
    "# Final model 3 - final_outcome\n",
    "model3= gcv3.best_estimator_\n",
    "model3"
   ]
  },
  {
   "cell_type": "markdown",
   "id": "d060f0ae",
   "metadata": {},
   "source": [
    "#### 2.3. Testing"
   ]
  },
  {
   "cell_type": "code",
   "execution_count": 17,
   "id": "f2dcd4cc",
   "metadata": {},
   "outputs": [
    {
     "name": "stdout",
     "output_type": "stream",
     "text": [
      "Model1 \n",
      "               precision    recall  f1-score   support\n",
      "\n",
      "       Death       0.33      0.14      0.20         7\n",
      "    Survival       0.74      0.89      0.81        19\n",
      "\n",
      "    accuracy                           0.69        26\n",
      "   macro avg       0.54      0.52      0.50        26\n",
      "weighted avg       0.63      0.69      0.65        26\n",
      " \n",
      "\n",
      "Model2 \n",
      "                   precision    recall  f1-score   support\n",
      "\n",
      "No deterioration       0.64      0.78      0.70         9\n",
      "   Deterioration       0.45      0.71      0.56         7\n",
      "           Death       0.67      0.22      0.33         9\n",
      "\n",
      "        accuracy                           0.56        25\n",
      "       macro avg       0.59      0.57      0.53        25\n",
      "    weighted avg       0.60      0.56      0.53        25\n",
      " \n",
      " \n",
      "\n",
      "Model3 \n",
      "               precision    recall  f1-score   support\n",
      "\n",
      "    Curation       0.78      0.70      0.74        20\n",
      "       Death       0.14      0.20      0.17         5\n",
      "\n",
      "    accuracy                           0.60        25\n",
      "   macro avg       0.46      0.45      0.45        25\n",
      "weighted avg       0.65      0.60      0.62        25\n",
      " \n",
      " \n",
      "\n"
     ]
    }
   ],
   "source": [
    "# Compute test classification metrics\n",
    "\n",
    "# Model 1 - survival discharge \n",
    "y_pred1= model1.predict(X_test1)\n",
    "print('Model1 \\n', classification_report(y_test1, y_pred1, target_names=['Death', 'Survival']), '\\n')\n",
    "\n",
    "# Model 2 - follow_up\n",
    "y_pred2= model2.predict(X_test2)\n",
    "print('Model2 \\n', classification_report(y_test2, y_pred2, target_names=['No deterioration', 'Deterioration', 'Death']), '\\n \\n')\n",
    "\n",
    "# Model 3 - final_outcome \n",
    "y_pred3= model3.predict(X_test3)\n",
    "print('Model3 \\n', classification_report(y_test3, y_pred3, target_names=['Curation', 'Death']), '\\n \\n')"
   ]
  },
  {
   "cell_type": "code",
   "execution_count": 18,
   "id": "bec5105a",
   "metadata": {},
   "outputs": [
    {
     "data": {
      "image/png": "[encoded data removed]",
      "text/plain": [
       "<Figure size 400x500 with 1 Axes>"
      ]
     },
     "metadata": {},
     "output_type": "display_data"
    },
    {
     "data": {
      "image/png": "[encoded data removed]",
      "text/plain": [
       "<Figure size 400x500 with 1 Axes>"
      ]
     },
     "metadata": {},
     "output_type": "display_data"
    },
    {
     "data": {
      "image/png": "[encoded data removed]",
      "text/plain": [
       "<Figure size 400x500 with 1 Axes>"
      ]
     },
     "metadata": {},
     "output_type": "display_data"
    }
   ],
   "source": [
    "# Hallar la matrix de confusión\n",
    "conf_matrix1= confusion_matrix(y_test1, y_pred1)\n",
    "conf_matrix2= confusion_matrix(y_test2, y_pred2)\n",
    "conf_matrix3= confusion_matrix(y_test3, y_pred3)\n",
    "\n",
    "def plot_conf_matrix (conf_matrix, names):\n",
    "    fig, ax = plt.subplots(figsize=(4,5))\n",
    "    sns.set(font_scale=1.3)\n",
    "    sns.heatmap(conf_matrix.T, square=False, annot=True, fmt='d', cbar=False,\n",
    "            xticklabels=names,\n",
    "            yticklabels=names,\n",
    "            cmap=sns.cubehelix_palette(light=1, as_cmap=True))\n",
    "    plt.xlabel('true label')\n",
    "    plt.ylabel('predicted label')\n",
    "    \n",
    "plot_conf_matrix (conf_matrix1, ['Death', 'Survival'])\n",
    "plot_conf_matrix (conf_matrix2, ['No deterioration', 'Deterioration', 'Death'])\n",
    "plot_conf_matrix (conf_matrix3, ['Curation', 'Death'])"
   ]
  },
  {
   "cell_type": "code",
   "execution_count": 19,
   "id": "e189405e",
   "metadata": {},
   "outputs": [],
   "source": [
    "# Bootstrapping confidence intervals\n",
    "\n",
    "def boots_svm (x, y, train_size, n_iterations, params_, alpha):\n",
    "    \n",
    "    idx= list(range(x.shape[0]))\n",
    "    train_size= int(x.shape[0]*train_size)\n",
    "    \n",
    "    test_accuracy= []\n",
    "\n",
    "    for i in tqdm(range(n_iterations)):        \n",
    "        idx_train= random.choices(idx, k=train_size) # samples with replacement\n",
    "        idx_test= list(set(idx) - set(idx_train)) # samples will have different size, because of training sample replacement\n",
    "        \n",
    "        pca= PCA(whiten=True, svd_solver='randomized', random_state=0)\n",
    "        svc= SVC(class_weight='balanced')\n",
    "        svc_pipe= make_pipeline(pca, svc)\n",
    "        svc_pipe.set_params(**params_)\n",
    "        \n",
    "        svc_pipe.fit(x.values[idx_train,], y[idx_train])\n",
    "        \n",
    "        accuracy= svc_pipe.score(x.values[idx_test], y[idx_test])\n",
    "        test_accuracy.append(accuracy)\n",
    "                \n",
    "    # confidence intervals\n",
    "    pl= alpha/2*100\n",
    "    pu= ((1-alpha) + (alpha/2))*100\n",
    "    \n",
    "    accuracy_median= np.median(test_accuracy)\n",
    "    accuracy_lower= max(0.0, np.percentile(test_accuracy, pl))\n",
    "    accuracy_upper= min(1.0, np.percentile(test_accuracy, pu))\n",
    "    \n",
    "    return (test_accuracy, (accuracy_median,accuracy_lower,accuracy_upper))"
   ]
  },
  {
   "cell_type": "code",
   "execution_count": 20,
   "id": "a527063e",
   "metadata": {},
   "outputs": [
    {
     "data": {
      "application/vnd.jupyter.widget-view+json": {
       "model_id": "5ee67966ff8543cf99f005b5bd0ce365",
       "version_major": 2,
       "version_minor": 0
      },
      "text/plain": [
       "  0%|          | 0/10000 [00:00<?, ?it/s]"
      ]
     },
     "metadata": {},
     "output_type": "display_data"
    },
    {
     "data": {
      "application/vnd.jupyter.widget-view+json": {
       "model_id": "96b74952603343cba536af956fae2219",
       "version_major": 2,
       "version_minor": 0
      },
      "text/plain": [
       "  0%|          | 0/10000 [00:00<?, ?it/s]"
      ]
     },
     "metadata": {},
     "output_type": "display_data"
    },
    {
     "data": {
      "application/vnd.jupyter.widget-view+json": {
       "model_id": "d06dd0e556dc45109e8383428b8b1498",
       "version_major": 2,
       "version_minor": 0
      },
      "text/plain": [
       "  0%|          | 0/10000 [00:00<?, ?it/s]"
      ]
     },
     "metadata": {},
     "output_type": "display_data"
    }
   ],
   "source": [
    "model1_accuracy, model1_ci= boots_svm (x=x_data1, y=y_data1, train_size=0.8, params_=gcv1.best_params_, n_iterations=10000, alpha=0.05)\n",
    "model2_accuracy, model2_ci= boots_svm (x=x_data2, y=y_data2, train_size=0.8, params_=gcv2.best_params_, n_iterations=10000, alpha=0.05)\n",
    "model3_accuracy, model3_ci= boots_svm (x=x_data3, y=y_data3, train_size=0.8, params_=gcv3.best_params_, n_iterations=10000, alpha=0.05)"
   ]
  },
  {
   "cell_type": "code",
   "execution_count": 21,
   "id": "d1889b75",
   "metadata": {},
   "outputs": [
    {
     "data": {
      "text/plain": [
       "Text(0.5, 1.0, 'Model3: 0.73, 95%CI 0.63 and 0.83')"
      ]
     },
     "execution_count": 21,
     "metadata": {},
     "output_type": "execute_result"
    },
    {
     "data": {
      "image/png": "[encoded data removed]",
      "text/plain": [
       "<Figure size 1500x400 with 3 Axes>"
      ]
     },
     "metadata": {},
     "output_type": "display_data"
    }
   ],
   "source": [
    "fig, axs= plt.subplots(1,3, figsize=(15,4))\n",
    "fig.suptitle('Bootstrapping confidence intervals', y=1.1, size=16)\n",
    "\n",
    "sns.histplot(model1_accuracy, ax=axs[0])\n",
    "sns.histplot(model2_accuracy, ax=axs[1])\n",
    "sns.histplot(model3_accuracy, ax=axs[2])\n",
    "\n",
    "axs[1].set_ylabel('')\n",
    "axs[2].set_ylabel('')\n",
    "\n",
    "alpha= 0.05\n",
    "axs[0].set_title('Model1: %.2f, %.0f%%CI %.2f and %.2f' % (model1_ci[0], (1-alpha)*100, model1_ci[1], model1_ci[2]))\n",
    "axs[1].set_title('Model2: %.2f, %.0f%%CI %.2f and %.2f' % (model2_ci[0], (1-alpha)*100, model2_ci[1], model2_ci[2]))\n",
    "axs[2].set_title('Model3: %.2f, %.0f%%CI %.2f and %.2f' % (model3_ci[0], (1-alpha)*100, model3_ci[1], model3_ci[2]))"
   ]
  },
  {
   "cell_type": "markdown",
   "id": "9c652ecf",
   "metadata": {},
   "source": [
    "### 3. Survival Support Vector Machine (SSVM)\n",
    "\n",
    "- **Data pre-processing**\n",
    "\n",
    "\n",
    "- **Linear SSVM**\n",
    "\n",
    "    - **Ranking objective**\n",
    "        - Fitting\n",
    "        - Testing\n",
    "        - Predicting\n",
    "    \n",
    "    - **Regression objective**\n",
    "        - Fitting\n",
    "        - Testing\n",
    "        - Predicting\n",
    "        \n",
    "        \n",
    "- **Kernel SSVM**\n",
    "    - Fitting\n",
    "    - Testing\n",
    "    - Predicting"
   ]
  },
  {
   "cell_type": "markdown",
   "id": "16ee1a1a",
   "metadata": {},
   "source": [
    "*Text from [scikit-survival](https://scikit-survival.readthedocs.io/en/stable/user_guide/survival-svm.html)*\n",
    "\n",
    "**Survival Support Vector Machines (SSVM)** are extensions of the standard SVM to censored time-to-event data. \n",
    "SSVM can account for complex, non-linear relationships between features and survival via the so-called kernel trick. A kernel function implicitly maps the input features into high-dimensional feature spaces where survival can be described by a hyperplane. This makes SSVM extremely versatile and applicable to a wide a range of data.\n",
    "\n",
    "Survival analysis in the context of Support Vector Machines can be described in two different ways:\n",
    "\n",
    "- As a **ranking problem**: the model learns to assign samples with shorter survival times a lower rank by considering all possible pairs of samples in the training data.\n",
    "- As a **regression problem**: the model learns to directly predict the (log) survival time.\n",
    "\n",
    "In both cases, the disadvantage is that predictions cannot be easily related to standard quantities in survival analysis, namely survival function and cumulative hazard function. Moreover, they have to **retain a copy** of the training data to do predictions."
   ]
  },
  {
   "cell_type": "markdown",
   "id": "f5f32eeb",
   "metadata": {},
   "source": [
    "### 3.1. Data pre-processing"
   ]
  },
  {
   "cell_type": "code",
   "execution_count": 22,
   "id": "4a62b3b6",
   "metadata": {},
   "outputs": [],
   "source": [
    "# Define survival variables\n",
    "Status= np.array(df_y['survival_discharge'] == 0) # old value 0 (death), is changed for new value True or 1 (death)\n",
    "Survival_in_days= np.array(df_y['survival_days'])"
   ]
  },
  {
   "cell_type": "code",
   "execution_count": 23,
   "id": "f3da5ef3",
   "metadata": {},
   "outputs": [],
   "source": [
    "y= Surv().from_arrays(event=Status, time=Survival_in_days, name_event='Status', name_time='Survival_in_days')"
   ]
  },
  {
   "cell_type": "code",
   "execution_count": 24,
   "id": "21fe97ac",
   "metadata": {},
   "outputs": [
    {
     "name": "stdout",
     "output_type": "stream",
     "text": [
      "69.7% of records are censored\n"
     ]
    }
   ],
   "source": [
    "# Check censors\n",
    "n_censored = y.shape[0] - y['Status'].sum()\n",
    "print('%.1f%% of records are censored' % (n_censored / y.shape[0] * 100))"
   ]
  },
  {
   "cell_type": "code",
   "execution_count": 25,
   "id": "66de7603",
   "metadata": {},
   "outputs": [
    {
     "data": {
      "text/plain": [
       "(129, 37)"
      ]
     },
     "execution_count": 25,
     "metadata": {},
     "output_type": "execute_result"
    }
   ],
   "source": [
    "# Standarization of quantitative data\n",
    "scaler= StandardScaler()\n",
    "\n",
    "# Separete quantitatives and qualitatives\n",
    "quantitatives= [variable for variable in df_X.columns.tolist() if df_X[variable].dtype in ('int64','float64')]\n",
    "df_X_quant= df_X[quantitatives]\n",
    "df_X_qual= df_X[list(set(df_X.columns.tolist()) - set(quantitatives))]\n",
    "\n",
    "# Standarize quantitatives\n",
    "X_quant_std= scaler.fit_transform(df_X_quant)\n",
    "df_X_quant_std= pd.DataFrame(data=X_quant_std, columns=df_X_quant.columns.to_list())\n",
    "\n",
    "# Concatenate quantitatives standarized and qualitatives\n",
    "df_X_std= pd.concat([df_X_quant_std, df_X_qual], axis=1)\n",
    "\n",
    "# Remove NaN\n",
    "df_X_std_nonan= df_X_std.dropna(axis=0)\n",
    "df_X_std_nonan.shape"
   ]
  },
  {
   "cell_type": "code",
   "execution_count": 26,
   "id": "6337a117",
   "metadata": {},
   "outputs": [],
   "source": [
    "y_nonan= y[df_X_std_nonan.index]"
   ]
  },
  {
   "cell_type": "code",
   "execution_count": 27,
   "id": "2ca80f89",
   "metadata": {},
   "outputs": [],
   "source": [
    "# Convert data to numeric\n",
    "#df_numeric= df_X_std_nonan.apply(pd.to_numeric)"
   ]
  },
  {
   "cell_type": "markdown",
   "id": "c6faa25e",
   "metadata": {},
   "source": [
    "### 3.2. Linear SSVM\n",
    "\n",
    "- **Ranking objective**\n",
    "    - **Fitting**\n",
    "    - **Testing**\n",
    "    - **Prediction**\n",
    "    \n",
    "- **Regression objective**\n",
    "    - **Fitting**\n",
    "    - **Testing**\n",
    "    - **Prediction**"
   ]
  },
  {
   "cell_type": "markdown",
   "id": "31a83f85",
   "metadata": {},
   "source": [
    "SSVM can be trained with two objectives, ranking or regression. This is fixed as a hyperparameter. Linear SSVM have two important hyperparameters:\n",
    "- **$\\alpha$**: amount of regularization, a smaller value increases the amount of regularization.\n",
    "- **$r$**: trade-off between the ranking objective and the regression objective. If $r = 1$ it reduces to the ranking objective, and if $r = 0$ to the regression objective."
   ]
  },
  {
   "cell_type": "markdown",
   "id": "4e6a8832",
   "metadata": {},
   "source": [
    "### 3.2.1. Ranking objective\n",
    "\n",
    "- **Fitting**\n",
    "- **Testing**\n",
    "- **Prediction**"
   ]
  },
  {
   "cell_type": "markdown",
   "id": "40373a8c",
   "metadata": {},
   "source": [
    "#### 3.2.1.1. Fitting"
   ]
  },
  {
   "cell_type": "code",
   "execution_count": 28,
   "id": "19b16d22",
   "metadata": {},
   "outputs": [
    {
     "name": "stdout",
     "output_type": "stream",
     "text": [
      "Fitting time: 0.56 min \n",
      "\n",
      "Best hyperparameters:\n",
      "{'fastsurvivalsvm__alpha': 2.384185791015625e-07, 'pca__n_components': 18} \n",
      "\n",
      "Best score: 0.654\n"
     ]
    }
   ],
   "source": [
    "# Make a pipeline and a GridSearch to find the best hyperparameters\n",
    "\n",
    "pca= PCA(whiten=True, svd_solver='randomized', random_state=0)\n",
    "ssvm= FastSurvivalSVM(rank_ratio=1, max_iter=1000, tol=1e-5, random_state=0)\n",
    "ssvm_pipe= make_pipeline(pca, ssvm)\n",
    "\n",
    "param_grid= {'pca__n_components': [16, 18, 20],\n",
    "             'fastsurvivalsvm__alpha': 2. ** np.arange(-24, -16, 2)}\n",
    "\n",
    "cv= ShuffleSplit(n_splits=100, test_size=0.5, random_state=0)\n",
    "\n",
    "def score_survival_model(model, X, y):\n",
    "    prediction= model.predict(X)\n",
    "    result= concordance_index_censored(y['Status'], y['Survival_in_days'], prediction)\n",
    "    return result[0]\n",
    "\n",
    "gcvS1= GridSearchCV(estimator=ssvm_pipe,\n",
    "                    param_grid=param_grid,\n",
    "                    scoring=score_survival_model,\n",
    "                    cv=cv,\n",
    "                    refit=False,\n",
    "                    n_jobs=1)\n",
    "\n",
    "t0= time()\n",
    "gcvS1.fit(df_X_std_nonan, y_nonan)\n",
    "time_cv= time() - t0\n",
    "\n",
    "print('Fitting time: %0.2f min'%(time_cv/60), '\\n')\n",
    "print('Best hyperparameters:')\n",
    "print(gcvS1.best_params_, '\\n')\n",
    "print('Best score:', round(gcvS1.best_score_,4))"
   ]
  },
  {
   "cell_type": "code",
   "execution_count": 29,
   "id": "92a89542",
   "metadata": {},
   "outputs": [
    {
     "name": "stdout",
     "output_type": "stream",
     "text": [
      "Fitting time: 4.71 min \n",
      "\n",
      "Best hyperparameters:\n",
      "{'alpha': 9.5367431640625e-07} \n",
      "\n",
      "Best score: 0.7229\n"
     ]
    }
   ],
   "source": [
    "# Fit a model with the original variables and not with PCAs.\n",
    "\n",
    "ssvm= FastSurvivalSVM(rank_ratio=1, max_iter=1000, tol=1e-5, random_state=0)\n",
    "\n",
    "param_gridS2= {'alpha': 2. ** np.arange(-28, 12, 2)}\n",
    "cv= ShuffleSplit(n_splits=100, test_size=0.5, random_state=0)\n",
    "\n",
    "gcvS2= GridSearchCV(estimator=ssvm,\n",
    "                    param_grid=param_gridS2,\n",
    "                    scoring=score_survival_model,\n",
    "                    n_jobs=1, refit=False,\n",
    "                    cv=cv)\n",
    "\n",
    "\n",
    "t0= time()\n",
    "gcvS2.fit(df_X_std_nonan, y_nonan)\n",
    "time_cv= time() - t0\n",
    "\n",
    "print('Fitting time: %0.2f min'%(time_cv/60), '\\n')\n",
    "print('Best hyperparameters:')\n",
    "print(gcvS2.best_params_, '\\n')\n",
    "print('Best score:', round(gcvS2.best_score_,4))"
   ]
  },
  {
   "cell_type": "markdown",
   "id": "a979a511",
   "metadata": {},
   "source": [
    "Study $\\alpha$ hyperparameter"
   ]
  },
  {
   "cell_type": "code",
   "execution_count": 30,
   "id": "7f902059",
   "metadata": {},
   "outputs": [],
   "source": [
    "def plot_performance(gcv):\n",
    "    \n",
    "    n_splits = gcv.cv.n_splits\n",
    "    cv_scores = {'alpha': [], 'test_score': [], 'split': []}\n",
    "    order = []\n",
    "    \n",
    "    for i, params in enumerate(gcv.cv_results_['params']):\n",
    "        name = '%.5f' % params['alpha']\n",
    "        order.append(name)\n",
    "        \n",
    "        for j in range(n_splits):\n",
    "            vs = gcv.cv_results_['split%d_test_score' % j][i]\n",
    "            cv_scores['alpha'].append(name)\n",
    "            cv_scores['test_score'].append(vs)\n",
    "            cv_scores['split'].append(j)\n",
    "            \n",
    "    df = pd.DataFrame.from_dict(cv_scores)\n",
    "    _, ax = plt.subplots(figsize=(11, 6))\n",
    "    sns.boxplot(x='alpha', y='test_score', data=df, order=order, ax=ax)\n",
    "    _, xtext = plt.xticks()\n",
    "    for t in xtext:\n",
    "        t.set_rotation('vertical')"
   ]
  },
  {
   "cell_type": "code",
   "execution_count": 31,
   "id": "2510c0cb",
   "metadata": {},
   "outputs": [
    {
     "data": {
      "image/png": "[encoded data removed]",
      "text/plain": [
       "<Figure size 1100x600 with 1 Axes>"
      ]
     },
     "metadata": {},
     "output_type": "display_data"
    }
   ],
   "source": [
    "plot_performance(gcvS2)"
   ]
  },
  {
   "cell_type": "code",
   "execution_count": 32,
   "id": "bba708ef",
   "metadata": {},
   "outputs": [
    {
     "data": {
      "text/html": [
       "<style>#sk-container-id-4 {color: black;background-color: white;}#sk-container-id-4 pre{padding: 0;}#sk-container-id-4 div.sk-toggleable {background-color: white;}#sk-container-id-4 label.sk-toggleable__label {cursor: pointer;display: block;width: 100%;margin-bottom: 0;padding: 0.3em;box-sizing: border-box;text-align: center;}#sk-container-id-4 label.sk-toggleable__label-arrow:before {content: \"▸\";float: left;margin-right: 0.25em;color: #696969;}#sk-container-id-4 label.sk-toggleable__label-arrow:hover:before {color: black;}#sk-container-id-4 div.sk-estimator:hover label.sk-toggleable__label-arrow:before {color: black;}#sk-container-id-4 div.sk-toggleable__content {max-height: 0;max-width: 0;overflow: hidden;text-align: left;background-color: #f0f8ff;}#sk-container-id-4 div.sk-toggleable__content pre {margin: 0.2em;color: black;border-radius: 0.25em;background-color: #f0f8ff;}#sk-container-id-4 input.sk-toggleable__control:checked~div.sk-toggleable__content {max-height: 200px;max-width: 100%;overflow: auto;}#sk-container-id-4 input.sk-toggleable__control:checked~label.sk-toggleable__label-arrow:before {content: \"▾\";}#sk-container-id-4 div.sk-estimator input.sk-toggleable__control:checked~label.sk-toggleable__label {background-color: #d4ebff;}#sk-container-id-4 div.sk-label input.sk-toggleable__control:checked~label.sk-toggleable__label {background-color: #d4ebff;}#sk-container-id-4 input.sk-hidden--visually {border: 0;clip: rect(1px 1px 1px 1px);clip: rect(1px, 1px, 1px, 1px);height: 1px;margin: -1px;overflow: hidden;padding: 0;position: absolute;width: 1px;}#sk-container-id-4 div.sk-estimator {font-family: monospace;background-color: #f0f8ff;border: 1px dotted black;border-radius: 0.25em;box-sizing: border-box;margin-bottom: 0.5em;}#sk-container-id-4 div.sk-estimator:hover {background-color: #d4ebff;}#sk-container-id-4 div.sk-parallel-item::after {content: \"\";width: 100%;border-bottom: 1px solid gray;flex-grow: 1;}#sk-container-id-4 div.sk-label:hover label.sk-toggleable__label {background-color: #d4ebff;}#sk-container-id-4 div.sk-serial::before {content: \"\";position: absolute;border-left: 1px solid gray;box-sizing: border-box;top: 0;bottom: 0;left: 50%;z-index: 0;}#sk-container-id-4 div.sk-serial {display: flex;flex-direction: column;align-items: center;background-color: white;padding-right: 0.2em;padding-left: 0.2em;position: relative;}#sk-container-id-4 div.sk-item {position: relative;z-index: 1;}#sk-container-id-4 div.sk-parallel {display: flex;align-items: stretch;justify-content: center;background-color: white;position: relative;}#sk-container-id-4 div.sk-item::before, #sk-container-id-4 div.sk-parallel-item::before {content: \"\";position: absolute;border-left: 1px solid gray;box-sizing: border-box;top: 0;bottom: 0;left: 50%;z-index: -1;}#sk-container-id-4 div.sk-parallel-item {display: flex;flex-direction: column;z-index: 1;position: relative;background-color: white;}#sk-container-id-4 div.sk-parallel-item:first-child::after {align-self: flex-end;width: 50%;}#sk-container-id-4 div.sk-parallel-item:last-child::after {align-self: flex-start;width: 50%;}#sk-container-id-4 div.sk-parallel-item:only-child::after {width: 0;}#sk-container-id-4 div.sk-dashed-wrapped {border: 1px dashed gray;margin: 0 0.4em 0.5em 0.4em;box-sizing: border-box;padding-bottom: 0.4em;background-color: white;}#sk-container-id-4 div.sk-label label {font-family: monospace;font-weight: bold;display: inline-block;line-height: 1.2em;}#sk-container-id-4 div.sk-label-container {text-align: center;}#sk-container-id-4 div.sk-container {/* jupyter's `normalize.less` sets `[hidden] { display: none; }` but bootstrap.min.css set `[hidden] { display: none !important; }` so we also need the `!important` here to be able to override the default hidden behavior on the sphinx rendered scikit-learn.org. See: https://github.com/scikit-learn/scikit-learn/issues/21755 */display: inline-block !important;position: relative;}#sk-container-id-4 div.sk-text-repr-fallback {display: none;}</style><div id=\"sk-container-id-4\" class=\"sk-top-container\"><div class=\"sk-text-repr-fallback\"><pre>FastSurvivalSVM(alpha=9.5367431640625e-07, max_iter=1000, optimizer=&#x27;avltree&#x27;,\n",
       "                random_state=0, rank_ratio=1, tol=1e-05)</pre><b>In a Jupyter environment, please rerun this cell to show the HTML representation or trust the notebook. <br />On GitHub, the HTML representation is unable to render, please try loading this page with nbviewer.org.</b></div><div class=\"sk-container\" hidden><div class=\"sk-item\"><div class=\"sk-estimator sk-toggleable\"><input class=\"sk-toggleable__control sk-hidden--visually\" id=\"sk-estimator-id-10\" type=\"checkbox\" checked><label for=\"sk-estimator-id-10\" class=\"sk-toggleable__label sk-toggleable__label-arrow\">FastSurvivalSVM</label><div class=\"sk-toggleable__content\"><pre>FastSurvivalSVM(alpha=9.5367431640625e-07, max_iter=1000, optimizer=&#x27;avltree&#x27;,\n",
       "                random_state=0, rank_ratio=1, tol=1e-05)</pre></div></div></div></div></div>"
      ],
      "text/plain": [
       "FastSurvivalSVM(alpha=9.5367431640625e-07, max_iter=1000, optimizer='avltree',\n",
       "                random_state=0, rank_ratio=1, tol=1e-05)"
      ]
     },
     "execution_count": 32,
     "metadata": {},
     "output_type": "execute_result"
    }
   ],
   "source": [
    "# Final model\n",
    "modelS1= FastSurvivalSVM(rank_ratio=1, max_iter=1000, tol=1e-5, random_state=0)\n",
    "modelS1.set_params(**gcvS2.best_params_)\n",
    "modelS1.fit(df_X_std_nonan, y_nonan)"
   ]
  },
  {
   "cell_type": "markdown",
   "id": "a6ec92e5",
   "metadata": {},
   "source": [
    "#### 3.2.1.2. Testing"
   ]
  },
  {
   "cell_type": "code",
   "execution_count": 33,
   "id": "76a4474b",
   "metadata": {},
   "outputs": [],
   "source": [
    "def boots_ssvm (x, y, train_size, n_iterations, params_, alpha):\n",
    "    \n",
    "    idx= list(range(x.shape[0]))\n",
    "    train_size= int(x.shape[0]*train_size)\n",
    "    \n",
    "    test_cindex= []\n",
    "\n",
    "    for i in tqdm(range(n_iterations)):        \n",
    "        idx_train= random.choices(idx, k=train_size) # samples with replacement\n",
    "        idx_test= list(set(idx) - set(idx_train)) # samples will have different size, because of training sample replacement\n",
    "        \n",
    "        ssvm= FastSurvivalSVM(rank_ratio=1, max_iter=1000, tol=1e-5, random_state=0)\n",
    "        ssvm.set_params(**params_)\n",
    "        \n",
    "        ssvm.fit(x.values[idx_train,], y[idx_train])\n",
    "        \n",
    "        cindex= ssvm.score(x.values[idx_test], y[idx_test])\n",
    "        test_cindex.append(cindex)\n",
    "                \n",
    "    # confidence intervals\n",
    "    pl= alpha/2*100\n",
    "    pu= ((1-alpha) + (alpha/2))*100\n",
    "    \n",
    "    cindex_median= np.median(test_cindex)\n",
    "    cindex_lower= max(0.0, np.percentile(test_cindex, pl))\n",
    "    cindex_upper= min(1.0, np.percentile(test_cindex, pu))\n",
    "    \n",
    "    return (test_cindex, (cindex_median,cindex_lower,cindex_upper))"
   ]
  },
  {
   "cell_type": "code",
   "execution_count": 34,
   "id": "d1474974",
   "metadata": {},
   "outputs": [
    {
     "data": {
      "application/vnd.jupyter.widget-view+json": {
       "model_id": "d11199ab8694450992e1d6f3ce1d2e2a",
       "version_major": 2,
       "version_minor": 0
      },
      "text/plain": [
       "  0%|          | 0/10000 [00:00<?, ?it/s]"
      ]
     },
     "metadata": {},
     "output_type": "display_data"
    }
   ],
   "source": [
    "modelS1_cindex, modelS1_ci= boots_ssvm (x=df_X_std_nonan, y=y_nonan, train_size=0.8, params_=gcvS2.best_params_, n_iterations=10000, alpha=0.05)"
   ]
  },
  {
   "cell_type": "code",
   "execution_count": 52,
   "id": "fba3b9c8",
   "metadata": {},
   "outputs": [
    {
     "data": {
      "text/plain": [
       "Text(0.5, 1.0, 'ModelS1: 0.73, 95%CI 0.62 and 0.82')"
      ]
     },
     "execution_count": 52,
     "metadata": {},
     "output_type": "execute_result"
    },
    {
     "data": {
      "image/png": "[encoded data removed]",
      "text/plain": [
       "<Figure size 600x400 with 1 Axes>"
      ]
     },
     "metadata": {},
     "output_type": "display_data"
    }
   ],
   "source": [
    "fig,ax= plt.subplots(1,1, figsize=(6,4))\n",
    "sns.histplot(modelS1_cindex, ax=ax)\n",
    "\n",
    "alpha= 0.05\n",
    "ax.set_title('ModelS1: %.2f, %.0f%%CI %.2f and %.2f' % (modelS1_ci[0], (1-alpha)*100, modelS1_ci[1], modelS1_ci[2]))"
   ]
  },
  {
   "cell_type": "markdown",
   "id": "ae6809e0",
   "metadata": {},
   "source": [
    "#### 3.2.1.3. Predicting"
   ]
  },
  {
   "cell_type": "markdown",
   "id": "1e02a8b9",
   "metadata": {},
   "source": [
    "Note that $r$ (*rank_ratio*) $=$ 1. This means that the SSVM objective is ranking, so the predictions denote **risk scores**, a higher predicted value indicates shorter survival, a lower value longer survival."
   ]
  },
  {
   "cell_type": "code",
   "execution_count": 37,
   "id": "b1acb423",
   "metadata": {},
   "outputs": [
    {
     "name": "stdout",
     "output_type": "stream",
     "text": [
      "Patient 1 vs 2:\n",
      "  · Preds: [-0.01384484 -0.10587804]\n",
      "  · Labels: [( True,    7.) (False, 1016.)]\n",
      "\n",
      "\n",
      "Patient 1 have a higher risk than patient 2\n"
     ]
    }
   ],
   "source": [
    "# Predict two patients\n",
    "patients= [3,4]\n",
    "pred= modelS1.predict(df_X_std_nonan.iloc[patients])\n",
    "print('Patient %.f vs %.f:' % (1,2))\n",
    "print('  · Preds:', pred)\n",
    "print('  · Labels:', y[patients])\n",
    "\n",
    "print('\\n')\n",
    "if pred[0] > pred[1]:\n",
    "    print('Patient 1 have a higher risk than patient 2')\n",
    "elif pred[0] < pred[1]:\n",
    "    print('Patient 2 have a higher risk than patient 1')"
   ]
  },
  {
   "cell_type": "markdown",
   "id": "4957259e",
   "metadata": {},
   "source": [
    "### 3.2.2. Regression objective"
   ]
  },
  {
   "cell_type": "markdown",
   "id": "d062e302",
   "metadata": {},
   "source": [
    "- **Fitting**\n",
    "- **Testing**\n",
    "- **Prediction**"
   ]
  },
  {
   "cell_type": "markdown",
   "id": "a081b7f7",
   "metadata": {},
   "source": [
    "When the objective is **regression** ($r$ < 1) predictions will be on a **time scale**, so lower predicted values indicate shorter survival, higher values longer survival. Moreover, survival times are frequently positive skewed, therefore the survival/censoring times will be log-transformed by the FastSurvivalSVM internally, when using a $r$ < 1.\n",
    "\n",
    "For regression, there can not be values equal to 0."
   ]
  },
  {
   "cell_type": "code",
   "execution_count": 38,
   "id": "5e979ceb",
   "metadata": {},
   "outputs": [],
   "source": [
    "y_nonan['Survival_in_days'][y_nonan['Survival_in_days'] == 0] = 0.01"
   ]
  },
  {
   "cell_type": "markdown",
   "id": "e1822d94",
   "metadata": {},
   "source": [
    "#### 3.2.2.1. Fitting"
   ]
  },
  {
   "cell_type": "code",
   "execution_count": 39,
   "id": "744338c5",
   "metadata": {},
   "outputs": [
    {
     "name": "stdout",
     "output_type": "stream",
     "text": [
      "Fitting time: 4.20 min \n",
      "\n",
      "Best hyperparameters:\n",
      "{'alpha': 0.0009765625} \n",
      "\n",
      "Best score: 0.7279\n"
     ]
    }
   ],
   "source": [
    "# Fit a model with the original variables and a regression objective\n",
    "\n",
    "ssvm2= FastSurvivalSVM(rank_ratio=0.0, max_iter=1000, tol=1e-5, random_state=0)\n",
    "\n",
    "\n",
    "def score_survival_model_2 (model, X, y):\n",
    "    prediction= model.predict(X)\n",
    "    result= concordance_index_censored(y['Status'], y['Survival_in_days'], -prediction) # Invert to obtain risk scores\n",
    "    return result[0]\n",
    "\n",
    "\n",
    "gcvS3= GridSearchCV(estimator=ssvm2,\n",
    "                    param_grid=param_gridS2, # we will use the same grid as for rank objective\n",
    "                    scoring=score_survival_model_2,\n",
    "                    n_jobs=1, refit=False,\n",
    "                    cv=cv)\n",
    "\n",
    "\n",
    "t0= time()\n",
    "gcvS3.fit(df_X_std_nonan, y_nonan)\n",
    "time_cv= time() - t0\n",
    "\n",
    "print('Fitting time: %0.2f min'%(time_cv/60), '\\n')\n",
    "print('Best hyperparameters:')\n",
    "print(gcvS3.best_params_, '\\n')\n",
    "print('Best score:', round(gcvS3.best_score_,4))"
   ]
  },
  {
   "cell_type": "code",
   "execution_count": 40,
   "id": "659ff2af",
   "metadata": {},
   "outputs": [
    {
     "data": {
      "text/html": [
       "<style>#sk-container-id-5 {color: black;background-color: white;}#sk-container-id-5 pre{padding: 0;}#sk-container-id-5 div.sk-toggleable {background-color: white;}#sk-container-id-5 label.sk-toggleable__label {cursor: pointer;display: block;width: 100%;margin-bottom: 0;padding: 0.3em;box-sizing: border-box;text-align: center;}#sk-container-id-5 label.sk-toggleable__label-arrow:before {content: \"▸\";float: left;margin-right: 0.25em;color: #696969;}#sk-container-id-5 label.sk-toggleable__label-arrow:hover:before {color: black;}#sk-container-id-5 div.sk-estimator:hover label.sk-toggleable__label-arrow:before {color: black;}#sk-container-id-5 div.sk-toggleable__content {max-height: 0;max-width: 0;overflow: hidden;text-align: left;background-color: #f0f8ff;}#sk-container-id-5 div.sk-toggleable__content pre {margin: 0.2em;color: black;border-radius: 0.25em;background-color: #f0f8ff;}#sk-container-id-5 input.sk-toggleable__control:checked~div.sk-toggleable__content {max-height: 200px;max-width: 100%;overflow: auto;}#sk-container-id-5 input.sk-toggleable__control:checked~label.sk-toggleable__label-arrow:before {content: \"▾\";}#sk-container-id-5 div.sk-estimator input.sk-toggleable__control:checked~label.sk-toggleable__label {background-color: #d4ebff;}#sk-container-id-5 div.sk-label input.sk-toggleable__control:checked~label.sk-toggleable__label {background-color: #d4ebff;}#sk-container-id-5 input.sk-hidden--visually {border: 0;clip: rect(1px 1px 1px 1px);clip: rect(1px, 1px, 1px, 1px);height: 1px;margin: -1px;overflow: hidden;padding: 0;position: absolute;width: 1px;}#sk-container-id-5 div.sk-estimator {font-family: monospace;background-color: #f0f8ff;border: 1px dotted black;border-radius: 0.25em;box-sizing: border-box;margin-bottom: 0.5em;}#sk-container-id-5 div.sk-estimator:hover {background-color: #d4ebff;}#sk-container-id-5 div.sk-parallel-item::after {content: \"\";width: 100%;border-bottom: 1px solid gray;flex-grow: 1;}#sk-container-id-5 div.sk-label:hover label.sk-toggleable__label {background-color: #d4ebff;}#sk-container-id-5 div.sk-serial::before {content: \"\";position: absolute;border-left: 1px solid gray;box-sizing: border-box;top: 0;bottom: 0;left: 50%;z-index: 0;}#sk-container-id-5 div.sk-serial {display: flex;flex-direction: column;align-items: center;background-color: white;padding-right: 0.2em;padding-left: 0.2em;position: relative;}#sk-container-id-5 div.sk-item {position: relative;z-index: 1;}#sk-container-id-5 div.sk-parallel {display: flex;align-items: stretch;justify-content: center;background-color: white;position: relative;}#sk-container-id-5 div.sk-item::before, #sk-container-id-5 div.sk-parallel-item::before {content: \"\";position: absolute;border-left: 1px solid gray;box-sizing: border-box;top: 0;bottom: 0;left: 50%;z-index: -1;}#sk-container-id-5 div.sk-parallel-item {display: flex;flex-direction: column;z-index: 1;position: relative;background-color: white;}#sk-container-id-5 div.sk-parallel-item:first-child::after {align-self: flex-end;width: 50%;}#sk-container-id-5 div.sk-parallel-item:last-child::after {align-self: flex-start;width: 50%;}#sk-container-id-5 div.sk-parallel-item:only-child::after {width: 0;}#sk-container-id-5 div.sk-dashed-wrapped {border: 1px dashed gray;margin: 0 0.4em 0.5em 0.4em;box-sizing: border-box;padding-bottom: 0.4em;background-color: white;}#sk-container-id-5 div.sk-label label {font-family: monospace;font-weight: bold;display: inline-block;line-height: 1.2em;}#sk-container-id-5 div.sk-label-container {text-align: center;}#sk-container-id-5 div.sk-container {/* jupyter's `normalize.less` sets `[hidden] { display: none; }` but bootstrap.min.css set `[hidden] { display: none !important; }` so we also need the `!important` here to be able to override the default hidden behavior on the sphinx rendered scikit-learn.org. See: https://github.com/scikit-learn/scikit-learn/issues/21755 */display: inline-block !important;position: relative;}#sk-container-id-5 div.sk-text-repr-fallback {display: none;}</style><div id=\"sk-container-id-5\" class=\"sk-top-container\"><div class=\"sk-text-repr-fallback\"><pre>FastSurvivalSVM(alpha=0.0009765625, max_iter=1000, optimizer=&#x27;avltree&#x27;,\n",
       "                random_state=0, rank_ratio=0.0, tol=1e-05)</pre><b>In a Jupyter environment, please rerun this cell to show the HTML representation or trust the notebook. <br />On GitHub, the HTML representation is unable to render, please try loading this page with nbviewer.org.</b></div><div class=\"sk-container\" hidden><div class=\"sk-item\"><div class=\"sk-estimator sk-toggleable\"><input class=\"sk-toggleable__control sk-hidden--visually\" id=\"sk-estimator-id-11\" type=\"checkbox\" checked><label for=\"sk-estimator-id-11\" class=\"sk-toggleable__label sk-toggleable__label-arrow\">FastSurvivalSVM</label><div class=\"sk-toggleable__content\"><pre>FastSurvivalSVM(alpha=0.0009765625, max_iter=1000, optimizer=&#x27;avltree&#x27;,\n",
       "                random_state=0, rank_ratio=0.0, tol=1e-05)</pre></div></div></div></div></div>"
      ],
      "text/plain": [
       "FastSurvivalSVM(alpha=0.0009765625, max_iter=1000, optimizer='avltree',\n",
       "                random_state=0, rank_ratio=0.0, tol=1e-05)"
      ]
     },
     "execution_count": 40,
     "metadata": {},
     "output_type": "execute_result"
    }
   ],
   "source": [
    "# Final model\n",
    "modelS2= FastSurvivalSVM(rank_ratio=0.0, max_iter=1000, tol=1e-5, random_state=0)\n",
    "modelS2.set_params(**gcvS3.best_params_)\n",
    "modelS2.fit(df_X_std_nonan, y_nonan)"
   ]
  },
  {
   "cell_type": "markdown",
   "id": "09861794",
   "metadata": {},
   "source": [
    "#### 3.2.2.2. Testing"
   ]
  },
  {
   "cell_type": "code",
   "execution_count": 41,
   "id": "99b54f90",
   "metadata": {},
   "outputs": [],
   "source": [
    "# Testing\n",
    "\n",
    "def boots_ssvmr (x, y, train_size, n_iterations, params_, alpha):\n",
    "    \n",
    "    idx= list(range(x.shape[0]))\n",
    "    train_size= int(x.shape[0]*train_size)\n",
    "    \n",
    "    test_cindex= []\n",
    "\n",
    "    for i in tqdm(range(n_iterations)):        \n",
    "        idx_train= random.choices(idx, k=train_size) # samples with replacement\n",
    "        idx_test= list(set(idx) - set(idx_train)) # samples will have different size, because of training sample replacement\n",
    "        \n",
    "        ssvm= FastSurvivalSVM(rank_ratio=0.0, max_iter=1000, tol=1e-5, random_state=0)\n",
    "        ssvm.set_params(**params_)\n",
    "        \n",
    "        ssvm.fit(x.values[idx_train,], y[idx_train])\n",
    "        \n",
    "        cindex= score_survival_model_2 (ssvm, x.values[idx_test], y[idx_test])\n",
    "        test_cindex.append(cindex)\n",
    "                \n",
    "    # confidence intervals\n",
    "    pl= alpha/2*100\n",
    "    pu= ((1-alpha) + (alpha/2))*100\n",
    "    \n",
    "    cindex_median= np.median(test_cindex)\n",
    "    cindex_lower= max(0.0, np.percentile(test_cindex, pl))\n",
    "    cindex_upper= min(1.0, np.percentile(test_cindex, pu))\n",
    "    \n",
    "    return (test_cindex, (cindex_median,cindex_lower,cindex_upper))"
   ]
  },
  {
   "cell_type": "code",
   "execution_count": 42,
   "id": "233ca7d4",
   "metadata": {},
   "outputs": [
    {
     "data": {
      "application/vnd.jupyter.widget-view+json": {
       "model_id": "091edd249cc343f1acebea8274cd0307",
       "version_major": 2,
       "version_minor": 0
      },
      "text/plain": [
       "  0%|          | 0/10000 [00:00<?, ?it/s]"
      ]
     },
     "metadata": {},
     "output_type": "display_data"
    }
   ],
   "source": [
    "modelS2_cindex, modelS2_ci= boots_ssvm (x=df_X_std_nonan, y=y_nonan, train_size=0.8, params_=gcvS3.best_params_, n_iterations=10000, alpha=0.05)"
   ]
  },
  {
   "cell_type": "code",
   "execution_count": 53,
   "id": "a90a320e",
   "metadata": {},
   "outputs": [
    {
     "data": {
      "text/plain": [
       "Text(0.5, 1.0, 'ModelS2: 0.67, 95%CI 0.55 and 0.78')"
      ]
     },
     "execution_count": 53,
     "metadata": {},
     "output_type": "execute_result"
    },
    {
     "data": {
      "image/png": "[encoded data removed]",
      "text/plain": [
       "<Figure size 600x400 with 1 Axes>"
      ]
     },
     "metadata": {},
     "output_type": "display_data"
    }
   ],
   "source": [
    "fig,ax= plt.subplots(1,1, figsize=(6,4))\n",
    "sns.histplot(modelS2_cindex, ax=ax)\n",
    "\n",
    "alpha= 0.05\n",
    "ax.set_title('ModelS2: %.2f, %.0f%%CI %.2f and %.2f' % (modelS2_ci[0], (1-alpha)*100, modelS2_ci[1], modelS2_ci[2]))"
   ]
  },
  {
   "cell_type": "markdown",
   "id": "7c7c6a5d",
   "metadata": {},
   "source": [
    "#### 3.2.2.3. Predicting"
   ]
  },
  {
   "cell_type": "markdown",
   "id": "7e606421",
   "metadata": {},
   "source": [
    "Concordance_index_censored expects risk scores, therefore, **signs of predictions have to be flipped**, which are times of survival, to obtain the ranking for survival. The first in the ranking is \"the most survivor\", the last one to die."
   ]
  },
  {
   "cell_type": "code",
   "execution_count": 44,
   "id": "f94216b6",
   "metadata": {},
   "outputs": [
    {
     "name": "stdout",
     "output_type": "stream",
     "text": [
      "Patient 1 vs 2:\n",
      "  · Preds: [  -4.45350369 -581.52428663]\n",
      "  · Labels: [( True,    7.) (False, 1016.)]\n",
      "\n",
      "\n",
      "Patient 1 have a higher risk than patient 2\n"
     ]
    }
   ],
   "source": [
    "# Predict the same two patients as modelS1\n",
    "patients= [3,4]\n",
    "pred= modelS2.predict(df_X_std_nonan.iloc[patients])\n",
    "print('Patient %.f vs %.f:' % (1,2))\n",
    "print('  · Preds:', -pred)\n",
    "print('  · Labels:', y[patients])\n",
    "\n",
    "print('\\n')\n",
    "if pred[0] < pred[1]: # Switch the sign\n",
    "    print('Patient 1 have a higher risk than patient 2')\n",
    "elif pred[0] > pred[1]: # Switch the sign\n",
    "    print('Patient 2 have a higher risk than patient 1')"
   ]
  },
  {
   "cell_type": "markdown",
   "id": "6757b58d",
   "metadata": {},
   "source": [
    "### 3.3. Kernel SSVM\n",
    "\n",
    "- Kernel SSVM fitting\n",
    "- Kernel SSVM testing\n",
    "- Kernel SSVM prediction"
   ]
  },
  {
   "cell_type": "markdown",
   "id": "9d500781",
   "metadata": {},
   "source": [
    "**Kernel SSVM** account for more complex relationships between features and survival time than Liner SSVM, however, the choice of kernel function and its hyperparameters is often not straightforward and requires tuning to obtain good results.\n",
    "\n",
    "First of all, define the kernel matrix, which in this project is a **clinical kernel** due to it is able to distinguish between continuous, ordinal, and nominal attributes."
   ]
  },
  {
   "cell_type": "code",
   "execution_count": 45,
   "id": "096d8c5d",
   "metadata": {},
   "outputs": [],
   "source": [
    "kernel_matrix= clinical_kernel(df_X_std_nonan)"
   ]
  },
  {
   "cell_type": "markdown",
   "id": "fe5b8797",
   "metadata": {},
   "source": [
    "#### 3.3.1. Fitting"
   ]
  },
  {
   "cell_type": "markdown",
   "id": "64498601",
   "metadata": {},
   "source": [
    "Next step is fitting the model, taking care to fit it with the pre-computed square kernel matrix and not with the original data."
   ]
  },
  {
   "cell_type": "code",
   "execution_count": 46,
   "id": "34d58c49",
   "metadata": {},
   "outputs": [
    {
     "name": "stdout",
     "output_type": "stream",
     "text": [
      "Fitting time: 3.18 min \n",
      "\n",
      "Best hyperparameters:\n",
      "{'alpha': 0.015625} \n",
      "\n",
      "Best score: 0.6131\n"
     ]
    }
   ],
   "source": [
    "# Fit a model with clinical kernel and pre-computed variables\n",
    "kssvm= FastKernelSurvivalSVM(optimizer='rbtree', kernel='precomputed', random_state=0)\n",
    "\n",
    "\n",
    "kgcv= GridSearchCV(estimator=kssvm,\n",
    "                   param_grid=param_gridS2,\n",
    "                   scoring=score_survival_model,\n",
    "                   n_jobs=1, refit=False,\n",
    "                   cv=cv)\n",
    "\n",
    "\n",
    "\n",
    "t0= time()\n",
    "kgcv.fit(kernel_matrix, y_nonan)\n",
    "time_cv= time() - t0\n",
    "\n",
    "print('Fitting time: %0.2f min'%(time_cv/60), '\\n')\n",
    "print('Best hyperparameters:')\n",
    "print(kgcv.best_params_, '\\n')\n",
    "print('Best score:', round(kgcv.best_score_,4))"
   ]
  },
  {
   "cell_type": "code",
   "execution_count": 47,
   "id": "b2d7658a",
   "metadata": {},
   "outputs": [
    {
     "data": {
      "image/png": "[encoded data removed]",
      "text/plain": [
       "<Figure size 1100x600 with 1 Axes>"
      ]
     },
     "metadata": {},
     "output_type": "display_data"
    }
   ],
   "source": [
    "plot_performance(kgcv)"
   ]
  },
  {
   "cell_type": "code",
   "execution_count": 48,
   "id": "009f4ca6",
   "metadata": {},
   "outputs": [
    {
     "name": "stdout",
     "output_type": "stream",
     "text": [
      "Fitting time: 9.68 min \n",
      "\n",
      "Best hyperparameters:\n",
      "{'alpha': 3.814697265625e-06, 'degree': 2, 'gamma': 0.001, 'kernel': 'poly'} \n",
      "\n",
      "Best score: 0.7229\n"
     ]
    }
   ],
   "source": [
    "# Fit a model with different kernels\n",
    "kssvm2= FastKernelSurvivalSVM(rank_ratio=1, optimizer='rbtree', random_state=0)\n",
    "\n",
    "param_gridS3= {'alpha': 2. ** np.arange(-24, -16, 2),\n",
    "               'kernel':['poly', 'rbf'],\n",
    "               'gamma': [0.001, 0.005, 0.05, 0.1, 0.5],\n",
    "               'degree': [1,2,3,4]}\n",
    "\n",
    "\n",
    "kgcv2= GridSearchCV(estimator=kssvm2,\n",
    "                    param_grid=param_gridS3,\n",
    "                    scoring=score_survival_model,\n",
    "                    n_jobs=1, refit=False,\n",
    "                    cv=cv)\n",
    "\n",
    "\n",
    "\n",
    "t0= time()\n",
    "kgcv2.fit(df_X_std_nonan, y_nonan)\n",
    "time_cv= time() - t0\n",
    "\n",
    "print('Fitting time: %0.2f min'%(time_cv/60), '\\n')\n",
    "print('Best hyperparameters:')\n",
    "print(kgcv2.best_params_, '\\n')\n",
    "print('Best score:', round(kgcv2.best_score_,4))"
   ]
  },
  {
   "cell_type": "code",
   "execution_count": 49,
   "id": "77b9317a",
   "metadata": {},
   "outputs": [
    {
     "data": {
      "text/html": [
       "<style>#sk-container-id-6 {color: black;background-color: white;}#sk-container-id-6 pre{padding: 0;}#sk-container-id-6 div.sk-toggleable {background-color: white;}#sk-container-id-6 label.sk-toggleable__label {cursor: pointer;display: block;width: 100%;margin-bottom: 0;padding: 0.3em;box-sizing: border-box;text-align: center;}#sk-container-id-6 label.sk-toggleable__label-arrow:before {content: \"▸\";float: left;margin-right: 0.25em;color: #696969;}#sk-container-id-6 label.sk-toggleable__label-arrow:hover:before {color: black;}#sk-container-id-6 div.sk-estimator:hover label.sk-toggleable__label-arrow:before {color: black;}#sk-container-id-6 div.sk-toggleable__content {max-height: 0;max-width: 0;overflow: hidden;text-align: left;background-color: #f0f8ff;}#sk-container-id-6 div.sk-toggleable__content pre {margin: 0.2em;color: black;border-radius: 0.25em;background-color: #f0f8ff;}#sk-container-id-6 input.sk-toggleable__control:checked~div.sk-toggleable__content {max-height: 200px;max-width: 100%;overflow: auto;}#sk-container-id-6 input.sk-toggleable__control:checked~label.sk-toggleable__label-arrow:before {content: \"▾\";}#sk-container-id-6 div.sk-estimator input.sk-toggleable__control:checked~label.sk-toggleable__label {background-color: #d4ebff;}#sk-container-id-6 div.sk-label input.sk-toggleable__control:checked~label.sk-toggleable__label {background-color: #d4ebff;}#sk-container-id-6 input.sk-hidden--visually {border: 0;clip: rect(1px 1px 1px 1px);clip: rect(1px, 1px, 1px, 1px);height: 1px;margin: -1px;overflow: hidden;padding: 0;position: absolute;width: 1px;}#sk-container-id-6 div.sk-estimator {font-family: monospace;background-color: #f0f8ff;border: 1px dotted black;border-radius: 0.25em;box-sizing: border-box;margin-bottom: 0.5em;}#sk-container-id-6 div.sk-estimator:hover {background-color: #d4ebff;}#sk-container-id-6 div.sk-parallel-item::after {content: \"\";width: 100%;border-bottom: 1px solid gray;flex-grow: 1;}#sk-container-id-6 div.sk-label:hover label.sk-toggleable__label {background-color: #d4ebff;}#sk-container-id-6 div.sk-serial::before {content: \"\";position: absolute;border-left: 1px solid gray;box-sizing: border-box;top: 0;bottom: 0;left: 50%;z-index: 0;}#sk-container-id-6 div.sk-serial {display: flex;flex-direction: column;align-items: center;background-color: white;padding-right: 0.2em;padding-left: 0.2em;position: relative;}#sk-container-id-6 div.sk-item {position: relative;z-index: 1;}#sk-container-id-6 div.sk-parallel {display: flex;align-items: stretch;justify-content: center;background-color: white;position: relative;}#sk-container-id-6 div.sk-item::before, #sk-container-id-6 div.sk-parallel-item::before {content: \"\";position: absolute;border-left: 1px solid gray;box-sizing: border-box;top: 0;bottom: 0;left: 50%;z-index: -1;}#sk-container-id-6 div.sk-parallel-item {display: flex;flex-direction: column;z-index: 1;position: relative;background-color: white;}#sk-container-id-6 div.sk-parallel-item:first-child::after {align-self: flex-end;width: 50%;}#sk-container-id-6 div.sk-parallel-item:last-child::after {align-self: flex-start;width: 50%;}#sk-container-id-6 div.sk-parallel-item:only-child::after {width: 0;}#sk-container-id-6 div.sk-dashed-wrapped {border: 1px dashed gray;margin: 0 0.4em 0.5em 0.4em;box-sizing: border-box;padding-bottom: 0.4em;background-color: white;}#sk-container-id-6 div.sk-label label {font-family: monospace;font-weight: bold;display: inline-block;line-height: 1.2em;}#sk-container-id-6 div.sk-label-container {text-align: center;}#sk-container-id-6 div.sk-container {/* jupyter's `normalize.less` sets `[hidden] { display: none; }` but bootstrap.min.css set `[hidden] { display: none !important; }` so we also need the `!important` here to be able to override the default hidden behavior on the sphinx rendered scikit-learn.org. See: https://github.com/scikit-learn/scikit-learn/issues/21755 */display: inline-block !important;position: relative;}#sk-container-id-6 div.sk-text-repr-fallback {display: none;}</style><div id=\"sk-container-id-6\" class=\"sk-top-container\"><div class=\"sk-text-repr-fallback\"><pre>FastKernelSurvivalSVM(alpha=3.814697265625e-06, degree=2, gamma=0.001,\n",
       "                      kernel=&#x27;poly&#x27;, optimizer=&#x27;rbtree&#x27;, random_state=0)</pre><b>In a Jupyter environment, please rerun this cell to show the HTML representation or trust the notebook. <br />On GitHub, the HTML representation is unable to render, please try loading this page with nbviewer.org.</b></div><div class=\"sk-container\" hidden><div class=\"sk-item\"><div class=\"sk-estimator sk-toggleable\"><input class=\"sk-toggleable__control sk-hidden--visually\" id=\"sk-estimator-id-12\" type=\"checkbox\" checked><label for=\"sk-estimator-id-12\" class=\"sk-toggleable__label sk-toggleable__label-arrow\">FastKernelSurvivalSVM</label><div class=\"sk-toggleable__content\"><pre>FastKernelSurvivalSVM(alpha=3.814697265625e-06, degree=2, gamma=0.001,\n",
       "                      kernel=&#x27;poly&#x27;, optimizer=&#x27;rbtree&#x27;, random_state=0)</pre></div></div></div></div></div>"
      ],
      "text/plain": [
       "FastKernelSurvivalSVM(alpha=3.814697265625e-06, degree=2, gamma=0.001,\n",
       "                      kernel='poly', optimizer='rbtree', random_state=0)"
      ]
     },
     "execution_count": 49,
     "metadata": {},
     "output_type": "execute_result"
    }
   ],
   "source": [
    "# Final model\n",
    "modelS3= FastKernelSurvivalSVM(optimizer='rbtree', random_state=0)\n",
    "modelS3.set_params(**kgcv2.best_params_)\n",
    "modelS3.fit(df_X_std_nonan, y_nonan)"
   ]
  },
  {
   "cell_type": "markdown",
   "id": "06774ce0",
   "metadata": {},
   "source": [
    "#### 3.3.2 Testing"
   ]
  },
  {
   "cell_type": "code",
   "execution_count": 50,
   "id": "039a84b7",
   "metadata": {},
   "outputs": [],
   "source": [
    "# Testing\n",
    "\n",
    "def boots_kssvm (x, y, train_size, n_iterations, params_, alpha):\n",
    "    \n",
    "    idx= list(range(x.shape[0]))\n",
    "    train_size= int(x.shape[0]*train_size)\n",
    "    \n",
    "    test_cindex= []\n",
    "\n",
    "    for i in tqdm(range(n_iterations)):        \n",
    "        idx_train= random.choices(idx, k=train_size) # samples with replacement\n",
    "        idx_test= list(set(idx) - set(idx_train)) # samples will have different size, because of training sample replacement\n",
    "        \n",
    "        kssvm= FastKernelSurvivalSVM(optimizer='rbtree', random_state=0)\n",
    "        kssvm.set_params(**params_)\n",
    "        \n",
    "        kssvm.fit(x.values[idx_train,], y[idx_train])\n",
    "        \n",
    "        cindex= kssvm.score (x.values[idx_test], y[idx_test])\n",
    "        test_cindex.append(cindex)\n",
    "                \n",
    "    # confidence intervals\n",
    "    pl= alpha/2*100\n",
    "    pu= ((1-alpha) + (alpha/2))*100\n",
    "    \n",
    "    cindex_median= np.median(test_cindex)\n",
    "    cindex_lower= max(0.0, np.percentile(test_cindex, pl))\n",
    "    cindex_upper= min(1.0, np.percentile(test_cindex, pu))\n",
    "    \n",
    "    return (test_cindex, (cindex_median,cindex_lower,cindex_upper))"
   ]
  },
  {
   "cell_type": "code",
   "execution_count": 54,
   "id": "0320322f",
   "metadata": {},
   "outputs": [
    {
     "data": {
      "application/vnd.jupyter.widget-view+json": {
       "model_id": "85a88ff900c24306aa30c393c8be3ed3",
       "version_major": 2,
       "version_minor": 0
      },
      "text/plain": [
       "  0%|          | 0/10000 [00:00<?, ?it/s]"
      ]
     },
     "metadata": {},
     "output_type": "display_data"
    }
   ],
   "source": [
    "modelS3_cindex, modelS3_ci= boots_kssvm (x=df_X_std_nonan, y=y_nonan, train_size=0.8, params_=kgcv2.best_params_, n_iterations=10000, alpha=0.05)"
   ]
  },
  {
   "cell_type": "code",
   "execution_count": 55,
   "id": "0eaf11bb",
   "metadata": {},
   "outputs": [
    {
     "data": {
      "text/plain": [
       "Text(0.5, 1.0, 'ModelS3: 0.72, 95%CI 0.61 and 0.81')"
      ]
     },
     "execution_count": 55,
     "metadata": {},
     "output_type": "execute_result"
    },
    {
     "data": {
      "image/png": "[encoded data removed]",
      "text/plain": [
       "<Figure size 600x400 with 1 Axes>"
      ]
     },
     "metadata": {},
     "output_type": "display_data"
    }
   ],
   "source": [
    "fig,ax= plt.subplots(1,1, figsize=(6,4))\n",
    "sns.histplot(modelS3_cindex, ax=ax)\n",
    "\n",
    "alpha= 0.05\n",
    "ax.set_title('ModelS3: %.2f, %.0f%%CI %.2f and %.2f' % (modelS3_ci[0], (1-alpha)*100, modelS3_ci[1], modelS3_ci[2]))"
   ]
  },
  {
   "cell_type": "markdown",
   "id": "7e0fe0c8",
   "metadata": {},
   "source": [
    "#### 3.3.3 Predicting"
   ]
  },
  {
   "cell_type": "code",
   "execution_count": 56,
   "id": "348de6a8",
   "metadata": {},
   "outputs": [
    {
     "name": "stdout",
     "output_type": "stream",
     "text": [
      "Patient 1 vs 2:\n",
      "  · Preds: [-0.00081387 -0.00106006]\n",
      "  · Labels: [( True,    7.) (False, 1016.)]\n",
      "\n",
      "\n",
      "Patient 1 have a higher risk than patient 2\n"
     ]
    }
   ],
   "source": [
    "# Predict two patients\n",
    "patients= [3,4]\n",
    "pred= modelS3.predict(df_X_std_nonan.iloc[patients])\n",
    "print('Patient %.f vs %.f:' % (1,2))\n",
    "print('  · Preds:', pred)\n",
    "print('  · Labels:', y[patients])\n",
    "\n",
    "print('\\n')\n",
    "if pred[0] > pred[1]:\n",
    "    print('Patient 1 have a higher risk than patient 2')\n",
    "elif pred[0] < pred[1]:\n",
    "    print('Patient 2 have a higher risk than patient 1')"
   ]
  }
 ],
 "metadata": {
  "kernelspec": {
   "display_name": "Python 3 (ipykernel)",
   "language": "python",
   "name": "python3"
  },
  "language_info": {
   "codemirror_mode": {
    "name": "ipython",
    "version": 3
   },
   "file_extension": ".py",
   "mimetype": "text/x-python",
   "name": "python",
   "nbconvert_exporter": "python",
   "pygments_lexer": "ipython3",
   "version": "3.8.2"
  }
 },
 "nbformat": 4,
 "nbformat_minor": 5
}
