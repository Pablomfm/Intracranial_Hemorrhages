{
 "cells": [
  {
   "cell_type": "markdown",
   "id": "389d1e41",
   "metadata": {},
   "source": [
    "## <center> LOADING THE DATASET IN R </center>"
   ]
  },
  {
   "cell_type": "markdown",
   "id": "4a73da5e",
   "metadata": {},
   "source": [
    "## Loading the dataset in R to preserve R datatypes"
   ]
  },
  {
   "cell_type": "markdown",
   "id": "c311ec6a",
   "metadata": {},
   "source": [
    "### Option 1 - Loading as a R object"
   ]
  },
  {
   "cell_type": "code",
   "execution_count": 1,
   "id": "2f7fa823",
   "metadata": {
    "scrolled": false
   },
   "outputs": [
    {
     "data": {
      "text/html": [
       "<table>\n",
       "<thead><tr><th scope=col>patient</th><th scope=col>sex</th><th scope=col>hospital</th><th scope=col>follow_up</th><th scope=col>final_outcome</th><th scope=col>nfamily_medhist</th><th scope=col>tobacco</th><th scope=col>n_tobacco</th><th scope=col>drugs</th><th scope=col>alcohol</th><th scope=col>...</th><th scope=col>rdw</th><th scope=col>mchc</th><th scope=col>mpv</th><th scope=col>mch</th><th scope=col>inr</th><th scope=col>fibrinogen</th><th scope=col>maxfibrinogen</th><th scope=col>time_between_CT_bloodanalysis</th><th scope=col>age</th><th scope=col>survival_days</th></tr></thead>\n",
       "<tbody>\n",
       "\t<tr><td>1    </td><td>1    </td><td>1    </td><td>2    </td><td>2    </td><td>17   </td><td>2    </td><td>NA   </td><td>0    </td><td>0    </td><td>...  </td><td>17.0 </td><td>33.0 </td><td> 9.0 </td><td>28.1 </td><td>4.21 </td><td>344  </td><td> 618 </td><td>0    </td><td>74   </td><td>    4</td></tr>\n",
       "\t<tr><td>2    </td><td>2    </td><td>2    </td><td>0    </td><td>1    </td><td> 4   </td><td>0    </td><td> 0   </td><td>0    </td><td>0    </td><td>...  </td><td>14.7 </td><td>32.5 </td><td>10.7 </td><td>29.8 </td><td>  NA </td><td> NA  </td><td>1081 </td><td>0    </td><td>81   </td><td>-1000</td></tr>\n",
       "</tbody>\n",
       "</table>\n"
      ],
      "text/latex": [
       "\\begin{tabular}{r|llllllllllllllllllllllllllllllllllllllllllllllllllllllllllllllllllllllllllllllllllllllllllllllllllllllllllllllllllllllllllllllllllllllllllllll}\n",
       " patient & sex & hospital & follow\\_up & final\\_outcome & nfamily\\_medhist & tobacco & n\\_tobacco & drugs & alcohol & ... & rdw & mchc & mpv & mch & inr & fibrinogen & maxfibrinogen & time\\_between\\_CT\\_bloodanalysis & age & survival\\_days\\\\\n",
       "\\hline\n",
       "\t 1     & 1     & 1     & 2     & 2     & 17    & 2     & NA    & 0     & 0     & ...   & 17.0  & 33.0  &  9.0  & 28.1  & 4.21  & 344   &  618  & 0     & 74    &     4\\\\\n",
       "\t 2     & 2     & 2     & 0     & 1     &  4    & 0     &  0    & 0     & 0     & ...   & 14.7  & 32.5  & 10.7  & 29.8  &   NA  &  NA   & 1081  & 0     & 81    & -1000\\\\\n",
       "\\end{tabular}\n"
      ],
      "text/markdown": [
       "\n",
       "| patient | sex | hospital | follow_up | final_outcome | nfamily_medhist | tobacco | n_tobacco | drugs | alcohol | ... | rdw | mchc | mpv | mch | inr | fibrinogen | maxfibrinogen | time_between_CT_bloodanalysis | age | survival_days |\n",
       "|---|---|---|---|---|---|---|---|---|---|---|---|---|---|---|---|---|---|---|---|---|\n",
       "| 1     | 1     | 1     | 2     | 2     | 17    | 2     | NA    | 0     | 0     | ...   | 17.0  | 33.0  |  9.0  | 28.1  | 4.21  | 344   |  618  | 0     | 74    |     4 |\n",
       "| 2     | 2     | 2     | 0     | 1     |  4    | 0     |  0    | 0     | 0     | ...   | 14.7  | 32.5  | 10.7  | 29.8  |   NA  |  NA   | 1081  | 0     | 81    | -1000 |\n",
       "\n"
      ],
      "text/plain": [
       "  patient sex hospital follow_up final_outcome nfamily_medhist tobacco\n",
       "1 1       1   1        2         2             17              2      \n",
       "2 2       2   2        0         1              4              0      \n",
       "  n_tobacco drugs alcohol ... rdw  mchc mpv  mch  inr  fibrinogen maxfibrinogen\n",
       "1 NA        0     0       ... 17.0 33.0  9.0 28.1 4.21 344         618         \n",
       "2  0        0     0       ... 14.7 32.5 10.7 29.8   NA  NA        1081         \n",
       "  time_between_CT_bloodanalysis age survival_days\n",
       "1 0                             74      4        \n",
       "2 0                             81  -1000        "
      ]
     },
     "metadata": {},
     "output_type": "display_data"
    },
    {
     "name": "stdout",
     "output_type": "stream",
     "text": [
      "'data.frame':\t300 obs. of  2 variables:\n",
      " $ patient: num  1 2 3 4 5 6 7 8 9 10 ...\n",
      " $ sex    : Factor w/ 2 levels \"1\",\"2\": 1 2 2 2 1 2 2 1 1 2 ...\n"
     ]
    }
   ],
   "source": [
    "# Option 1 - R object\n",
    "df= readRDS('Databases/ICH_database.rds')\n",
    "\n",
    "head(df,2)\n",
    "str(df[,1:2])"
   ]
  },
  {
   "cell_type": "code",
   "execution_count": 2,
   "id": "ca9618d5",
   "metadata": {},
   "outputs": [],
   "source": [
    "Rdatatypes_1= sapply(df, class)"
   ]
  },
  {
   "cell_type": "markdown",
   "id": "ad97c0d4",
   "metadata": {},
   "source": [
    "### Option 2 - Loading as a CSV"
   ]
  },
  {
   "cell_type": "code",
   "execution_count": 3,
   "id": "93326a7e",
   "metadata": {},
   "outputs": [],
   "source": [
    "# Option 2 - CSV\n",
    "\n",
    "# Load database_metadata and extract a vector with R datatypes\n",
    "df_metadata= read.csv('Databases/ICH_database_metadata.csv', sep=',', colClasses=c('character'))\n",
    "Rdatatypes_2= df_metadata[['R_Datatype']]"
   ]
  },
  {
   "cell_type": "code",
   "execution_count": 4,
   "id": "cb4a7556",
   "metadata": {},
   "outputs": [
    {
     "data": {
      "text/html": [
       "<table>\n",
       "<thead><tr><th scope=col>patient</th><th scope=col>sex</th><th scope=col>hospital</th><th scope=col>follow_up</th><th scope=col>final_outcome</th><th scope=col>nfamily_medhist</th><th scope=col>tobacco</th><th scope=col>n_tobacco</th><th scope=col>drugs</th><th scope=col>alcohol</th><th scope=col>...</th><th scope=col>rdw</th><th scope=col>mchc</th><th scope=col>mpv</th><th scope=col>mch</th><th scope=col>inr</th><th scope=col>fibrinogen</th><th scope=col>maxfibrinogen</th><th scope=col>time_between_CT_bloodanalysis</th><th scope=col>age</th><th scope=col>survival_days</th></tr></thead>\n",
       "<tbody>\n",
       "\t<tr><td>1    </td><td>1    </td><td>1    </td><td>2    </td><td>2    </td><td>17   </td><td>2    </td><td>NA   </td><td>0    </td><td>0    </td><td>...  </td><td>17.0 </td><td>33.0 </td><td> 9.0 </td><td>28.1 </td><td>4.21 </td><td>344  </td><td> 618 </td><td>0    </td><td>74   </td><td>    4</td></tr>\n",
       "\t<tr><td>2    </td><td>2    </td><td>2    </td><td>0    </td><td>1    </td><td> 4   </td><td>0    </td><td> 0   </td><td>0    </td><td>0    </td><td>...  </td><td>14.7 </td><td>32.5 </td><td>10.7 </td><td>29.8 </td><td>  NA </td><td> NA  </td><td>1081 </td><td>0    </td><td>81   </td><td>-1000</td></tr>\n",
       "</tbody>\n",
       "</table>\n"
      ],
      "text/latex": [
       "\\begin{tabular}{r|llllllllllllllllllllllllllllllllllllllllllllllllllllllllllllllllllllllllllllllllllllllllllllllllllllllllllllllllllllllllllllllllllllllllllllll}\n",
       " patient & sex & hospital & follow\\_up & final\\_outcome & nfamily\\_medhist & tobacco & n\\_tobacco & drugs & alcohol & ... & rdw & mchc & mpv & mch & inr & fibrinogen & maxfibrinogen & time\\_between\\_CT\\_bloodanalysis & age & survival\\_days\\\\\n",
       "\\hline\n",
       "\t 1     & 1     & 1     & 2     & 2     & 17    & 2     & NA    & 0     & 0     & ...   & 17.0  & 33.0  &  9.0  & 28.1  & 4.21  & 344   &  618  & 0     & 74    &     4\\\\\n",
       "\t 2     & 2     & 2     & 0     & 1     &  4    & 0     &  0    & 0     & 0     & ...   & 14.7  & 32.5  & 10.7  & 29.8  &   NA  &  NA   & 1081  & 0     & 81    & -1000\\\\\n",
       "\\end{tabular}\n"
      ],
      "text/markdown": [
       "\n",
       "| patient | sex | hospital | follow_up | final_outcome | nfamily_medhist | tobacco | n_tobacco | drugs | alcohol | ... | rdw | mchc | mpv | mch | inr | fibrinogen | maxfibrinogen | time_between_CT_bloodanalysis | age | survival_days |\n",
       "|---|---|---|---|---|---|---|---|---|---|---|---|---|---|---|---|---|---|---|---|---|\n",
       "| 1     | 1     | 1     | 2     | 2     | 17    | 2     | NA    | 0     | 0     | ...   | 17.0  | 33.0  |  9.0  | 28.1  | 4.21  | 344   |  618  | 0     | 74    |     4 |\n",
       "| 2     | 2     | 2     | 0     | 1     |  4    | 0     |  0    | 0     | 0     | ...   | 14.7  | 32.5  | 10.7  | 29.8  |   NA  |  NA   | 1081  | 0     | 81    | -1000 |\n",
       "\n"
      ],
      "text/plain": [
       "  patient sex hospital follow_up final_outcome nfamily_medhist tobacco\n",
       "1 1       1   1        2         2             17              2      \n",
       "2 2       2   2        0         1              4              0      \n",
       "  n_tobacco drugs alcohol ... rdw  mchc mpv  mch  inr  fibrinogen maxfibrinogen\n",
       "1 NA        0     0       ... 17.0 33.0  9.0 28.1 4.21 344         618         \n",
       "2  0        0     0       ... 14.7 32.5 10.7 29.8   NA  NA        1081         \n",
       "  time_between_CT_bloodanalysis age survival_days\n",
       "1 0                             74      4        \n",
       "2 0                             81  -1000        "
      ]
     },
     "metadata": {},
     "output_type": "display_data"
    },
    {
     "name": "stdout",
     "output_type": "stream",
     "text": [
      "'data.frame':\t300 obs. of  2 variables:\n",
      " $ patient: num  1 2 3 4 5 6 7 8 9 10 ...\n",
      " $ sex    : Factor w/ 2 levels \"1\",\"2\": 1 2 2 2 1 2 2 1 1 2 ...\n"
     ]
    }
   ],
   "source": [
    "# Load database\n",
    "df= read.csv('Databases/ICH_database.csv', sep=',', na.strings=c('1234'), colClasses=Rdatatypes_2)\n",
    "\n",
    "head(df,2)\n",
    "str(df[,1:2])"
   ]
  },
  {
   "cell_type": "code",
   "execution_count": 5,
   "id": "28d06a4f",
   "metadata": {},
   "outputs": [],
   "source": [
    "Rdatatypes_2b= sapply(df, class)"
   ]
  },
  {
   "cell_type": "markdown",
   "id": "dea7c3ef",
   "metadata": {},
   "source": [
    "### Check both ways are equivalent"
   ]
  },
  {
   "cell_type": "code",
   "execution_count": 6,
   "id": "65ceb962",
   "metadata": {},
   "outputs": [
    {
     "data": {
      "text/html": [
       "TRUE"
      ],
      "text/latex": [
       "TRUE"
      ],
      "text/markdown": [
       "TRUE"
      ],
      "text/plain": [
       "[1] TRUE"
      ]
     },
     "metadata": {},
     "output_type": "display_data"
    }
   ],
   "source": [
    "all.equal(Rdatatypes_1, Rdatatypes_2b)"
   ]
  }
 ],
 "metadata": {
  "kernelspec": {
   "display_name": "R",
   "language": "R",
   "name": "ir"
  },
  "language_info": {
   "codemirror_mode": "r",
   "file_extension": ".r",
   "mimetype": "text/x-r-source",
   "name": "R",
   "pygments_lexer": "r",
   "version": "3.6.0"
  }
 },
 "nbformat": 4,
 "nbformat_minor": 5
}
