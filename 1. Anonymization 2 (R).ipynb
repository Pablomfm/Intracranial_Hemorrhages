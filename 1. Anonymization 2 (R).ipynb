{
 "cells": [
  {
   "cell_type": "markdown",
   "id": "7a85e5bb",
   "metadata": {},
   "source": [
    "## <center>INTRACRANIAL HEMORRHAGES DATABASE - ANONYMIZATION 2</center>"
   ]
  },
  {
   "cell_type": "markdown",
   "id": "02b2c063",
   "metadata": {},
   "source": [
    "In a first step, all patient identifiers (IDs,...) were removed. Now this Notebook conducts a second anonymization step, that consists in the anonymization of the dates. This kind of data may contain information which can help to identify patients, so it will be safer to anonymize all variables containing dates. However, to avoid the loss of information three new variables will be generated and added to the database: \n",
    "- Time between head CT scan and blood analysis (days)\n",
    "- Age at the hospital admission date (years)\n",
    "- Survival days after admission (days)\n",
    "\n",
    "This Notebook will conduct this second anonymization step including the following sub-steps:\n",
    "1. Load data\n",
    "2. Change the dates into Date types\n",
    "3. Generate the new variables\n",
    "4. Anonymize the dates and save the anonymized database."
   ]
  },
  {
   "cell_type": "markdown",
   "id": "38dc7bdf",
   "metadata": {},
   "source": [
    "### Load libraries"
   ]
  },
  {
   "cell_type": "code",
   "execution_count": 1,
   "id": "4713a82f",
   "metadata": {},
   "outputs": [],
   "source": [
    "library(data.table)"
   ]
  },
  {
   "cell_type": "markdown",
   "id": "925498be",
   "metadata": {},
   "source": [
    "### 1. Load Data"
   ]
  },
  {
   "cell_type": "code",
   "execution_count": 2,
   "id": "a5017a1e",
   "metadata": {},
   "outputs": [
    {
     "data": {
      "text/html": [
       "<table>\n",
       "<thead><tr><th scope=col>X</th><th scope=col>Marca.temporal</th><th scope=col>SEXO..1.Hombre..2.Mujer.</th><th scope=col>Fecha.de.ingreso</th><th scope=col>Fecha.de.alta</th><th scope=col>Hospital.de.Procedencia</th><th scope=col>Fecha.de.TC</th><th scope=col>Fecha.de.análisis.de.sangre</th><th scope=col>Empeoramiento.clínico.después.del.TC..0.no..1.empeora.a.causa.del.hematoma..2.muere.a.causa.del.hematoma..3.empeora.por.otra.causa.derivada...Tener.en.cuenta.los.quirúrgicos.en.el.análisis</th><th scope=col>Secuelas..0.no..1.si..2.si.muere.a.causa.del.hematoma..3.muere.a.causa.de.otra.complicación..4.le.dan.el.alta.y.muere.en.los.siguientes.3.meses.por.el.hematoma...De.momento.todo.se.considera.secuela..cuadrantanopsias.....</th><th scope=col>...</th><th scope=col>Hematocrito......1234...si.no.dispone.de.datos.</th><th scope=col>Plaquetas..10.3.uL...1234...si.no.dispone.de.datos.</th><th scope=col>VCM..fL...1234...si.no.dispone.de.datos.</th><th scope=col>ADE......1234...si.no.dispone.de.datos.</th><th scope=col>C.H.C.M...g.dL...1234...si.no.dispone.de.datos.</th><th scope=col>V.P.M...fL...1234...si.no.dispone.de.datos.</th><th scope=col>HCM..pg...1234...si.no.dispone.de.datos.</th><th scope=col>INR..1234...si.no.dispone.de.datos.</th><th scope=col>Fibrinógeno..mg.dL...1234...si.no.dispone.de.datos.</th><th scope=col>Fibrinógeno.máximo.registrado.durante.el.ingreso</th></tr></thead>\n",
       "<tbody>\n",
       "\t<tr><td>1         </td><td>1         </td><td>1         </td><td>10-10-2012</td><td>14-10-2012</td><td>1         </td><td>10-10-2012</td><td>10-10-2012</td><td>2         </td><td>2         </td><td>...       </td><td>40.1      </td><td>107       </td><td>85        </td><td>17        </td><td>33        </td><td>9         </td><td>28.1      </td><td>4.21      </td><td>344       </td><td>618       </td></tr>\n",
       "</tbody>\n",
       "</table>\n"
      ],
      "text/latex": [
       "\\begin{tabular}{r|lllllllllllllllllllllllllllllllllllllllllllllllllllllllllllllllllllllllllllllllllllllllllllllllllllllllllllllllllllllllllllllllllllllllllllllllllllllllllllllll}\n",
       " X & Marca.temporal & SEXO..1.Hombre..2.Mujer. & Fecha.de.ingreso & Fecha.de.alta & Hospital.de.Procedencia & Fecha.de.TC & Fecha.de.análisis.de.sangre & Empeoramiento.clínico.después.del.TC..0.no..1.empeora.a.causa.del.hematoma..2.muere.a.causa.del.hematoma..3.empeora.por.otra.causa.derivada...Tener.en.cuenta.los.quirúrgicos.en.el.análisis & Secuelas..0.no..1.si..2.si.muere.a.causa.del.hematoma..3.muere.a.causa.de.otra.complicación..4.le.dan.el.alta.y.muere.en.los.siguientes.3.meses.por.el.hematoma...De.momento.todo.se.considera.secuela..cuadrantanopsias..... & ... & Hematocrito......1234...si.no.dispone.de.datos. & Plaquetas..10.3.uL...1234...si.no.dispone.de.datos. & VCM..fL...1234...si.no.dispone.de.datos. & ADE......1234...si.no.dispone.de.datos. & C.H.C.M...g.dL...1234...si.no.dispone.de.datos. & V.P.M...fL...1234...si.no.dispone.de.datos. & HCM..pg...1234...si.no.dispone.de.datos. & INR..1234...si.no.dispone.de.datos. & Fibrinógeno..mg.dL...1234...si.no.dispone.de.datos. & Fibrinógeno.máximo.registrado.durante.el.ingreso\\\\\n",
       "\\hline\n",
       "\t 1          & 1          & 1          & 10-10-2012 & 14-10-2012 & 1          & 10-10-2012 & 10-10-2012 & 2          & 2          & ...        & 40.1       & 107        & 85         & 17         & 33         & 9          & 28.1       & 4.21       & 344        & 618       \\\\\n",
       "\\end{tabular}\n"
      ],
      "text/markdown": [
       "\n",
       "| X | Marca.temporal | SEXO..1.Hombre..2.Mujer. | Fecha.de.ingreso | Fecha.de.alta | Hospital.de.Procedencia | Fecha.de.TC | Fecha.de.análisis.de.sangre | Empeoramiento.clínico.después.del.TC..0.no..1.empeora.a.causa.del.hematoma..2.muere.a.causa.del.hematoma..3.empeora.por.otra.causa.derivada...Tener.en.cuenta.los.quirúrgicos.en.el.análisis | Secuelas..0.no..1.si..2.si.muere.a.causa.del.hematoma..3.muere.a.causa.de.otra.complicación..4.le.dan.el.alta.y.muere.en.los.siguientes.3.meses.por.el.hematoma...De.momento.todo.se.considera.secuela..cuadrantanopsias..... | ... | Hematocrito......1234...si.no.dispone.de.datos. | Plaquetas..10.3.uL...1234...si.no.dispone.de.datos. | VCM..fL...1234...si.no.dispone.de.datos. | ADE......1234...si.no.dispone.de.datos. | C.H.C.M...g.dL...1234...si.no.dispone.de.datos. | V.P.M...fL...1234...si.no.dispone.de.datos. | HCM..pg...1234...si.no.dispone.de.datos. | INR..1234...si.no.dispone.de.datos. | Fibrinógeno..mg.dL...1234...si.no.dispone.de.datos. | Fibrinógeno.máximo.registrado.durante.el.ingreso |\n",
       "|---|---|---|---|---|---|---|---|---|---|---|---|---|---|---|---|---|---|---|---|---|\n",
       "| 1          | 1          | 1          | 10-10-2012 | 14-10-2012 | 1          | 10-10-2012 | 10-10-2012 | 2          | 2          | ...        | 40.1       | 107        | 85         | 17         | 33         | 9          | 28.1       | 4.21       | 344        | 618        |\n",
       "\n"
      ],
      "text/plain": [
       "  X Marca.temporal SEXO..1.Hombre..2.Mujer. Fecha.de.ingreso Fecha.de.alta\n",
       "1 1 1              1                        10-10-2012       14-10-2012   \n",
       "  Hospital.de.Procedencia Fecha.de.TC Fecha.de.análisis.de.sangre\n",
       "1 1                       10-10-2012  10-10-2012                 \n",
       "  Empeoramiento.clínico.después.del.TC..0.no..1.empeora.a.causa.del.hematoma..2.muere.a.causa.del.hematoma..3.empeora.por.otra.causa.derivada...Tener.en.cuenta.los.quirúrgicos.en.el.análisis\n",
       "1 2                                                                                                                                                                                           \n",
       "  Secuelas..0.no..1.si..2.si.muere.a.causa.del.hematoma..3.muere.a.causa.de.otra.complicación..4.le.dan.el.alta.y.muere.en.los.siguientes.3.meses.por.el.hematoma...De.momento.todo.se.considera.secuela..cuadrantanopsias.....\n",
       "1 2                                                                                                                                                                                                                            \n",
       "  ... Hematocrito......1234...si.no.dispone.de.datos.\n",
       "1 ... 40.1                                           \n",
       "  Plaquetas..10.3.uL...1234...si.no.dispone.de.datos.\n",
       "1 107                                                \n",
       "  VCM..fL...1234...si.no.dispone.de.datos.\n",
       "1 85                                      \n",
       "  ADE......1234...si.no.dispone.de.datos.\n",
       "1 17                                     \n",
       "  C.H.C.M...g.dL...1234...si.no.dispone.de.datos.\n",
       "1 33                                             \n",
       "  V.P.M...fL...1234...si.no.dispone.de.datos.\n",
       "1 9                                          \n",
       "  HCM..pg...1234...si.no.dispone.de.datos. INR..1234...si.no.dispone.de.datos.\n",
       "1 28.1                                     4.21                               \n",
       "  Fibrinógeno..mg.dL...1234...si.no.dispone.de.datos.\n",
       "1 344                                                \n",
       "  Fibrinógeno.máximo.registrado.durante.el.ingreso\n",
       "1 618                                             "
      ]
     },
     "metadata": {},
     "output_type": "display_data"
    }
   ],
   "source": [
    "df= read.csv('Databases/ICH_database_nonredudant_pseudoanonymized.csv', sep=',')\n",
    "head(df,1)"
   ]
  },
  {
   "cell_type": "markdown",
   "id": "abfdb41f",
   "metadata": {},
   "source": [
    "### 2. Change dates into Date types"
   ]
  },
  {
   "cell_type": "code",
   "execution_count": 3,
   "id": "62ea4967",
   "metadata": {},
   "outputs": [],
   "source": [
    "dates1= c(4,5,7,8)\n",
    "dates2= c(11,121)\n",
    "\n",
    "df[,dates1]= lapply(df[,dates1], function(x) as.Date(x, format='%d-%m-%Y'))\n",
    "df[,dates2]= lapply(df[,dates2], function(x) as.Date(x, format='%Y-%m-%d'))"
   ]
  },
  {
   "cell_type": "code",
   "execution_count": 4,
   "id": "9c54762e",
   "metadata": {},
   "outputs": [
    {
     "data": {
      "text/html": [
       "<table>\n",
       "<thead><tr><th scope=col>Fecha.de.ingreso</th><th scope=col>Fecha.de.alta</th><th scope=col>Fecha.de.TC</th><th scope=col>Fecha.de.análisis.de.sangre</th><th scope=col>FECHA.DE.NACIMIENTO..día..mes..año.</th><th scope=col>Fecha.de.mortalidad</th></tr></thead>\n",
       "<tbody>\n",
       "</tbody>\n",
       "</table>\n"
      ],
      "text/latex": [
       "\\begin{tabular}{r|llllll}\n",
       " Fecha.de.ingreso & Fecha.de.alta & Fecha.de.TC & Fecha.de.análisis.de.sangre & FECHA.DE.NACIMIENTO..día..mes..año. & Fecha.de.mortalidad\\\\\n",
       "\\hline\n",
       "\\end{tabular}\n"
      ],
      "text/markdown": [
       "\n",
       "| Fecha.de.ingreso | Fecha.de.alta | Fecha.de.TC | Fecha.de.análisis.de.sangre | FECHA.DE.NACIMIENTO..día..mes..año. | Fecha.de.mortalidad |\n",
       "|---|---|---|---|---|---|\n",
       "\n"
      ],
      "text/plain": [
       "     Fecha.de.ingreso Fecha.de.alta Fecha.de.TC Fecha.de.análisis.de.sangre\n",
       "     FECHA.DE.NACIMIENTO..día..mes..año. Fecha.de.mortalidad"
      ]
     },
     "metadata": {},
     "output_type": "display_data"
    }
   ],
   "source": [
    "df[0,c(dates1,dates2)]"
   ]
  },
  {
   "cell_type": "markdown",
   "id": "6cfe69c0",
   "metadata": {},
   "source": [
    "### 3. Generate the new variables\n",
    "- Time between head CT scan and blood analysis (days)\n",
    "- Age at the hospital admission date (years)\n",
    "- Survival days after admission (days)"
   ]
  },
  {
   "cell_type": "code",
   "execution_count": 5,
   "id": "6bd12af9",
   "metadata": {},
   "outputs": [],
   "source": [
    "agecalc= function(from, to){\n",
    "    from_years= format(from,'%Y')\n",
    "    from_months= format(from,'%m')\n",
    "    from_days= format(from,'%d')\n",
    "    \n",
    "    to_years= format(to,'%Y')\n",
    "    to_months= format(to,'%m')\n",
    "    to_days= format(to,'%d')\n",
    "    \n",
    "    len= length(from_years[[colnames(from_years)]])\n",
    "    ages=rep(0,len)\n",
    "    \n",
    "    for (idx_date in c(1:len)) {\n",
    "        \n",
    "        from_year= as.numeric(from_years[[1]][idx_date])\n",
    "        from_month= as.numeric(from_months[[1]][idx_date])\n",
    "        from_day= as.numeric(from_days[[1]][idx_date])\n",
    "        \n",
    "        to_year= as.numeric(to_years[[1]][idx_date])\n",
    "        to_month= as.numeric(to_months[[1]][idx_date])\n",
    "        to_day= as.numeric(to_days[[1]][idx_date])\n",
    "        \n",
    "        if (to_month > from_month) ages[idx_date]= to_year - from_year\n",
    "        if (to_month < from_month) ages[idx_date]= to_year - from_year - 1\n",
    "        if (to_month == from_month & to_day >= from_day) ages[idx_date]= to_year - from_year\n",
    "        if (to_month == from_month & to_day < from_day) ages[idx_date]= to_year - from_year - 1\n",
    "        \n",
    "        }\n",
    "    return(ages)\n",
    "    }"
   ]
  },
  {
   "cell_type": "code",
   "execution_count": 6,
   "id": "341b532b",
   "metadata": {},
   "outputs": [],
   "source": [
    "# Patients still alive at the end of the study have the value '1900-01-01' - change the value for the end of the study date '2020-06-30'\n",
    "df['Fecha.de.mortalidad']= with(df, fifelse(Fecha.de.mortalidad == '1900-01-01', as.Date('2020-06-30', format='%Y-%m-%d'), Fecha.de.mortalidad))"
   ]
  },
  {
   "cell_type": "code",
   "execution_count": 7,
   "id": "e4035e76",
   "metadata": {},
   "outputs": [],
   "source": [
    "# Generate the new variables\n",
    "df['Time between head CT scan and blood analysis (days)']= df['Fecha.de.TC'] - df['Fecha.de.análisis.de.sangre']\n",
    "df['Age at the hospital admission date (years)']= agecalc(df['FECHA.DE.NACIMIENTO..día..mes..año.'], df['Fecha.de.ingreso'])\n",
    "df['Survival days after admission (days)']= df['Fecha.de.mortalidad'] - df['Fecha.de.ingreso']"
   ]
  },
  {
   "cell_type": "code",
   "execution_count": 8,
   "id": "64a6ca5f",
   "metadata": {},
   "outputs": [
    {
     "name": "stdout",
     "output_type": "stream",
     "text": [
      "[1] 58\n"
     ]
    }
   ],
   "source": [
    "# Patients borned in the hospital will have age 0 years\n",
    "df['Age at the hospital admission date (years)'][df['Age at the hospital admission date (years)'] < 0] = 0\n",
    "\n",
    "# Change values equal to 1234 to 1236 (1234 is the NA value in the original database)\n",
    "idx_1234= which(df['Survival days after admission (days)']== 1234)\n",
    "\n",
    "if (length(idx_1234)> 0){\n",
    "    df[idx_1234,'Survival days after admission (days)']= 1236\n",
    "    print(idx_1234)\n",
    "}"
   ]
  },
  {
   "cell_type": "markdown",
   "id": "ea9dc684",
   "metadata": {},
   "source": [
    "### 4. Anonymize the date values and save the database"
   ]
  },
  {
   "cell_type": "code",
   "execution_count": 9,
   "id": "0ebde1dc",
   "metadata": {},
   "outputs": [],
   "source": [
    "df[,c(dates1,dates2)]= 'anonymized'"
   ]
  },
  {
   "cell_type": "code",
   "execution_count": 10,
   "id": "2db51493",
   "metadata": {},
   "outputs": [],
   "source": [
    "write.csv(df, 'Databases/ICH_database_anonymized.csv', row.names=FALSE)"
   ]
  }
 ],
 "metadata": {
  "kernelspec": {
   "display_name": "R",
   "language": "R",
   "name": "ir"
  },
  "language_info": {
   "codemirror_mode": "r",
   "file_extension": ".r",
   "mimetype": "text/x-r-source",
   "name": "R",
   "pygments_lexer": "r",
   "version": "3.6.0"
  }
 },
 "nbformat": 4,
 "nbformat_minor": 5
}
