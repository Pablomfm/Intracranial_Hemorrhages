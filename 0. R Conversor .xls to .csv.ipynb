{
 "cells": [
  {
   "cell_type": "markdown",
   "id": "63486946",
   "metadata": {},
   "source": [
    "## Conversor .xls to .csv"
   ]
  },
  {
   "cell_type": "code",
   "execution_count": 1,
   "id": "0e876cbf",
   "metadata": {},
   "outputs": [],
   "source": [
    "library(readxl)"
   ]
  },
  {
   "cell_type": "code",
   "execution_count": 2,
   "id": "a7d0a993",
   "metadata": {},
   "outputs": [
    {
     "data": {
      "text/html": [
       "<table>\n",
       "<thead><tr><th scope=col>Variable_Name</th><th scope=col>Variable_R_Name</th><th scope=col>Variable_Label</th><th scope=col>Variable_Definition</th><th scope=col>R_Datatype</th><th scope=col>Python_Datatype</th><th scope=col>Pandas_Datatype</th><th scope=col>Values</th><th scope=col>Maximum_Number_of_Different_Values_in_the_Dataset</th><th scope=col>Comment</th><th scope=col>Type_of_Variable</th></tr></thead>\n",
       "<tbody>\n",
       "\t<tr><td>Patient Number                                                      </td><td>X                                                                   </td><td>patient                                                             </td><td>Patient index                                                       </td><td>numeric                                                             </td><td>int                                                                 </td><td>int64                                                               </td><td>From 1 to 300                                                       </td><td>300                                                                 </td><td>NA                                                                  </td><td>Auxiliary                                                           </td></tr>\n",
       "\t<tr><td>Marca temporal                                                      </td><td>Marca.temporal                                                      </td><td>index                                                               </td><td>Row index                                                           </td><td>numeric                                                             </td><td>int                                                                 </td><td>int64                                                               </td><td>From 1 to 300                                                       </td><td>300                                                                 </td><td>NA                                                                  </td><td>Auxiliary                                                           </td></tr>\n",
       "\t<tr><td>SEXO (1-Hombre; 2-Mujer)                                            </td><td>SEXO..1.Hombre..2.Mujer.                                            </td><td>sex                                                                 </td><td>Patient sex                                                         </td><td>factor                                                              </td><td>int                                                                 </td><td>category                                                            </td><td>1 (Men) or 2 (Women)                                                </td><td>  2                                                                 </td><td>NA                                                                  </td><td>Predictor                                                           </td></tr>\n",
       "\t<tr><td>Fecha de ingreso                                                    </td><td>Fecha.de.ingreso                                                    </td><td>date_adm                                                            </td><td>Admission date at emergency department                              </td><td>Date (%Y-%m-%d)                                                     </td><td>datetime.date (yyyy-mm-dd)                                          </td><td>datetime64                                                          </td><td>Date                                                                </td><td>300                                                                 </td><td>Anonymized                                                          </td><td>Auxiliary                                                           </td></tr>\n",
       "\t<tr><td>Fecha de alta                                                       </td><td>Fecha.de.alta                                                       </td><td>date_dischar                                                        </td><td>Hospital discharge date                                             </td><td>Date (%Y-%m-%d)                                                     </td><td>datetime.date (yyyy-mm-dd)                                          </td><td>datetime64                                                          </td><td>Date                                                                </td><td>300                                                                 </td><td>Anonymized                                                          </td><td>Auxiliary                                                           </td></tr>\n",
       "\t<tr><td>Hospital de Procedencia                                             </td><td>Hospital.de.Procedencia                                             </td><td>hospital                                                            </td><td>Hospital where patient was attended                                 </td><td>factor                                                              </td><td>int                                                                 </td><td>category                                                            </td><td>1 (Hospital A); 2 (Hospital B) or 2 (Hospital C); NA (Missing value)</td><td>  4                                                                 </td><td>NA                                                                  </td><td>Auxiliary                                                           </td></tr>\n",
       "</tbody>\n",
       "</table>\n"
      ],
      "text/latex": [
       "\\begin{tabular}{r|lllllllllll}\n",
       " Variable\\_Name & Variable\\_R\\_Name & Variable\\_Label & Variable\\_Definition & R\\_Datatype & Python\\_Datatype & Pandas\\_Datatype & Values & Maximum\\_Number\\_of\\_Different\\_Values\\_in\\_the\\_Dataset & Comment & Type\\_of\\_Variable\\\\\n",
       "\\hline\n",
       "\t Patient Number                                                       & X                                                                    & patient                                                              & Patient index                                                        & numeric                                                              & int                                                                  & int64                                                                & From 1 to 300                                                        & 300                                                                  & NA                                                                   & Auxiliary                                                           \\\\\n",
       "\t Marca temporal                                                       & Marca.temporal                                                       & index                                                                & Row index                                                            & numeric                                                              & int                                                                  & int64                                                                & From 1 to 300                                                        & 300                                                                  & NA                                                                   & Auxiliary                                                           \\\\\n",
       "\t SEXO (1-Hombre; 2-Mujer)                                             & SEXO..1.Hombre..2.Mujer.                                             & sex                                                                  & Patient sex                                                          & factor                                                               & int                                                                  & category                                                             & 1 (Men) or 2 (Women)                                                 &   2                                                                  & NA                                                                   & Predictor                                                           \\\\\n",
       "\t Fecha de ingreso                                                     & Fecha.de.ingreso                                                     & date\\_adm                                                           & Admission date at emergency department                               & Date (\\%Y-\\%m-\\%d)                                                & datetime.date (yyyy-mm-dd)                                           & datetime64                                                           & Date                                                                 & 300                                                                  & Anonymized                                                           & Auxiliary                                                           \\\\\n",
       "\t Fecha de alta                                                        & Fecha.de.alta                                                        & date\\_dischar                                                       & Hospital discharge date                                              & Date (\\%Y-\\%m-\\%d)                                                & datetime.date (yyyy-mm-dd)                                           & datetime64                                                           & Date                                                                 & 300                                                                  & Anonymized                                                           & Auxiliary                                                           \\\\\n",
       "\t Hospital de Procedencia                                              & Hospital.de.Procedencia                                              & hospital                                                             & Hospital where patient was attended                                  & factor                                                               & int                                                                  & category                                                             & 1 (Hospital A); 2 (Hospital B) or 2 (Hospital C); NA (Missing value) &   4                                                                  & NA                                                                   & Auxiliary                                                           \\\\\n",
       "\\end{tabular}\n"
      ],
      "text/markdown": [
       "\n",
       "| Variable_Name | Variable_R_Name | Variable_Label | Variable_Definition | R_Datatype | Python_Datatype | Pandas_Datatype | Values | Maximum_Number_of_Different_Values_in_the_Dataset | Comment | Type_of_Variable |\n",
       "|---|---|---|---|---|---|---|---|---|---|---|\n",
       "| Patient Number                                                       | X                                                                    | patient                                                              | Patient index                                                        | numeric                                                              | int                                                                  | int64                                                                | From 1 to 300                                                        | 300                                                                  | NA                                                                   | Auxiliary                                                            |\n",
       "| Marca temporal                                                       | Marca.temporal                                                       | index                                                                | Row index                                                            | numeric                                                              | int                                                                  | int64                                                                | From 1 to 300                                                        | 300                                                                  | NA                                                                   | Auxiliary                                                            |\n",
       "| SEXO (1-Hombre; 2-Mujer)                                             | SEXO..1.Hombre..2.Mujer.                                             | sex                                                                  | Patient sex                                                          | factor                                                               | int                                                                  | category                                                             | 1 (Men) or 2 (Women)                                                 |   2                                                                  | NA                                                                   | Predictor                                                            |\n",
       "| Fecha de ingreso                                                     | Fecha.de.ingreso                                                     | date_adm                                                             | Admission date at emergency department                               | Date (%Y-%m-%d)                                                      | datetime.date (yyyy-mm-dd)                                           | datetime64                                                           | Date                                                                 | 300                                                                  | Anonymized                                                           | Auxiliary                                                            |\n",
       "| Fecha de alta                                                        | Fecha.de.alta                                                        | date_dischar                                                         | Hospital discharge date                                              | Date (%Y-%m-%d)                                                      | datetime.date (yyyy-mm-dd)                                           | datetime64                                                           | Date                                                                 | 300                                                                  | Anonymized                                                           | Auxiliary                                                            |\n",
       "| Hospital de Procedencia                                              | Hospital.de.Procedencia                                              | hospital                                                             | Hospital where patient was attended                                  | factor                                                               | int                                                                  | category                                                             | 1 (Hospital A); 2 (Hospital B) or 2 (Hospital C); NA (Missing value) |   4                                                                  | NA                                                                   | Auxiliary                                                            |\n",
       "\n"
      ],
      "text/plain": [
       "  Variable_Name            Variable_R_Name          Variable_Label\n",
       "1 Patient Number           X                        patient       \n",
       "2 Marca temporal           Marca.temporal           index         \n",
       "3 SEXO (1-Hombre; 2-Mujer) SEXO..1.Hombre..2.Mujer. sex           \n",
       "4 Fecha de ingreso         Fecha.de.ingreso         date_adm      \n",
       "5 Fecha de alta            Fecha.de.alta            date_dischar  \n",
       "6 Hospital de Procedencia  Hospital.de.Procedencia  hospital      \n",
       "  Variable_Definition                    R_Datatype     \n",
       "1 Patient index                          numeric        \n",
       "2 Row index                              numeric        \n",
       "3 Patient sex                            factor         \n",
       "4 Admission date at emergency department Date (%Y-%m-%d)\n",
       "5 Hospital discharge date                Date (%Y-%m-%d)\n",
       "6 Hospital where patient was attended    factor         \n",
       "  Python_Datatype            Pandas_Datatype\n",
       "1 int                        int64          \n",
       "2 int                        int64          \n",
       "3 int                        category       \n",
       "4 datetime.date (yyyy-mm-dd) datetime64     \n",
       "5 datetime.date (yyyy-mm-dd) datetime64     \n",
       "6 int                        category       \n",
       "  Values                                                              \n",
       "1 From 1 to 300                                                       \n",
       "2 From 1 to 300                                                       \n",
       "3 1 (Men) or 2 (Women)                                                \n",
       "4 Date                                                                \n",
       "5 Date                                                                \n",
       "6 1 (Hospital A); 2 (Hospital B) or 2 (Hospital C); NA (Missing value)\n",
       "  Maximum_Number_of_Different_Values_in_the_Dataset Comment    Type_of_Variable\n",
       "1 300                                               NA         Auxiliary       \n",
       "2 300                                               NA         Auxiliary       \n",
       "3   2                                               NA         Predictor       \n",
       "4 300                                               Anonymized Auxiliary       \n",
       "5 300                                               Anonymized Auxiliary       \n",
       "6   4                                               NA         Auxiliary       "
      ]
     },
     "metadata": {},
     "output_type": "display_data"
    }
   ],
   "source": [
    "df= read_excel('Databases/ICH_database_anonymized_metadata.xls')\n",
    "head(df)"
   ]
  },
  {
   "cell_type": "code",
   "execution_count": 3,
   "id": "d1344c80",
   "metadata": {},
   "outputs": [],
   "source": [
    "write.csv(df, 'Databases/ICH_database_anonymized_metadata.csv', row.names=FALSE)"
   ]
  }
 ],
 "metadata": {
  "kernelspec": {
   "display_name": "R",
   "language": "R",
   "name": "ir"
  },
  "language_info": {
   "codemirror_mode": "r",
   "file_extension": ".r",
   "mimetype": "text/x-r-source",
   "name": "R",
   "pygments_lexer": "r",
   "version": "3.6.0"
  }
 },
 "nbformat": 4,
 "nbformat_minor": 5
}
